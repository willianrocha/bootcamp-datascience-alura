{
  "nbformat": 4,
  "nbformat_minor": 0,
  "metadata": {
    "colab": {
      "name": "ds_mod2_lecture6",
      "provenance": [],
      "authorship_tag": "ABX9TyO2RUs2ZcaMzyDPyWRuZ5/H",
      "include_colab_link": true
    },
    "kernelspec": {
      "name": "python3",
      "display_name": "Python 3"
    },
    "language_info": {
      "name": "python"
    }
  },
  "cells": [
    {
      "cell_type": "markdown",
      "metadata": {
        "id": "view-in-github",
        "colab_type": "text"
      },
      "source": [
        "<a href=\"https://colab.research.google.com/github/willianrocha/bootcamp-datascience-alura/blob/main/module_2/ds_mod2_lecture6.ipynb\" target=\"_parent\"><img src=\"https://colab.research.google.com/assets/colab-badge.svg\" alt=\"Open In Colab\"/></a>"
      ]
    },
    {
      "cell_type": "code",
      "metadata": {
        "colab": {
          "base_uri": "https://localhost:8080/"
        },
        "id": "2XlcQmX-sBao",
        "outputId": "418eb7a3-b18d-4547-e823-122c405d5294"
      },
      "source": [
        "!wget https://raw.githubusercontent.com/willianrocha/bootcamp-datascience-alura/main/files/dsbc.py\n",
        "from dsbc import *\n",
        "import matplotlib.pyplot as plt\n",
        "import matplotlib.ticker as ticker\n",
        "import seaborn as sns\n",
        "import numpy as np\n",
        "import pandas as pd\n",
        "from datetime import date\n",
        "\n",
        "pd.options.display.float_format = \"{:,.2f}\".format\n",
        "dados = pd.read_csv(\"https://github.com/willianrocha/bootcamp-datascience-alura/raw/main/files/A160324189_28_143_208.csv\", encoding=\"ISO-8859-1\",\n",
        "            skiprows=3, skipfooter=12, sep=\";\", thousands=\".\", decimal=\",\",\n",
        "            engine='python')\n",
        "colunas_usaveis = dados.mean().index.tolist()\n",
        "colunas_usaveis.insert(0, \"Unidade da Federação\")\n",
        "usaveis = dados[colunas_usaveis]\n",
        "usaveis = usaveis.set_index(\"Unidade da Federação\")\n",
        "ordenado_por_total = usaveis.sort_values(\"Total\", ascending=False)\n",
        "ordenado_por_total = ordenado_por_total.drop(\"Total\", axis=1)\n",
        "colunas_interessadas = ordenado_por_total.columns[6:]\n",
        "ordenado_por_total = ordenado_por_total[colunas_interessadas]\n",
        "ordenado_por_total = ordenado_por_total / 10**6\n",
        "ordenado_por_total.index = ordenado_por_total.index.str[3:]\n",
        "mes_mais_recente = ordenado_por_total.columns[-1]\n",
        "gastos_do_mais_recente = ordenado_por_total[mes_mais_recente]\n",
        "url = 'https://pt.wikipedia.org/wiki/Lista_de_unidades_federativas_do_Brasil_por_popula%C3%A7%C3%A3o'\n",
        "df_pop_por_uf = pd.read_html(url)\n",
        "df_pop_por_uf = df_pop_por_uf[0]\n",
        "\n",
        "gastos_e_populacao_recente = clean_n_join(df_pop_por_uf, gastos_do_mais_recente)\n",
        "gastos_e_populacao_recente[\"gastos\"] = gastos_e_populacao_recente[\"2020/Jul\"] * 10**6\n",
        "gastos_e_populacao_recente[\"gastos_por_habitante\"] = gastos_e_populacao_recente[\"gastos\"] / gastos_e_populacao_recente[\"populacao\"]\n",
        "mensal = ordenado_por_total.T\n",
        "\n",
        "mensal.index = mensal.index.map(para_dia)\n",
        "mensal_aberto = mensal.reset_index().melt(id_vars=['index'], value_vars=mensal.columns)\n",
        "mensal_aberto.columns = [\"dia_mes_ano\", \"uf\", \"gasto\"]"
      ],
      "execution_count": 1,
      "outputs": [
        {
          "output_type": "stream",
          "text": [
            "--2021-06-05 19:40:28--  https://raw.githubusercontent.com/willianrocha/bootcamp-datascience-alura/main/files/dsbc.py\n",
            "Resolving raw.githubusercontent.com (raw.githubusercontent.com)... 185.199.110.133, 185.199.108.133, 185.199.111.133, ...\n",
            "Connecting to raw.githubusercontent.com (raw.githubusercontent.com)|185.199.110.133|:443... connected.\n",
            "HTTP request sent, awaiting response... 200 OK\n",
            "Length: 1350 (1.3K) [text/plain]\n",
            "Saving to: ‘dsbc.py’\n",
            "\n",
            "dsbc.py             100%[===================>]   1.32K  --.-KB/s    in 0s      \n",
            "\n",
            "2021-06-05 19:40:29 (44.5 MB/s) - ‘dsbc.py’ saved [1350/1350]\n",
            "\n"
          ],
          "name": "stdout"
        }
      ]
    },
    {
      "cell_type": "code",
      "metadata": {
        "id": "nReFCmessP20"
      },
      "source": [
        "from calendar import monthrange\n",
        "\n",
        "mensal_aberto[\"dia_mes_ano\"] = mensal_aberto[\"dia_mes_ano\"].astype('datetime64')\n",
        "mensal_aberto[\"mes\"] = mensal_aberto[\"dia_mes_ano\"].dt.month\n",
        "mensal_aberto[\"ano\"] = mensal_aberto[\"dia_mes_ano\"].dt.year\n",
        "mensal_aberto['gasto_diario'] = mensal_aberto.apply(lambda x: monthrange(x['ano'], x['mes'])[1], axis=1)\n",
        "mensal_aberto['gasto_diario'] = mensal_aberto['gasto'] / mensal_aberto['gasto_diario']"
      ],
      "execution_count": 2,
      "outputs": []
    },
    {
      "cell_type": "code",
      "metadata": {
        "colab": {
          "base_uri": "https://localhost:8080/",
          "height": 204
        },
        "id": "qfc2JV37siGq",
        "outputId": "7351fc13-1914-4e67-946f-ee39efd03dbc"
      },
      "source": [
        "mensal_aberto.head()"
      ],
      "execution_count": 3,
      "outputs": [
        {
          "output_type": "execute_result",
          "data": {
            "text/html": [
              "<div>\n",
              "<style scoped>\n",
              "    .dataframe tbody tr th:only-of-type {\n",
              "        vertical-align: middle;\n",
              "    }\n",
              "\n",
              "    .dataframe tbody tr th {\n",
              "        vertical-align: top;\n",
              "    }\n",
              "\n",
              "    .dataframe thead th {\n",
              "        text-align: right;\n",
              "    }\n",
              "</style>\n",
              "<table border=\"1\" class=\"dataframe\">\n",
              "  <thead>\n",
              "    <tr style=\"text-align: right;\">\n",
              "      <th></th>\n",
              "      <th>dia_mes_ano</th>\n",
              "      <th>uf</th>\n",
              "      <th>gasto</th>\n",
              "      <th>mes</th>\n",
              "      <th>ano</th>\n",
              "      <th>gasto_diario</th>\n",
              "    </tr>\n",
              "  </thead>\n",
              "  <tbody>\n",
              "    <tr>\n",
              "      <th>0</th>\n",
              "      <td>2008-02-01</td>\n",
              "      <td>São Paulo</td>\n",
              "      <td>172.83</td>\n",
              "      <td>2</td>\n",
              "      <td>2008</td>\n",
              "      <td>5.96</td>\n",
              "    </tr>\n",
              "    <tr>\n",
              "      <th>1</th>\n",
              "      <td>2008-03-01</td>\n",
              "      <td>São Paulo</td>\n",
              "      <td>170.48</td>\n",
              "      <td>3</td>\n",
              "      <td>2008</td>\n",
              "      <td>5.50</td>\n",
              "    </tr>\n",
              "    <tr>\n",
              "      <th>2</th>\n",
              "      <td>2008-04-01</td>\n",
              "      <td>São Paulo</td>\n",
              "      <td>170.28</td>\n",
              "      <td>4</td>\n",
              "      <td>2008</td>\n",
              "      <td>5.68</td>\n",
              "    </tr>\n",
              "    <tr>\n",
              "      <th>3</th>\n",
              "      <td>2008-05-01</td>\n",
              "      <td>São Paulo</td>\n",
              "      <td>172.40</td>\n",
              "      <td>5</td>\n",
              "      <td>2008</td>\n",
              "      <td>5.56</td>\n",
              "    </tr>\n",
              "    <tr>\n",
              "      <th>4</th>\n",
              "      <td>2008-06-01</td>\n",
              "      <td>São Paulo</td>\n",
              "      <td>175.42</td>\n",
              "      <td>6</td>\n",
              "      <td>2008</td>\n",
              "      <td>5.85</td>\n",
              "    </tr>\n",
              "  </tbody>\n",
              "</table>\n",
              "</div>"
            ],
            "text/plain": [
              "  dia_mes_ano         uf  gasto  mes   ano  gasto_diario\n",
              "0  2008-02-01  São Paulo 172.83    2  2008          5.96\n",
              "1  2008-03-01  São Paulo 170.48    3  2008          5.50\n",
              "2  2008-04-01  São Paulo 170.28    4  2008          5.68\n",
              "3  2008-05-01  São Paulo 172.40    5  2008          5.56\n",
              "4  2008-06-01  São Paulo 175.42    6  2008          5.85"
            ]
          },
          "metadata": {
            "tags": []
          },
          "execution_count": 3
        }
      ]
    },
    {
      "cell_type": "code",
      "metadata": {
        "colab": {
          "base_uri": "https://localhost:8080/",
          "height": 204
        },
        "id": "i1R8Sdq4sjjS",
        "outputId": "a296866f-bc56-4df4-adc4-9930468cde4e"
      },
      "source": [
        "estado_a_analisar = mensal_aberto.query(\"uf == 'São Paulo'\")\n",
        "estado_a_analisar.head()"
      ],
      "execution_count": 6,
      "outputs": [
        {
          "output_type": "execute_result",
          "data": {
            "text/html": [
              "<div>\n",
              "<style scoped>\n",
              "    .dataframe tbody tr th:only-of-type {\n",
              "        vertical-align: middle;\n",
              "    }\n",
              "\n",
              "    .dataframe tbody tr th {\n",
              "        vertical-align: top;\n",
              "    }\n",
              "\n",
              "    .dataframe thead th {\n",
              "        text-align: right;\n",
              "    }\n",
              "</style>\n",
              "<table border=\"1\" class=\"dataframe\">\n",
              "  <thead>\n",
              "    <tr style=\"text-align: right;\">\n",
              "      <th></th>\n",
              "      <th>dia_mes_ano</th>\n",
              "      <th>uf</th>\n",
              "      <th>gasto</th>\n",
              "      <th>mes</th>\n",
              "      <th>ano</th>\n",
              "      <th>gasto_diario</th>\n",
              "    </tr>\n",
              "  </thead>\n",
              "  <tbody>\n",
              "    <tr>\n",
              "      <th>0</th>\n",
              "      <td>2008-02-01</td>\n",
              "      <td>São Paulo</td>\n",
              "      <td>172.83</td>\n",
              "      <td>2</td>\n",
              "      <td>2008</td>\n",
              "      <td>5.96</td>\n",
              "    </tr>\n",
              "    <tr>\n",
              "      <th>1</th>\n",
              "      <td>2008-03-01</td>\n",
              "      <td>São Paulo</td>\n",
              "      <td>170.48</td>\n",
              "      <td>3</td>\n",
              "      <td>2008</td>\n",
              "      <td>5.50</td>\n",
              "    </tr>\n",
              "    <tr>\n",
              "      <th>2</th>\n",
              "      <td>2008-04-01</td>\n",
              "      <td>São Paulo</td>\n",
              "      <td>170.28</td>\n",
              "      <td>4</td>\n",
              "      <td>2008</td>\n",
              "      <td>5.68</td>\n",
              "    </tr>\n",
              "    <tr>\n",
              "      <th>3</th>\n",
              "      <td>2008-05-01</td>\n",
              "      <td>São Paulo</td>\n",
              "      <td>172.40</td>\n",
              "      <td>5</td>\n",
              "      <td>2008</td>\n",
              "      <td>5.56</td>\n",
              "    </tr>\n",
              "    <tr>\n",
              "      <th>4</th>\n",
              "      <td>2008-06-01</td>\n",
              "      <td>São Paulo</td>\n",
              "      <td>175.42</td>\n",
              "      <td>6</td>\n",
              "      <td>2008</td>\n",
              "      <td>5.85</td>\n",
              "    </tr>\n",
              "  </tbody>\n",
              "</table>\n",
              "</div>"
            ],
            "text/plain": [
              "  dia_mes_ano         uf  gasto  mes   ano  gasto_diario\n",
              "0  2008-02-01  São Paulo 172.83    2  2008          5.96\n",
              "1  2008-03-01  São Paulo 170.48    3  2008          5.50\n",
              "2  2008-04-01  São Paulo 170.28    4  2008          5.68\n",
              "3  2008-05-01  São Paulo 172.40    5  2008          5.56\n",
              "4  2008-06-01  São Paulo 175.42    6  2008          5.85"
            ]
          },
          "metadata": {
            "tags": []
          },
          "execution_count": 6
        }
      ]
    },
    {
      "cell_type": "code",
      "metadata": {
        "colab": {
          "base_uri": "https://localhost:8080/",
          "height": 235
        },
        "id": "cdUhOczksvJx",
        "outputId": "26d7399b-3ff2-4353-fd2b-ad2c64d496ec"
      },
      "source": [
        "gastos_por_ano = estado_a_analisar.groupby(\"ano\").sum()\n",
        "gastos_por_ano.head()"
      ],
      "execution_count": 8,
      "outputs": [
        {
          "output_type": "execute_result",
          "data": {
            "text/html": [
              "<div>\n",
              "<style scoped>\n",
              "    .dataframe tbody tr th:only-of-type {\n",
              "        vertical-align: middle;\n",
              "    }\n",
              "\n",
              "    .dataframe tbody tr th {\n",
              "        vertical-align: top;\n",
              "    }\n",
              "\n",
              "    .dataframe thead th {\n",
              "        text-align: right;\n",
              "    }\n",
              "</style>\n",
              "<table border=\"1\" class=\"dataframe\">\n",
              "  <thead>\n",
              "    <tr style=\"text-align: right;\">\n",
              "      <th></th>\n",
              "      <th>gasto</th>\n",
              "      <th>mes</th>\n",
              "      <th>gasto_diario</th>\n",
              "    </tr>\n",
              "    <tr>\n",
              "      <th>ano</th>\n",
              "      <th></th>\n",
              "      <th></th>\n",
              "      <th></th>\n",
              "    </tr>\n",
              "  </thead>\n",
              "  <tbody>\n",
              "    <tr>\n",
              "      <th>2008</th>\n",
              "      <td>1,960.23</td>\n",
              "      <td>77</td>\n",
              "      <td>64.39</td>\n",
              "    </tr>\n",
              "    <tr>\n",
              "      <th>2009</th>\n",
              "      <td>2,489.03</td>\n",
              "      <td>78</td>\n",
              "      <td>81.82</td>\n",
              "    </tr>\n",
              "    <tr>\n",
              "      <th>2010</th>\n",
              "      <td>2,696.62</td>\n",
              "      <td>78</td>\n",
              "      <td>88.63</td>\n",
              "    </tr>\n",
              "    <tr>\n",
              "      <th>2011</th>\n",
              "      <td>2,794.55</td>\n",
              "      <td>78</td>\n",
              "      <td>91.91</td>\n",
              "    </tr>\n",
              "    <tr>\n",
              "      <th>2012</th>\n",
              "      <td>2,873.97</td>\n",
              "      <td>78</td>\n",
              "      <td>94.20</td>\n",
              "    </tr>\n",
              "  </tbody>\n",
              "</table>\n",
              "</div>"
            ],
            "text/plain": [
              "        gasto  mes  gasto_diario\n",
              "ano                             \n",
              "2008 1,960.23   77         64.39\n",
              "2009 2,489.03   78         81.82\n",
              "2010 2,696.62   78         88.63\n",
              "2011 2,794.55   78         91.91\n",
              "2012 2,873.97   78         94.20"
            ]
          },
          "metadata": {
            "tags": []
          },
          "execution_count": 8
        }
      ]
    },
    {
      "cell_type": "code",
      "metadata": {
        "colab": {
          "base_uri": "https://localhost:8080/",
          "height": 296
        },
        "id": "QK9HB3gitBx1",
        "outputId": "578ca6b6-ce0f-475e-f1db-406403ff61c2"
      },
      "source": [
        "sns.scatterplot(data=gastos_por_ano, x=gastos_por_ano.index, y=\"gasto\")"
      ],
      "execution_count": 9,
      "outputs": [
        {
          "output_type": "execute_result",
          "data": {
            "text/plain": [
              "<matplotlib.axes._subplots.AxesSubplot at 0x7f0c24095d90>"
            ]
          },
          "metadata": {
            "tags": []
          },
          "execution_count": 9
        },
        {
          "output_type": "display_data",
          "data": {
            "image/png": "[encoded data removed]",
            "text/plain": [
              "<Figure size 432x288 with 1 Axes>"
            ]
          },
          "metadata": {
            "tags": [],
            "needs_background": "light"
          }
        }
      ]
    },
    {
      "cell_type": "code",
      "metadata": {
        "colab": {
          "base_uri": "https://localhost:8080/",
          "height": 296
        },
        "id": "C_NpfhmYtjqD",
        "outputId": "8a26cd69-19f0-4a0f-9e5c-5a3c859f0501"
      },
      "source": [
        "sns.lineplot(data=gastos_por_ano, x=gastos_por_ano.index, y=\"gasto\")"
      ],
      "execution_count": 10,
      "outputs": [
        {
          "output_type": "execute_result",
          "data": {
            "text/plain": [
              "<matplotlib.axes._subplots.AxesSubplot at 0x7f0c23f9e950>"
            ]
          },
          "metadata": {
            "tags": []
          },
          "execution_count": 10
        },
        {
          "output_type": "display_data",
          "data": {
            "image/png": "[encoded data removed]",
            "text/plain": [
              "<Figure size 432x288 with 1 Axes>"
            ]
          },
          "metadata": {
            "tags": [],
            "needs_background": "light"
          }
        }
      ]
    },
    {
      "cell_type": "code",
      "metadata": {
        "colab": {
          "base_uri": "https://localhost:8080/",
          "height": 296
        },
        "id": "KxjZgTbrto7x",
        "outputId": "90d707aa-2c03-4b27-8ba9-999db5134910"
      },
      "source": [
        "sns.barplot(data=gastos_por_ano, x=gastos_por_ano.index, y=\"gasto\", palette=sns.color_palette(\"rocket_r\",13))#palette='rocket')"
      ],
      "execution_count": 17,
      "outputs": [
        {
          "output_type": "execute_result",
          "data": {
            "text/plain": [
              "<matplotlib.axes._subplots.AxesSubplot at 0x7f0c24323850>"
            ]
          },
          "metadata": {
            "tags": []
          },
          "execution_count": 17
        },
        {
          "output_type": "display_data",
          "data": {
            "image/png": "[encoded data removed]",
            "text/plain": [
              "<Figure size 432x288 with 1 Axes>"
            ]
          },
          "metadata": {
            "tags": [],
            "needs_background": "light"
          }
        }
      ]
    },
    {
      "cell_type": "code",
      "metadata": {
        "colab": {
          "base_uri": "https://localhost:8080/",
          "height": 204
        },
        "id": "nSoGJPodvDER",
        "outputId": "3aadd251-c151-4c71-d6d5-72c9a4c10a4c"
      },
      "source": [
        "estados = [\"São Paulo\", \"Minas Gerais\", \"Pernambuco\"]\n",
        "por_ano_dos_estados = mensal_aberto.query(\"uf in @estados\").groupby([\"uf\", \"ano\"]).sum().reset_index()\n",
        "por_ano_dos_estados.head()"
      ],
      "execution_count": 24,
      "outputs": [
        {
          "output_type": "execute_result",
          "data": {
            "text/html": [
              "<div>\n",
              "<style scoped>\n",
              "    .dataframe tbody tr th:only-of-type {\n",
              "        vertical-align: middle;\n",
              "    }\n",
              "\n",
              "    .dataframe tbody tr th {\n",
              "        vertical-align: top;\n",
              "    }\n",
              "\n",
              "    .dataframe thead th {\n",
              "        text-align: right;\n",
              "    }\n",
              "</style>\n",
              "<table border=\"1\" class=\"dataframe\">\n",
              "  <thead>\n",
              "    <tr style=\"text-align: right;\">\n",
              "      <th></th>\n",
              "      <th>uf</th>\n",
              "      <th>ano</th>\n",
              "      <th>gasto</th>\n",
              "      <th>mes</th>\n",
              "      <th>gasto_diario</th>\n",
              "    </tr>\n",
              "  </thead>\n",
              "  <tbody>\n",
              "    <tr>\n",
              "      <th>0</th>\n",
              "      <td>Minas Gerais</td>\n",
              "      <td>2008</td>\n",
              "      <td>894.35</td>\n",
              "      <td>77</td>\n",
              "      <td>29.36</td>\n",
              "    </tr>\n",
              "    <tr>\n",
              "      <th>1</th>\n",
              "      <td>Minas Gerais</td>\n",
              "      <td>2009</td>\n",
              "      <td>1,149.14</td>\n",
              "      <td>78</td>\n",
              "      <td>37.77</td>\n",
              "    </tr>\n",
              "    <tr>\n",
              "      <th>2</th>\n",
              "      <td>Minas Gerais</td>\n",
              "      <td>2010</td>\n",
              "      <td>1,217.49</td>\n",
              "      <td>78</td>\n",
              "      <td>40.03</td>\n",
              "    </tr>\n",
              "    <tr>\n",
              "      <th>3</th>\n",
              "      <td>Minas Gerais</td>\n",
              "      <td>2011</td>\n",
              "      <td>1,315.02</td>\n",
              "      <td>78</td>\n",
              "      <td>43.24</td>\n",
              "    </tr>\n",
              "    <tr>\n",
              "      <th>4</th>\n",
              "      <td>Minas Gerais</td>\n",
              "      <td>2012</td>\n",
              "      <td>1,408.35</td>\n",
              "      <td>78</td>\n",
              "      <td>46.16</td>\n",
              "    </tr>\n",
              "  </tbody>\n",
              "</table>\n",
              "</div>"
            ],
            "text/plain": [
              "             uf   ano    gasto  mes  gasto_diario\n",
              "0  Minas Gerais  2008   894.35   77         29.36\n",
              "1  Minas Gerais  2009 1,149.14   78         37.77\n",
              "2  Minas Gerais  2010 1,217.49   78         40.03\n",
              "3  Minas Gerais  2011 1,315.02   78         43.24\n",
              "4  Minas Gerais  2012 1,408.35   78         46.16"
            ]
          },
          "metadata": {
            "tags": []
          },
          "execution_count": 24
        }
      ]
    },
    {
      "cell_type": "code",
      "metadata": {
        "colab": {
          "base_uri": "https://localhost:8080/",
          "height": 296
        },
        "id": "cOzOAwHDwjzs",
        "outputId": "4d578e21-50a8-4063-8c12-4edde0252da0"
      },
      "source": [
        "sns.barplot(data=por_ano_dos_estados, x=\"ano\", y=\"gasto\", hue=\"uf\")"
      ],
      "execution_count": 28,
      "outputs": [
        {
          "output_type": "execute_result",
          "data": {
            "text/plain": [
              "<matplotlib.axes._subplots.AxesSubplot at 0x7f0c1ec92c50>"
            ]
          },
          "metadata": {
            "tags": []
          },
          "execution_count": 28
        },
        {
          "output_type": "display_data",
          "data": {
            "image/png": "[encoded data removed]",
            "text/plain": [
              "<Figure size 432x288 with 1 Axes>"
            ]
          },
          "metadata": {
            "tags": [],
            "needs_background": "light"
          }
        }
      ]
    },
    {
      "cell_type": "code",
      "metadata": {
        "colab": {
          "base_uri": "https://localhost:8080/",
          "height": 400
        },
        "id": "1ltgGkujwz2u",
        "outputId": "8b01e19a-4305-48f4-aac1-f25f15e66334"
      },
      "source": [
        " sns.catplot(data=por_ano_dos_estados, x=\"ano\", y=\"gasto\", kind=\"bar\", col=\"uf\")"
      ],
      "execution_count": 30,
      "outputs": [
        {
          "output_type": "execute_result",
          "data": {
            "text/plain": [
              "<seaborn.axisgrid.FacetGrid at 0x7f0c1626ab90>"
            ]
          },
          "metadata": {
            "tags": []
          },
          "execution_count": 30
        },
        {
          "output_type": "display_data",
          "data": {
            "image/png": "[encoded data removed]",
            "text/plain": [
              "<Figure size 1080x360 with 3 Axes>"
            ]
          },
          "metadata": {
            "tags": [],
            "needs_background": "light"
          }
        }
      ]
    },
    {
      "cell_type": "markdown",
      "metadata": {
        "id": "xH6VfN-1zAf5"
      },
      "source": [
        "# Desafio"
      ]
    },
    {
      "cell_type": "markdown",
      "metadata": {
        "id": "ZvQxxKrKzBy9"
      },
      "source": [
        "## Desafio 01: Reordenar as cores pelo valor do eixo y."
      ]
    },
    {
      "cell_type": "code",
      "metadata": {
        "colab": {
          "base_uri": "https://localhost:8080/",
          "height": 296
        },
        "id": "HLui_YbvzNZa",
        "outputId": "693a9520-c578-4a57-a152-4014b70a2b5c"
      },
      "source": [
        "sns.barplot(data=gastos_por_ano, x=gastos_por_ano.index, y=\"gasto\", hue=\"gasto\", dodge=False, palette=sns.color_palette(\"rocket_r\",13))#palette='rocket')\n",
        "plt.legend('')"
      ],
      "execution_count": 49,
      "outputs": [
        {
          "output_type": "execute_result",
          "data": {
            "text/plain": [
              "<matplotlib.legend.Legend at 0x7f0c086bded0>"
            ]
          },
          "metadata": {
            "tags": []
          },
          "execution_count": 49
        },
        {
          "output_type": "display_data",
          "data": {
            "image/png": "[encoded data removed]",
            "text/plain": [
              "<Figure size 432x288 with 1 Axes>"
            ]
          },
          "metadata": {
            "tags": [],
            "needs_background": "light"
          }
        }
      ]
    },
    {
      "cell_type": "markdown",
      "metadata": {
        "id": "dNdGqP-HzEja"
      },
      "source": [
        "## Desafio 02: Explorar a documentação do Seaborn."
      ]
    },
    {
      "cell_type": "markdown",
      "metadata": {
        "id": "QoDyh-9zzGjq"
      },
      "source": [
        "## Desafio 03: Pensar e elaborar novos gráficos depois de estudar o Seaborn, compartilhar com uma breve descrição no Discord, para que outros colegas aprendam sobre o gráfico usado."
      ]
    },
    {
      "cell_type": "code",
      "metadata": {
        "colab": {
          "base_uri": "https://localhost:8080/",
          "height": 383
        },
        "id": "hPtdB9tm2Wd-",
        "outputId": "238e332e-a6c4-461b-c3f8-c4f84d07e8d5"
      },
      "source": [
        "ax = sns.catplot(data=por_ano_dos_estados, x=\"ano\", y=\"gasto\", kind=\"bar\", col=\"uf\", hue=\"gasto\", dodge=False, palette=sns.color_palette(\"rocket_r\",13))\n",
        "ax._legend.remove()"
      ],
      "execution_count": 47,
      "outputs": [
        {
          "output_type": "display_data",
          "data": {
            "image/png": "[encoded data removed]",
            "text/plain": [
              "<Figure size 1227.25x360 with 3 Axes>"
            ]
          },
          "metadata": {
            "tags": [],
            "needs_background": "light"
          }
        }
      ]
    },
    {
      "cell_type": "markdown",
      "metadata": {
        "id": "CT5EEowdzIWp"
      },
      "source": [
        "## Desafio 04: Baixe uma outra base de dados do tabnet e execute sua análise de forma similar a aula."
      ]
    }
  ]
}