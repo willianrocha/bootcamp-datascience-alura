{
  "nbformat": 4,
  "nbformat_minor": 0,
  "metadata": {
    "colab": {
      "name": "ds_mod2_lecture2",
      "provenance": [],
      "authorship_tag": "ABX9TyNGRYUoBYbNnXvuvn7UX4Zj",
      "include_colab_link": true
    },
    "kernelspec": {
      "name": "python3",
      "display_name": "Python 3"
    },
    "language_info": {
      "name": "python"
    }
  },
  "cells": [
    {
      "cell_type": "markdown",
      "metadata": {
        "id": "view-in-github",
        "colab_type": "text"
      },
      "source": [
        "<a href=\"https://colab.research.google.com/github/willianrocha/bootcamp-datascience-alura/blob/main/module_2/ds_mod2_lecture2.ipynb\" target=\"_parent\"><img src=\"https://colab.research.google.com/assets/colab-badge.svg\" alt=\"Open In Colab\"/></a>"
      ]
    },
    {
      "cell_type": "code",
      "metadata": {
        "colab": {
          "base_uri": "https://localhost:8080/",
          "height": 355
        },
        "id": "GxKa5FiG7B6s",
        "outputId": "76e2ba77-91af-479d-ef61-16c934d62a38"
      },
      "source": [
        "import matplotlib.pyplot as plt\n",
        "import matplotlib.ticker as ticker\n",
        "import numpy as np\n",
        "import pandas as pd\n",
        "from google.colab import drive\n",
        "drive.mount('/content/drive')\n",
        "# Mind the path for the csv file in your gdrive\n",
        "!cp \"/content/drive/MyDrive/alura/bootcamp-data-science/A160324189_28_143_208.csv\" .\n",
        "pd.options.display.float_format = \"{:,.2f}\".format\n",
        "dados = pd.read_csv(\"https://raw.githubusercontent.com/willianrocha/bootcamp-datascience-alura/main/module_1/files/A160324189_28_143_208.csv\", encoding=\"ISO-8859-1\",\n",
        "            skiprows=3, skipfooter=12, sep=\";\", thousands=\".\", decimal=\",\",\n",
        "            engine='python')\n",
        "dados.head()"
      ],
      "execution_count": 5,
      "outputs": [
        {
          "output_type": "stream",
          "text": [
            "Drive already mounted at /content/drive; to attempt to forcibly remount, call drive.mount(\"/content/drive\", force_remount=True).\n"
          ],
          "name": "stdout"
        },
        {
          "output_type": "execute_result",
          "data": {
            "text/html": [
              "<div>\n",
              "<style scoped>\n",
              "    .dataframe tbody tr th:only-of-type {\n",
              "        vertical-align: middle;\n",
              "    }\n",
              "\n",
              "    .dataframe tbody tr th {\n",
              "        vertical-align: top;\n",
              "    }\n",
              "\n",
              "    .dataframe thead th {\n",
              "        text-align: right;\n",
              "    }\n",
              "</style>\n",
              "<table border=\"1\" class=\"dataframe\">\n",
              "  <thead>\n",
              "    <tr style=\"text-align: right;\">\n",
              "      <th></th>\n",
              "      <th>Unidade da Federação</th>\n",
              "      <th>1992/Mar</th>\n",
              "      <th>1992/Abr</th>\n",
              "      <th>1993/Mai</th>\n",
              "      <th>1993/Dez</th>\n",
              "      <th>1994/Jan</th>\n",
              "      <th>1994/Fev</th>\n",
              "      <th>1994/Mai</th>\n",
              "      <th>1994/Ago</th>\n",
              "      <th>1994/Nov</th>\n",
              "      <th>1995/Jan</th>\n",
              "      <th>1995/Mar</th>\n",
              "      <th>1995/Jun</th>\n",
              "      <th>1995/Ago</th>\n",
              "      <th>1995/Dez</th>\n",
              "      <th>1996/Fev</th>\n",
              "      <th>1996/Mar</th>\n",
              "      <th>1996/Ago</th>\n",
              "      <th>1996/Dez</th>\n",
              "      <th>1997/Fev</th>\n",
              "      <th>1997/Nov</th>\n",
              "      <th>1998/Fev</th>\n",
              "      <th>1998/Mar</th>\n",
              "      <th>1998/Jul</th>\n",
              "      <th>1998/Ago</th>\n",
              "      <th>1998/Set</th>\n",
              "      <th>1998/Out</th>\n",
              "      <th>1998/Dez</th>\n",
              "      <th>1999/Fev</th>\n",
              "      <th>1999/Mar</th>\n",
              "      <th>1999/Mai</th>\n",
              "      <th>1999/Jul</th>\n",
              "      <th>1999/Ago</th>\n",
              "      <th>1999/Set</th>\n",
              "      <th>1999/Out</th>\n",
              "      <th>1999/Nov</th>\n",
              "      <th>1999/Dez</th>\n",
              "      <th>2000/Jan</th>\n",
              "      <th>2000/Fev</th>\n",
              "      <th>2000/Mar</th>\n",
              "      <th>...</th>\n",
              "      <th>2017/Jun</th>\n",
              "      <th>2017/Jul</th>\n",
              "      <th>2017/Ago</th>\n",
              "      <th>2017/Set</th>\n",
              "      <th>2017/Out</th>\n",
              "      <th>2017/Nov</th>\n",
              "      <th>2017/Dez</th>\n",
              "      <th>2018/Jan</th>\n",
              "      <th>2018/Fev</th>\n",
              "      <th>2018/Mar</th>\n",
              "      <th>2018/Abr</th>\n",
              "      <th>2018/Mai</th>\n",
              "      <th>2018/Jun</th>\n",
              "      <th>2018/Jul</th>\n",
              "      <th>2018/Ago</th>\n",
              "      <th>2018/Set</th>\n",
              "      <th>2018/Out</th>\n",
              "      <th>2018/Nov</th>\n",
              "      <th>2018/Dez</th>\n",
              "      <th>2019/Jan</th>\n",
              "      <th>2019/Fev</th>\n",
              "      <th>2019/Mar</th>\n",
              "      <th>2019/Abr</th>\n",
              "      <th>2019/Mai</th>\n",
              "      <th>2019/Jun</th>\n",
              "      <th>2019/Jul</th>\n",
              "      <th>2019/Ago</th>\n",
              "      <th>2019/Set</th>\n",
              "      <th>2019/Out</th>\n",
              "      <th>2019/Nov</th>\n",
              "      <th>2019/Dez</th>\n",
              "      <th>2020/Jan</th>\n",
              "      <th>2020/Fev</th>\n",
              "      <th>2020/Mar</th>\n",
              "      <th>2020/Abr</th>\n",
              "      <th>2020/Mai</th>\n",
              "      <th>2020/Jun</th>\n",
              "      <th>2020/Jul</th>\n",
              "      <th>2020/Ago</th>\n",
              "      <th>Total</th>\n",
              "    </tr>\n",
              "  </thead>\n",
              "  <tbody>\n",
              "    <tr>\n",
              "      <th>0</th>\n",
              "      <td>11 Rondônia</td>\n",
              "      <td>-</td>\n",
              "      <td>-</td>\n",
              "      <td>-</td>\n",
              "      <td>-</td>\n",
              "      <td>-</td>\n",
              "      <td>-</td>\n",
              "      <td>-</td>\n",
              "      <td>-</td>\n",
              "      <td>-</td>\n",
              "      <td>-</td>\n",
              "      <td>-</td>\n",
              "      <td>-</td>\n",
              "      <td>-</td>\n",
              "      <td>-</td>\n",
              "      <td>-</td>\n",
              "      <td>-</td>\n",
              "      <td>-</td>\n",
              "      <td>-</td>\n",
              "      <td>-</td>\n",
              "      <td>-</td>\n",
              "      <td>-</td>\n",
              "      <td>-</td>\n",
              "      <td>-</td>\n",
              "      <td>-</td>\n",
              "      <td>-</td>\n",
              "      <td>-</td>\n",
              "      <td>-</td>\n",
              "      <td>-</td>\n",
              "      <td>-</td>\n",
              "      <td>-</td>\n",
              "      <td>-</td>\n",
              "      <td>-</td>\n",
              "      <td>-</td>\n",
              "      <td>-</td>\n",
              "      <td>-</td>\n",
              "      <td>-</td>\n",
              "      <td>-</td>\n",
              "      <td>-</td>\n",
              "      <td>-</td>\n",
              "      <td>...</td>\n",
              "      <td>8,041,248.80</td>\n",
              "      <td>8,199,032.67</td>\n",
              "      <td>8,363,386.07</td>\n",
              "      <td>7,889,819.50</td>\n",
              "      <td>8,603,943.85</td>\n",
              "      <td>8,048,398.25</td>\n",
              "      <td>8,159,737.49</td>\n",
              "      <td>8,457,455.71</td>\n",
              "      <td>7,766,983.20</td>\n",
              "      <td>8,858,845.57</td>\n",
              "      <td>8,407,076.44</td>\n",
              "      <td>9,492,938.92</td>\n",
              "      <td>8,206,195.92</td>\n",
              "      <td>9,011,612.58</td>\n",
              "      <td>9,124,967.84</td>\n",
              "      <td>8,406,732.72</td>\n",
              "      <td>8,411,360.02</td>\n",
              "      <td>8,651,081.66</td>\n",
              "      <td>8,193,425.99</td>\n",
              "      <td>8,388,269.45</td>\n",
              "      <td>8,645,315.78</td>\n",
              "      <td>9,050,329.13</td>\n",
              "      <td>9,211,262.51</td>\n",
              "      <td>9,490,545.02</td>\n",
              "      <td>8,600,886.20</td>\n",
              "      <td>8,919,190.86</td>\n",
              "      <td>8,909,111.89</td>\n",
              "      <td>8,409,386.09</td>\n",
              "      <td>8,924,348.41</td>\n",
              "      <td>8,948,605.66</td>\n",
              "      <td>8,660,753.05</td>\n",
              "      <td>8,326,416.32</td>\n",
              "      <td>8,413,784.42</td>\n",
              "      <td>7,174,312.31</td>\n",
              "      <td>7,423,678.64</td>\n",
              "      <td>8,581,195.13</td>\n",
              "      <td>9,193,593.76</td>\n",
              "      <td>7,407,388.24</td>\n",
              "      <td>3556381.57</td>\n",
              "      <td>929,129,659.72</td>\n",
              "    </tr>\n",
              "    <tr>\n",
              "      <th>1</th>\n",
              "      <td>12 Acre</td>\n",
              "      <td>-</td>\n",
              "      <td>-</td>\n",
              "      <td>-</td>\n",
              "      <td>-</td>\n",
              "      <td>-</td>\n",
              "      <td>-</td>\n",
              "      <td>-</td>\n",
              "      <td>-</td>\n",
              "      <td>-</td>\n",
              "      <td>-</td>\n",
              "      <td>-</td>\n",
              "      <td>-</td>\n",
              "      <td>-</td>\n",
              "      <td>-</td>\n",
              "      <td>-</td>\n",
              "      <td>-</td>\n",
              "      <td>-</td>\n",
              "      <td>-</td>\n",
              "      <td>-</td>\n",
              "      <td>-</td>\n",
              "      <td>-</td>\n",
              "      <td>-</td>\n",
              "      <td>-</td>\n",
              "      <td>-</td>\n",
              "      <td>-</td>\n",
              "      <td>-</td>\n",
              "      <td>-</td>\n",
              "      <td>-</td>\n",
              "      <td>-</td>\n",
              "      <td>-</td>\n",
              "      <td>-</td>\n",
              "      <td>-</td>\n",
              "      <td>-</td>\n",
              "      <td>-</td>\n",
              "      <td>-</td>\n",
              "      <td>-</td>\n",
              "      <td>-</td>\n",
              "      <td>-</td>\n",
              "      <td>-</td>\n",
              "      <td>...</td>\n",
              "      <td>3,355,223.35</td>\n",
              "      <td>3,562,691.54</td>\n",
              "      <td>3,375,296.64</td>\n",
              "      <td>3,341,497.58</td>\n",
              "      <td>3,358,378.05</td>\n",
              "      <td>3,145,385.44</td>\n",
              "      <td>2,638,773.92</td>\n",
              "      <td>2,968,168.75</td>\n",
              "      <td>2,769,797.39</td>\n",
              "      <td>3,057,631.96</td>\n",
              "      <td>2,874,965.31</td>\n",
              "      <td>3,175,575.17</td>\n",
              "      <td>3,060,903.21</td>\n",
              "      <td>3,253,011.61</td>\n",
              "      <td>3,040,645.05</td>\n",
              "      <td>2,926,179.27</td>\n",
              "      <td>3,126,120.64</td>\n",
              "      <td>2,473,454.85</td>\n",
              "      <td>2,277,493.49</td>\n",
              "      <td>2,594,347.32</td>\n",
              "      <td>2,234,388.36</td>\n",
              "      <td>2,473,008.49</td>\n",
              "      <td>2,979,764.77</td>\n",
              "      <td>3,070,533.95</td>\n",
              "      <td>3,249,052.69</td>\n",
              "      <td>3,567,538.64</td>\n",
              "      <td>2,981,072.98</td>\n",
              "      <td>2,998,860.31</td>\n",
              "      <td>3,293,378.97</td>\n",
              "      <td>3,174,249.43</td>\n",
              "      <td>2,959,569.09</td>\n",
              "      <td>3,261,123.88</td>\n",
              "      <td>2,981,264.22</td>\n",
              "      <td>2,859,102.06</td>\n",
              "      <td>2,472,063.08</td>\n",
              "      <td>2,383,895.48</td>\n",
              "      <td>2,199,920.70</td>\n",
              "      <td>1,163,813.08</td>\n",
              "      <td>-</td>\n",
              "      <td>420,668,039.63</td>\n",
              "    </tr>\n",
              "    <tr>\n",
              "      <th>2</th>\n",
              "      <td>13 Amazonas</td>\n",
              "      <td>-</td>\n",
              "      <td>-</td>\n",
              "      <td>-</td>\n",
              "      <td>-</td>\n",
              "      <td>-</td>\n",
              "      <td>-</td>\n",
              "      <td>-</td>\n",
              "      <td>-</td>\n",
              "      <td>-</td>\n",
              "      <td>-</td>\n",
              "      <td>-</td>\n",
              "      <td>-</td>\n",
              "      <td>-</td>\n",
              "      <td>-</td>\n",
              "      <td>-</td>\n",
              "      <td>-</td>\n",
              "      <td>-</td>\n",
              "      <td>-</td>\n",
              "      <td>-</td>\n",
              "      <td>-</td>\n",
              "      <td>-</td>\n",
              "      <td>-</td>\n",
              "      <td>-</td>\n",
              "      <td>-</td>\n",
              "      <td>-</td>\n",
              "      <td>-</td>\n",
              "      <td>-</td>\n",
              "      <td>-</td>\n",
              "      <td>-</td>\n",
              "      <td>-</td>\n",
              "      <td>-</td>\n",
              "      <td>-</td>\n",
              "      <td>-</td>\n",
              "      <td>-</td>\n",
              "      <td>-</td>\n",
              "      <td>-</td>\n",
              "      <td>-</td>\n",
              "      <td>-</td>\n",
              "      <td>-</td>\n",
              "      <td>...</td>\n",
              "      <td>13,718,828.46</td>\n",
              "      <td>14,396,210.86</td>\n",
              "      <td>13,745,304.22</td>\n",
              "      <td>13,979,792.94</td>\n",
              "      <td>13,895,515.90</td>\n",
              "      <td>13,518,116.80</td>\n",
              "      <td>13,635,186.02</td>\n",
              "      <td>14,549,450.86</td>\n",
              "      <td>12,753,555.36</td>\n",
              "      <td>14,749,409.47</td>\n",
              "      <td>14,577,930.81</td>\n",
              "      <td>15,381,061.96</td>\n",
              "      <td>14,653,650.77</td>\n",
              "      <td>15,544,595.79</td>\n",
              "      <td>16,374,961.41</td>\n",
              "      <td>15,343,340.93</td>\n",
              "      <td>16,249,963.61</td>\n",
              "      <td>14,255,408.82</td>\n",
              "      <td>14,274,053.94</td>\n",
              "      <td>15,358,914.00</td>\n",
              "      <td>14,100,074.56</td>\n",
              "      <td>16,103,971.89</td>\n",
              "      <td>16,154,491.82</td>\n",
              "      <td>16,529,976.06</td>\n",
              "      <td>15,509,984.83</td>\n",
              "      <td>16,642,220.71</td>\n",
              "      <td>16,493,719.52</td>\n",
              "      <td>15,346,323.27</td>\n",
              "      <td>16,282,436.68</td>\n",
              "      <td>14,781,332.42</td>\n",
              "      <td>14,923,380.22</td>\n",
              "      <td>15,939,561.23</td>\n",
              "      <td>15,138,110.70</td>\n",
              "      <td>14,773,739.41</td>\n",
              "      <td>16,330,913.81</td>\n",
              "      <td>19,441,150.53</td>\n",
              "      <td>17,509,334.66</td>\n",
              "      <td>13,358,514.02</td>\n",
              "      <td>4726485.73</td>\n",
              "      <td>1,771,654,871.23</td>\n",
              "    </tr>\n",
              "    <tr>\n",
              "      <th>3</th>\n",
              "      <td>14 Roraima</td>\n",
              "      <td>-</td>\n",
              "      <td>-</td>\n",
              "      <td>-</td>\n",
              "      <td>-</td>\n",
              "      <td>-</td>\n",
              "      <td>-</td>\n",
              "      <td>-</td>\n",
              "      <td>-</td>\n",
              "      <td>-</td>\n",
              "      <td>-</td>\n",
              "      <td>-</td>\n",
              "      <td>-</td>\n",
              "      <td>-</td>\n",
              "      <td>-</td>\n",
              "      <td>-</td>\n",
              "      <td>-</td>\n",
              "      <td>-</td>\n",
              "      <td>-</td>\n",
              "      <td>-</td>\n",
              "      <td>-</td>\n",
              "      <td>-</td>\n",
              "      <td>-</td>\n",
              "      <td>-</td>\n",
              "      <td>-</td>\n",
              "      <td>-</td>\n",
              "      <td>-</td>\n",
              "      <td>-</td>\n",
              "      <td>-</td>\n",
              "      <td>-</td>\n",
              "      <td>-</td>\n",
              "      <td>-</td>\n",
              "      <td>-</td>\n",
              "      <td>-</td>\n",
              "      <td>-</td>\n",
              "      <td>-</td>\n",
              "      <td>-</td>\n",
              "      <td>-</td>\n",
              "      <td>-</td>\n",
              "      <td>-</td>\n",
              "      <td>...</td>\n",
              "      <td>2,699,213.85</td>\n",
              "      <td>2,682,746.28</td>\n",
              "      <td>2,891,100.20</td>\n",
              "      <td>2,737,677.78</td>\n",
              "      <td>2,693,726.29</td>\n",
              "      <td>2,671,451.53</td>\n",
              "      <td>2,688,315.70</td>\n",
              "      <td>2,740,952.07</td>\n",
              "      <td>2,478,349.44</td>\n",
              "      <td>2,674,958.94</td>\n",
              "      <td>2,721,261.19</td>\n",
              "      <td>2,844,811.66</td>\n",
              "      <td>2,967,161.35</td>\n",
              "      <td>2,841,587.97</td>\n",
              "      <td>3,328,230.63</td>\n",
              "      <td>2,878,691.04</td>\n",
              "      <td>2,964,324.32</td>\n",
              "      <td>2,524,712.40</td>\n",
              "      <td>2,462,451.64</td>\n",
              "      <td>2,662,240.18</td>\n",
              "      <td>2,499,996.16</td>\n",
              "      <td>2,846,135.56</td>\n",
              "      <td>2,789,823.29</td>\n",
              "      <td>2,839,389.53</td>\n",
              "      <td>2,647,540.20</td>\n",
              "      <td>2,865,777.71</td>\n",
              "      <td>3,181,321.82</td>\n",
              "      <td>3,070,436.96</td>\n",
              "      <td>3,162,342.44</td>\n",
              "      <td>3,121,104.71</td>\n",
              "      <td>2,889,969.87</td>\n",
              "      <td>3,084,561.08</td>\n",
              "      <td>2,967,159.04</td>\n",
              "      <td>2,813,954.05</td>\n",
              "      <td>2,304,961.42</td>\n",
              "      <td>2,910,776.44</td>\n",
              "      <td>3,216,466.51</td>\n",
              "      <td>2,739,498.41</td>\n",
              "      <td>1524478.04</td>\n",
              "      <td>305,010,883.18</td>\n",
              "    </tr>\n",
              "    <tr>\n",
              "      <th>4</th>\n",
              "      <td>15 Pará</td>\n",
              "      <td>-</td>\n",
              "      <td>-</td>\n",
              "      <td>-</td>\n",
              "      <td>-</td>\n",
              "      <td>-</td>\n",
              "      <td>-</td>\n",
              "      <td>-</td>\n",
              "      <td>-</td>\n",
              "      <td>-</td>\n",
              "      <td>-</td>\n",
              "      <td>-</td>\n",
              "      <td>-</td>\n",
              "      <td>-</td>\n",
              "      <td>-</td>\n",
              "      <td>-</td>\n",
              "      <td>-</td>\n",
              "      <td>-</td>\n",
              "      <td>-</td>\n",
              "      <td>-</td>\n",
              "      <td>-</td>\n",
              "      <td>-</td>\n",
              "      <td>-</td>\n",
              "      <td>-</td>\n",
              "      <td>-</td>\n",
              "      <td>-</td>\n",
              "      <td>-</td>\n",
              "      <td>-</td>\n",
              "      <td>-</td>\n",
              "      <td>-</td>\n",
              "      <td>-</td>\n",
              "      <td>-</td>\n",
              "      <td>-</td>\n",
              "      <td>-</td>\n",
              "      <td>-</td>\n",
              "      <td>-</td>\n",
              "      <td>-</td>\n",
              "      <td>-</td>\n",
              "      <td>-</td>\n",
              "      <td>-</td>\n",
              "      <td>...</td>\n",
              "      <td>31,808,597.47</td>\n",
              "      <td>32,133,134.42</td>\n",
              "      <td>33,770,556.65</td>\n",
              "      <td>32,979,925.38</td>\n",
              "      <td>33,665,042.35</td>\n",
              "      <td>33,475,545.29</td>\n",
              "      <td>32,067,934.67</td>\n",
              "      <td>33,615,836.09</td>\n",
              "      <td>30,623,491.62</td>\n",
              "      <td>34,121,931.00</td>\n",
              "      <td>35,039,954.20</td>\n",
              "      <td>35,424,611.06</td>\n",
              "      <td>34,160,283.18</td>\n",
              "      <td>34,484,949.49</td>\n",
              "      <td>35,618,364.04</td>\n",
              "      <td>34,380,916.90</td>\n",
              "      <td>38,441,090.50</td>\n",
              "      <td>33,583,538.08</td>\n",
              "      <td>32,789,354.87</td>\n",
              "      <td>34,513,534.80</td>\n",
              "      <td>31,885,919.67</td>\n",
              "      <td>33,236,155.79</td>\n",
              "      <td>31,008,924.95</td>\n",
              "      <td>31,064,106.50</td>\n",
              "      <td>28,543,179.30</td>\n",
              "      <td>36,713,929.36</td>\n",
              "      <td>36,462,011.47</td>\n",
              "      <td>36,790,758.67</td>\n",
              "      <td>36,974,859.69</td>\n",
              "      <td>35,555,518.00</td>\n",
              "      <td>35,222,625.80</td>\n",
              "      <td>37,009,819.17</td>\n",
              "      <td>34,635,702.52</td>\n",
              "      <td>34,749,098.46</td>\n",
              "      <td>28,714,969.96</td>\n",
              "      <td>41,248,502.78</td>\n",
              "      <td>35,396,030.78</td>\n",
              "      <td>27,618,727.51</td>\n",
              "      <td>11559714.54</td>\n",
              "      <td>4,437,115,730.71</td>\n",
              "    </tr>\n",
              "  </tbody>\n",
              "</table>\n",
              "<p>5 rows × 280 columns</p>\n",
              "</div>"
            ],
            "text/plain": [
              "  Unidade da Federação 1992/Mar  ...     2020/Ago            Total\n",
              "0          11 Rondônia        -  ...   3556381.57   929,129,659.72\n",
              "1              12 Acre        -  ...            -   420,668,039.63\n",
              "2          13 Amazonas        -  ...   4726485.73 1,771,654,871.23\n",
              "3           14 Roraima        -  ...   1524478.04   305,010,883.18\n",
              "4              15 Pará        -  ...  11559714.54 4,437,115,730.71\n",
              "\n",
              "[5 rows x 280 columns]"
            ]
          },
          "metadata": {
            "tags": []
          },
          "execution_count": 5
        }
      ]
    },
    {
      "cell_type": "code",
      "metadata": {
        "id": "gqjetTQx7Rle"
      },
      "source": [
        "colunas_usaveis = dados.mean().index.tolist()\n",
        "colunas_usaveis.insert(0, \"Unidade da Federação\")\n",
        "usaveis = dados[colunas_usaveis]\n",
        "usaveis = usaveis.set_index(\"Unidade da Federação\")\n",
        "ordenado_por_total = usaveis.sort_values(\"Total\", ascending=False)\n",
        "ordenado_por_total = ordenado_por_total.drop(\"Total\", axis=1)\n",
        "colunas_interessadas = ordenado_por_total.columns[6:]\n",
        "ordenado_por_total = ordenado_por_total[colunas_interessadas]\n",
        "ordenado_por_total = ordenado_por_total / 10**6\n",
        "mes_mais_recente = ordenado_por_total.columns[-1]\n",
        "gastos_do_mais_recente = ordenado_por_total[mes_mais_recente]\n",
        "# gastos_do_mais_recente.plot(kind='bar')\n",
        "# df_desafio_4 = gastos_do_mais_recente.copy()"
      ],
      "execution_count": 6,
      "outputs": []
    },
    {
      "cell_type": "code",
      "metadata": {
        "id": "xKOCEuj9Gon7"
      },
      "source": [
        "url = 'https://pt.wikipedia.org/wiki/Lista_de_unidades_federativas_do_Brasil_por_popula%C3%A7%C3%A3o'\n",
        "df_pop_por_uf = pd.read_html(url)\n",
        "df_pop_por_uf = df_pop_por_uf[0]\n",
        "\n",
        "def clean_n_join(df_dirty, df_ref):\n",
        "  df_ref_c = df_ref.copy()\n",
        "  df_dirty_c = df_dirty.copy()\n",
        "  df_dirty_c = df_dirty_c[[\"Unidade federativa\", \"População\"]]\n",
        "  df_dirty_c.columns = [\"uf\", \"populacao\"]\n",
        "  df_dirty_c = df_dirty_c.set_index(\"uf\")\n",
        "  df_dirty_c = df_dirty_c.dropna()\n",
        "  df_dirty_c['populacao'] = df_dirty_c['populacao'].str.replace(\" \",\"\").astype(int)\n",
        "  df_dirty_c.index = df_dirty_c.index.str.strip()\n",
        "  df_ref_c.index = df_ref_c.index.str[3:]\n",
        "  for estado in df_ref_c.index:\n",
        "    df_dirty_c.index = df_dirty_c.index.str.replace(f\"{estado} {estado}\", estado)\n",
        "  return df_dirty_c.join(df_ref_c)\n",
        "\n",
        "gastos_e_populacao_recente = clean_n_join(df_pop_por_uf, gastos_do_mais_recente)\n",
        "# df_desafio_2.head()"
      ],
      "execution_count": 7,
      "outputs": []
    },
    {
      "cell_type": "code",
      "metadata": {
        "colab": {
          "base_uri": "https://localhost:8080/",
          "height": 308
        },
        "id": "_82hQSR1GuWd",
        "outputId": "f7ba460e-434f-45d2-83b5-7afd7068e296"
      },
      "source": [
        "gastos_e_populacao_recente[\"gastos\"] = gastos_e_populacao_recente[\"2020/Jul\"] * 10**6\n",
        "gastos_e_populacao_recente[[\"gastos\", \"populacao\"]].plot()"
      ],
      "execution_count": 8,
      "outputs": [
        {
          "output_type": "execute_result",
          "data": {
            "text/plain": [
              "<matplotlib.axes._subplots.AxesSubplot at 0x7fd0778977d0>"
            ]
          },
          "metadata": {
            "tags": []
          },
          "execution_count": 8
        },
        {
          "output_type": "display_data",
          "data": {
            "image/png": "[encoded data removed]",
            "text/plain": [
              "<Figure size 432x288 with 1 Axes>"
            ]
          },
          "metadata": {
            "tags": [],
            "needs_background": "light"
          }
        }
      ]
    },
    {
      "cell_type": "code",
      "metadata": {
        "colab": {
          "base_uri": "https://localhost:8080/",
          "height": 142
        },
        "id": "vVLVyefoHFFL",
        "outputId": "c2d9e714-d748-41b7-aced-45678cdb182d"
      },
      "source": [
        "gastos_e_populacao_recente.loc[[\"Rio Grande do Sul\", \"São Paulo\"]]"
      ],
      "execution_count": 9,
      "outputs": [
        {
          "output_type": "execute_result",
          "data": {
            "text/html": [
              "<div>\n",
              "<style scoped>\n",
              "    .dataframe tbody tr th:only-of-type {\n",
              "        vertical-align: middle;\n",
              "    }\n",
              "\n",
              "    .dataframe tbody tr th {\n",
              "        vertical-align: top;\n",
              "    }\n",
              "\n",
              "    .dataframe thead th {\n",
              "        text-align: right;\n",
              "    }\n",
              "</style>\n",
              "<table border=\"1\" class=\"dataframe\">\n",
              "  <thead>\n",
              "    <tr style=\"text-align: right;\">\n",
              "      <th></th>\n",
              "      <th>populacao</th>\n",
              "      <th>2020/Jul</th>\n",
              "      <th>gastos</th>\n",
              "    </tr>\n",
              "    <tr>\n",
              "      <th>uf</th>\n",
              "      <th></th>\n",
              "      <th></th>\n",
              "      <th></th>\n",
              "    </tr>\n",
              "  </thead>\n",
              "  <tbody>\n",
              "    <tr>\n",
              "      <th>Rio Grande do Sul</th>\n",
              "      <td>11422973</td>\n",
              "      <td>78.93</td>\n",
              "      <td>78,929,703.81</td>\n",
              "    </tr>\n",
              "    <tr>\n",
              "      <th>São Paulo</th>\n",
              "      <td>46289333</td>\n",
              "      <td>282.71</td>\n",
              "      <td>282,709,570.31</td>\n",
              "    </tr>\n",
              "  </tbody>\n",
              "</table>\n",
              "</div>"
            ],
            "text/plain": [
              "                   populacao  2020/Jul         gastos\n",
              "uf                                                   \n",
              "Rio Grande do Sul   11422973     78.93  78,929,703.81\n",
              "São Paulo           46289333    282.71 282,709,570.31"
            ]
          },
          "metadata": {
            "tags": []
          },
          "execution_count": 9
        }
      ]
    },
    {
      "cell_type": "code",
      "metadata": {
        "colab": {
          "base_uri": "https://localhost:8080/",
          "height": 235
        },
        "id": "yic598v9IPP0",
        "outputId": "4e7b2d79-ed0e-4efd-c146-8e709d395c38"
      },
      "source": [
        "gastos_e_populacao_recente[\"gastos_por_habitante\"] = gastos_e_populacao_recente[\"gastos\"] / gastos_e_populacao_recente[\"populacao\"]\n",
        "gastos_e_populacao_recente.head()"
      ],
      "execution_count": 10,
      "outputs": [
        {
          "output_type": "execute_result",
          "data": {
            "text/html": [
              "<div>\n",
              "<style scoped>\n",
              "    .dataframe tbody tr th:only-of-type {\n",
              "        vertical-align: middle;\n",
              "    }\n",
              "\n",
              "    .dataframe tbody tr th {\n",
              "        vertical-align: top;\n",
              "    }\n",
              "\n",
              "    .dataframe thead th {\n",
              "        text-align: right;\n",
              "    }\n",
              "</style>\n",
              "<table border=\"1\" class=\"dataframe\">\n",
              "  <thead>\n",
              "    <tr style=\"text-align: right;\">\n",
              "      <th></th>\n",
              "      <th>populacao</th>\n",
              "      <th>2020/Jul</th>\n",
              "      <th>gastos</th>\n",
              "      <th>gastos_por_habitante</th>\n",
              "    </tr>\n",
              "    <tr>\n",
              "      <th>uf</th>\n",
              "      <th></th>\n",
              "      <th></th>\n",
              "      <th></th>\n",
              "      <th></th>\n",
              "    </tr>\n",
              "  </thead>\n",
              "  <tbody>\n",
              "    <tr>\n",
              "      <th>São Paulo</th>\n",
              "      <td>46289333</td>\n",
              "      <td>282.71</td>\n",
              "      <td>282,709,570.31</td>\n",
              "      <td>6.11</td>\n",
              "    </tr>\n",
              "    <tr>\n",
              "      <th>Minas Gerais</th>\n",
              "      <td>21292666</td>\n",
              "      <td>120.47</td>\n",
              "      <td>120,467,187.34</td>\n",
              "      <td>5.66</td>\n",
              "    </tr>\n",
              "    <tr>\n",
              "      <th>Rio de Janeiro</th>\n",
              "      <td>17366189</td>\n",
              "      <td>71.54</td>\n",
              "      <td>71,540,227.33</td>\n",
              "      <td>4.12</td>\n",
              "    </tr>\n",
              "    <tr>\n",
              "      <th>Bahia</th>\n",
              "      <td>14930634</td>\n",
              "      <td>58.90</td>\n",
              "      <td>58,898,100.40</td>\n",
              "      <td>3.94</td>\n",
              "    </tr>\n",
              "    <tr>\n",
              "      <th>Paraná</th>\n",
              "      <td>11516840</td>\n",
              "      <td>80.32</td>\n",
              "      <td>80,320,852.69</td>\n",
              "      <td>6.97</td>\n",
              "    </tr>\n",
              "  </tbody>\n",
              "</table>\n",
              "</div>"
            ],
            "text/plain": [
              "                populacao  2020/Jul         gastos  gastos_por_habitante\n",
              "uf                                                                      \n",
              "São Paulo        46289333    282.71 282,709,570.31                  6.11\n",
              "Minas Gerais     21292666    120.47 120,467,187.34                  5.66\n",
              "Rio de Janeiro   17366189     71.54  71,540,227.33                  4.12\n",
              "Bahia            14930634     58.90  58,898,100.40                  3.94\n",
              "Paraná           11516840     80.32  80,320,852.69                  6.97"
            ]
          },
          "metadata": {
            "tags": []
          },
          "execution_count": 10
        }
      ]
    },
    {
      "cell_type": "code",
      "metadata": {
        "colab": {
          "base_uri": "https://localhost:8080/",
          "height": 388
        },
        "id": "gGVbPEbaJUOv",
        "outputId": "b14980ec-f510-401c-f458-5076291a1cca"
      },
      "source": [
        "gastos_e_populacao_recente[\"gastos_por_habitante\"].plot(kind='bar')"
      ],
      "execution_count": 11,
      "outputs": [
        {
          "output_type": "execute_result",
          "data": {
            "text/plain": [
              "<matplotlib.axes._subplots.AxesSubplot at 0x7fd0778e0790>"
            ]
          },
          "metadata": {
            "tags": []
          },
          "execution_count": 11
        },
        {
          "output_type": "display_data",
          "data": {
            "image/png": "[encoded data removed]",
            "text/plain": [
              "<Figure size 432x288 with 1 Axes>"
            ]
          },
          "metadata": {
            "tags": [],
            "needs_background": "light"
          }
        }
      ]
    },
    {
      "cell_type": "code",
      "metadata": {
        "colab": {
          "base_uri": "https://localhost:8080/",
          "height": 296
        },
        "id": "mlkQHqlGJZCC",
        "outputId": "7340b730-77dd-463b-c806-017f556f9eb3"
      },
      "source": [
        "import seaborn as sns\n",
        "\n",
        "sns.scatterplot(data=gastos_e_populacao_recente / 10**6, x=\"populacao\", y=\"gastos\")"
      ],
      "execution_count": 12,
      "outputs": [
        {
          "output_type": "execute_result",
          "data": {
            "text/plain": [
              "<matplotlib.axes._subplots.AxesSubplot at 0x7fd0688d65d0>"
            ]
          },
          "metadata": {
            "tags": []
          },
          "execution_count": 12
        },
        {
          "output_type": "display_data",
          "data": {
            "image/png": "[encoded data removed]",
            "text/plain": [
              "<Figure size 432x288 with 1 Axes>"
            ]
          },
          "metadata": {
            "tags": [],
            "needs_background": "light"
          }
        }
      ]
    },
    {
      "cell_type": "code",
      "metadata": {
        "colab": {
          "base_uri": "https://localhost:8080/",
          "height": 514
        },
        "id": "D9dZt9U3J3fs",
        "outputId": "4bffbdfe-36a5-4b41-bd2e-12082dfa954d"
      },
      "source": [
        "plt.figure(figsize=(8,8))\n",
        "sns.scatterplot(data=gastos_e_populacao_recente / 10**6, x=\"populacao\", y=\"gastos\")"
      ],
      "execution_count": 13,
      "outputs": [
        {
          "output_type": "execute_result",
          "data": {
            "text/plain": [
              "<matplotlib.axes._subplots.AxesSubplot at 0x7fd0688511d0>"
            ]
          },
          "metadata": {
            "tags": []
          },
          "execution_count": 13
        },
        {
          "output_type": "display_data",
          "data": {
            "image/png": "[encoded data removed]",
            "text/plain": [
              "<Figure size 576x576 with 1 Axes>"
            ]
          },
          "metadata": {
            "tags": [],
            "needs_background": "light"
          }
        }
      ]
    },
    {
      "cell_type": "code",
      "metadata": {
        "colab": {
          "base_uri": "https://localhost:8080/",
          "height": 514
        },
        "id": "aBIoDoQ1LpYT",
        "outputId": "395eb790-b0f8-421f-a4bd-09b1bbb4ecfe"
      },
      "source": [
        "plt.figure(figsize=(8,8))\n",
        "sns.scatterplot(data=gastos_e_populacao_recente, x=\"populacao\", y=\"gastos_por_habitante\")"
      ],
      "execution_count": 14,
      "outputs": [
        {
          "output_type": "execute_result",
          "data": {
            "text/plain": [
              "<matplotlib.axes._subplots.AxesSubplot at 0x7fd06884fe10>"
            ]
          },
          "metadata": {
            "tags": []
          },
          "execution_count": 14
        },
        {
          "output_type": "display_data",
          "data": {
            "image/png": "[encoded data removed]",
            "text/plain": [
              "<Figure size 576x576 with 1 Axes>"
            ]
          },
          "metadata": {
            "tags": [],
            "needs_background": "light"
          }
        }
      ]
    },
    {
      "cell_type": "markdown",
      "metadata": {
        "id": "PCH8nUuaMqMV"
      },
      "source": [
        "# Desafios"
      ]
    },
    {
      "cell_type": "markdown",
      "metadata": {
        "id": "3cOE_PKoMs-I"
      },
      "source": [
        "## Desafio 01: Ordenar o gráfico e criar uma visualização de gastos por habitantes ordenada."
      ]
    },
    {
      "cell_type": "code",
      "metadata": {
        "colab": {
          "base_uri": "https://localhost:8080/",
          "height": 497
        },
        "id": "ekdaBo-yM92C",
        "outputId": "705c896e-3716-400e-e3e5-d96148fd0dd4"
      },
      "source": [
        "gastos_e_populacao_recente[\"gastos_por_habitante\"].sort_values(ascending=False).plot(kind='bar', figsize=(10,6))"
      ],
      "execution_count": 15,
      "outputs": [
        {
          "output_type": "execute_result",
          "data": {
            "text/plain": [
              "<matplotlib.axes._subplots.AxesSubplot at 0x7fd0687e0b90>"
            ]
          },
          "metadata": {
            "tags": []
          },
          "execution_count": 15
        },
        {
          "output_type": "display_data",
          "data": {
            "image/png": "[encoded data removed]",
            "text/plain": [
              "<Figure size 720x432 with 1 Axes>"
            ]
          },
          "metadata": {
            "tags": [],
            "needs_background": "light"
          }
        }
      ]
    },
    {
      "cell_type": "markdown",
      "metadata": {
        "id": "YFNZDtK6M1ZM"
      },
      "source": [
        "## Desafio 02 (Super Desafio Gui): Fazer os mesmos gráficos do final da aulas 2.1 para meses anteriores, analisar e compartilhar suas hipóteses."
      ]
    },
    {
      "cell_type": "code",
      "metadata": {
        "colab": {
          "base_uri": "https://localhost:8080/",
          "height": 296
        },
        "id": "anqje5cEPFMO",
        "outputId": "d2509927-f3c0-42f5-e43a-95bed9a4c0a6"
      },
      "source": [
        "segundo_mes_mais_recente = ordenado_por_total.columns[-2]\n",
        "df_desafio_2 = ordenado_por_total[segundo_mes_mais_recente]\n",
        "segundo_gastos_e_populacao_recente = clean_n_join(df_pop_por_uf, df_desafio_2)\n",
        "segundo_gastos_e_populacao_recente.head()\n",
        "segundo_gastos_e_populacao_recente[\"gastos\"] = segundo_gastos_e_populacao_recente[segundo_mes_mais_recente] * 10**6\n",
        "segundo_gastos_e_populacao_recente[\"gastos_por_habitante\"] = segundo_gastos_e_populacao_recente[\"gastos\"] / segundo_gastos_e_populacao_recente[\"populacao\"]\n",
        "plt.figure(figsize=(4,4))\n",
        "sns.scatterplot(data=segundo_gastos_e_populacao_recente, x=\"populacao\", y=\"gastos_por_habitante\")"
      ],
      "execution_count": 16,
      "outputs": [
        {
          "output_type": "execute_result",
          "data": {
            "text/plain": [
              "<matplotlib.axes._subplots.AxesSubplot at 0x7fd0686bbad0>"
            ]
          },
          "metadata": {
            "tags": []
          },
          "execution_count": 16
        },
        {
          "output_type": "display_data",
          "data": {
            "image/png": "[encoded data removed]",
            "text/plain": [
              "<Figure size 288x288 with 1 Axes>"
            ]
          },
          "metadata": {
            "tags": [],
            "needs_background": "light"
          }
        }
      ]
    },
    {
      "cell_type": "markdown",
      "metadata": {
        "id": "_Z8T41vyXWu8"
      },
      "source": [
        "Solução do Gui"
      ]
    },
    {
      "cell_type": "code",
      "metadata": {
        "colab": {
          "base_uri": "https://localhost:8080/",
          "height": 525
        },
        "id": "sda700VTXWVs",
        "outputId": "76181196-2898-4211-d507-2dae9bbf86fc"
      },
      "source": [
        "def gasos_e_gasto_por_habitante_para(todos_os_gastos, dados, mes: str):\n",
        "  dados_c = dados.copy()\n",
        "  todos_os_gastos_c = todos_os_gastos.copy()\n",
        "  gastos_do_mes = todos_os_gastos_c[mes]\n",
        "  gastos_do_mes.index = gastos_do_mes.index.str[3:]\n",
        "  dados_c[f\"gastos_{mes}\"] = gastos_do_mes * 10**6\n",
        "  dados_c[f\"gastos_por_habitante_{mes}\"] = dados_c[f\"gastos_{mes}\"] / dados_c[\"populacao\"]\n",
        "  return dados_c\n",
        "\n",
        "df_desafio_2 = gasos_e_gasto_por_habitante_para(ordenado_por_total, gastos_e_populacao_recente, \"2020/Jul\")\n",
        "df_desafio_2 = gasos_e_gasto_por_habitante_para(ordenado_por_total, df_desafio_2, \"2020/Jun\")\n",
        "df_desafio_2 = gasos_e_gasto_por_habitante_para(ordenado_por_total, df_desafio_2, \"2020/Mai\")\n",
        "plt.figure(figsize=(8,8))\n",
        "sns.scatterplot(data=df_desafio_2, x=\"populacao\", y=\"gastos_2020/Jul\")\n",
        "sns.scatterplot(data=df_desafio_2, x=\"populacao\", y=\"gastos_2020/Jun\")\n",
        "sns.scatterplot(data=df_desafio_2, x=\"populacao\", y=\"gastos_2020/Mai\")"
      ],
      "execution_count": 26,
      "outputs": [
        {
          "output_type": "execute_result",
          "data": {
            "text/plain": [
              "<matplotlib.axes._subplots.AxesSubplot at 0x7fd0681df390>"
            ]
          },
          "metadata": {
            "tags": []
          },
          "execution_count": 26
        },
        {
          "output_type": "display_data",
          "data": {
            "image/png": "[encoded data removed]",
            "text/plain": [
              "<Figure size 576x576 with 1 Axes>"
            ]
          },
          "metadata": {
            "tags": [],
            "needs_background": "light"
          }
        }
      ]
    },
    {
      "cell_type": "code",
      "metadata": {
        "colab": {
          "base_uri": "https://localhost:8080/",
          "height": 514
        },
        "id": "h0Fl87fzdws6",
        "outputId": "b71b8e03-3692-4edb-c71e-ac8b7768cc10"
      },
      "source": [
        "plt.figure(figsize=(8,8))\n",
        "sns.scatterplot(data=df_desafio_2, x=\"populacao\", y=\"gastos_por_habitante_2020/Jul\")\n",
        "sns.scatterplot(data=df_desafio_2, x=\"populacao\", y=\"gastos_por_habitante_2020/Jun\")\n",
        "sns.scatterplot(data=df_desafio_2, x=\"populacao\", y=\"gastos_por_habitante_2020/Mai\")"
      ],
      "execution_count": 27,
      "outputs": [
        {
          "output_type": "execute_result",
          "data": {
            "text/plain": [
              "<matplotlib.axes._subplots.AxesSubplot at 0x7fd06816acd0>"
            ]
          },
          "metadata": {
            "tags": []
          },
          "execution_count": 27
        },
        {
          "output_type": "display_data",
          "data": {
            "image/png": "[encoded data removed]",
            "text/plain": [
              "<Figure size 576x576 with 1 Axes>"
            ]
          },
          "metadata": {
            "tags": [],
            "needs_background": "light"
          }
        }
      ]
    },
    {
      "cell_type": "markdown",
      "metadata": {
        "id": "F2xQ5RBaM2-z"
      },
      "source": [
        "## Desafio 03 (Super Desafio Thiago): Plotar no mesmos gráficos do final da aula o mês anterior e o mês correte, analisar e compartilhar suas hipóteses.\n",
        "\n",
        "ATENÇÃO: No próximo vídeo Gui e Thiago resolvem parte do Desafio 2 e 3, aconselhamos fortemente que gastem um tempo tentando resolver antes de assistir o vídeo."
      ]
    },
    {
      "cell_type": "code",
      "metadata": {
        "colab": {
          "base_uri": "https://localhost:8080/",
          "height": 405
        },
        "id": "xoMfFlBcSnjX",
        "outputId": "dca00ed5-e972-452c-8125-4de6b0068964"
      },
      "source": [
        "plt.figure(figsize=(6,6))\n",
        "sns.scatterplot(data=gastos_e_populacao_recente, x=\"populacao\", y=\"gastos_por_habitante\")\n",
        "sns.scatterplot(data=segundo_gastos_e_populacao_recente, x=\"populacao\", y=\"gastos_por_habitante\")\n",
        "plt.legend(labels=[mes_mais_recente, segundo_mes_mais_recente])"
      ],
      "execution_count": 18,
      "outputs": [
        {
          "output_type": "execute_result",
          "data": {
            "text/plain": [
              "<matplotlib.legend.Legend at 0x7fd068616cd0>"
            ]
          },
          "metadata": {
            "tags": []
          },
          "execution_count": 18
        },
        {
          "output_type": "display_data",
          "data": {
            "image/png": "[encoded data removed]",
            "text/plain": [
              "<Figure size 432x432 with 1 Axes>"
            ]
          },
          "metadata": {
            "tags": [],
            "needs_background": "light"
          }
        }
      ]
    },
    {
      "cell_type": "markdown",
      "metadata": {
        "id": "V_4kvBZKM5ml"
      },
      "source": [
        "## Desafio 04 (Próximo Vídeo): Analise os gráficos e tente chegar a hipóteses que explicam o que você está entendendo dos dados. Lembre-se que a conclusão é uma hipótese. E que esses dados serão alterados."
      ]
    },
    {
      "cell_type": "code",
      "metadata": {
        "id": "vAqn7HURMB91"
      },
      "source": [
        ""
      ],
      "execution_count": 18,
      "outputs": []
    }
  ]
}