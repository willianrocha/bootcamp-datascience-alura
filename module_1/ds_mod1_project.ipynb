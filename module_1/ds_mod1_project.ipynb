{
  "nbformat": 4,
  "nbformat_minor": 0,
  "metadata": {
    "colab": {
      "name": "ds-mod1_project",
      "provenance": [],
      "collapsed_sections": [],
      "authorship_tag": "ABX9TyO1LLN1mM6LZHhsGmULczC4",
      "include_colab_link": true
    },
    "kernelspec": {
      "name": "python3",
      "display_name": "Python 3"
    },
    "language_info": {
      "name": "python"
    }
  },
  "cells": [
    {
      "cell_type": "markdown",
      "metadata": {
        "id": "view-in-github",
        "colab_type": "text"
      },
      "source": [
        "<a href=\"https://colab.research.google.com/github/willianrocha/bootcamp-datascience-alura/blob/main/module_1/ds_mod1_project.ipynb\" target=\"_parent\"><img src=\"https://colab.research.google.com/assets/colab-badge.svg\" alt=\"Open In Colab\"/></a>"
      ]
    },
    {
      "cell_type": "markdown",
      "metadata": {
        "id": "aAX2rOIJXDew"
      },
      "source": [
        "Super Desafio: Escolha outro valor fora o valor aprovado no TABNET e explore estes dados. Esse será nosso projeto do módulo, mais detalhes no Desafio do módulo 1 na página do bootcamp."
      ]
    },
    {
      "cell_type": "markdown",
      "metadata": {
        "id": "gx-wMetrRQwu"
      },
      "source": [
        "# Setup"
      ]
    },
    {
      "cell_type": "code",
      "metadata": {
        "colab": {
          "base_uri": "https://localhost:8080/"
        },
        "id": "rgi6etzSRVR6",
        "outputId": "30e101ab-7a3b-4796-994a-32fe1a7dbeb7"
      },
      "source": [
        "import matplotlib.pyplot as plt\n",
        "import matplotlib.ticker as ticker\n",
        "import numpy as np\n",
        "import pandas as pd\n",
        "from google.colab import drive\n",
        "drive.mount('/content/drive')"
      ],
      "execution_count": 1,
      "outputs": [
        {
          "output_type": "stream",
          "text": [
            "Drive already mounted at /content/drive; to attempt to forcibly remount, call drive.mount(\"/content/drive\", force_remount=True).\n"
          ],
          "name": "stdout"
        }
      ]
    },
    {
      "cell_type": "markdown",
      "metadata": {
        "id": "WbxFhE9ASUtI"
      },
      "source": [
        "## Coleta de dados"
      ]
    },
    {
      "cell_type": "markdown",
      "metadata": {
        "id": "d8yrhU6CSY3Q"
      },
      "source": [
        "Dados\n",
        "Vou utilizar os dados de vacinação da COVID-19 disponibilizados em https://opendatasus.saude.gov.br/dataset/covid-19-vacinacao/resource/ef3bd0b8-b605-474b-9ae5-c97390c197a8.\n",
        "\n",
        "Os dados foram extraídos em 23/05/2021. Tem 28.5 GB de tamanho.\n",
        "Abaixo, apenas as 10 primeiras linhas do documento original."
      ]
    },
    {
      "cell_type": "code",
      "metadata": {
        "colab": {
          "base_uri": "https://localhost:8080/",
          "height": 513
        },
        "id": "t4RkRtllSdcq",
        "outputId": "f8fc60bb-f0e7-4808-c259-a3e487c4e46a"
      },
      "source": [
        "!cp \"/content/drive/MyDrive/alura/bootcamp-data-science/dados_originais_head.csv\" .\n",
        "pd.read_csv(\"/content/dados_originais_head.csv\", encoding=\"ISO-8859-1\", sep=\";\").head()"
      ],
      "execution_count": 2,
      "outputs": [
        {
          "output_type": "execute_result",
          "data": {
            "text/html": [
              "<div>\n",
              "<style scoped>\n",
              "    .dataframe tbody tr th:only-of-type {\n",
              "        vertical-align: middle;\n",
              "    }\n",
              "\n",
              "    .dataframe tbody tr th {\n",
              "        vertical-align: top;\n",
              "    }\n",
              "\n",
              "    .dataframe thead th {\n",
              "        text-align: right;\n",
              "    }\n",
              "</style>\n",
              "<table border=\"1\" class=\"dataframe\">\n",
              "  <thead>\n",
              "    <tr style=\"text-align: right;\">\n",
              "      <th></th>\n",
              "      <th>document_id</th>\n",
              "      <th>paciente_id</th>\n",
              "      <th>paciente_idade</th>\n",
              "      <th>paciente_datanascimento</th>\n",
              "      <th>paciente_enumsexobiologico</th>\n",
              "      <th>paciente_racacor_codigo</th>\n",
              "      <th>paciente_racacor_valor</th>\n",
              "      <th>paciente_endereco_coibgemunicipio</th>\n",
              "      <th>paciente_endereco_copais</th>\n",
              "      <th>paciente_endereco_nmmunicipio</th>\n",
              "      <th>paciente_endereco_nmpais</th>\n",
              "      <th>paciente_endereco_uf</th>\n",
              "      <th>paciente_endereco_cep</th>\n",
              "      <th>paciente_nacionalidade_enumnacionalidade</th>\n",
              "      <th>estabelecimento_valor</th>\n",
              "      <th>estabelecimento_razaosocial</th>\n",
              "      <th>estalecimento_nofantasia</th>\n",
              "      <th>estabelecimento_municipio_codigo</th>\n",
              "      <th>estabelecimento_municipio_nome</th>\n",
              "      <th>estabelecimento_uf</th>\n",
              "      <th>vacina_grupoatendimento_codigo</th>\n",
              "      <th>vacina_grupoatendimento_nome</th>\n",
              "      <th>vacina_categoria_codigo</th>\n",
              "      <th>vacina_categoria_nome</th>\n",
              "      <th>vacina_lote</th>\n",
              "      <th>vacina_fabricante_nome</th>\n",
              "      <th>vacina_fabricante_referencia</th>\n",
              "      <th>vacina_dataaplicacao</th>\n",
              "      <th>vacina_descricao_dose</th>\n",
              "      <th>vacina_codigo</th>\n",
              "      <th>vacina_nome</th>\n",
              "      <th>sistema_origem</th>\n",
              "      <th>data_importacao_rnds</th>\n",
              "      <th>id_sistema_origem</th>\n",
              "    </tr>\n",
              "  </thead>\n",
              "  <tbody>\n",
              "    <tr>\n",
              "      <th>0</th>\n",
              "      <td>d69492e7-2c28-4892-9aac-0a378206c968-i0b0</td>\n",
              "      <td>7518e34074e7262958c5ca15dddf901de351c253565ee1...</td>\n",
              "      <td>77</td>\n",
              "      <td>1943-09-03</td>\n",
              "      <td>M</td>\n",
              "      <td>1</td>\n",
              "      <td>BRANCA</td>\n",
              "      <td>420480</td>\n",
              "      <td>10</td>\n",
              "      <td>CURITIBANOS</td>\n",
              "      <td>BRASIL</td>\n",
              "      <td>SC</td>\n",
              "      <td>89520</td>\n",
              "      <td>B</td>\n",
              "      <td>2302438</td>\n",
              "      <td>PREFEITURA MUNICIPAL DE CURITIBANOS</td>\n",
              "      <td>POSTO DE ATEND MATERNO INFANTIL</td>\n",
              "      <td>420480</td>\n",
              "      <td>CURITIBANOS</td>\n",
              "      <td>SC</td>\n",
              "      <td>0</td>\n",
              "      <td>NaN</td>\n",
              "      <td>NaN</td>\n",
              "      <td>NaN</td>\n",
              "      <td>210068</td>\n",
              "      <td>SERUM INSTITUTE OF INDIA LTD</td>\n",
              "      <td>NaN</td>\n",
              "      <td>2021-03-20</td>\n",
              "      <td>Â Â Â Â 1ÂªÂ Dose</td>\n",
              "      <td>86</td>\n",
              "      <td>Covid-19-Coronavac-Sinovac/Butantan</td>\n",
              "      <td>ESUS APS - NACIONAL (OFFLINE)</td>\n",
              "      <td>2021-03-24T12:31:25.000Z</td>\n",
              "      <td>NaN</td>\n",
              "    </tr>\n",
              "    <tr>\n",
              "      <th>1</th>\n",
              "      <td>00008936-722c-4329-a8f8-49f914c14231-i0b0</td>\n",
              "      <td>fa0290484b076c2b4df18119863be049cf6ebd9690184e...</td>\n",
              "      <td>77</td>\n",
              "      <td>1944-02-21</td>\n",
              "      <td>M</td>\n",
              "      <td>3</td>\n",
              "      <td>PARDA</td>\n",
              "      <td>110020</td>\n",
              "      <td>10</td>\n",
              "      <td>PORTO VELHO</td>\n",
              "      <td>BRASIL</td>\n",
              "      <td>RO</td>\n",
              "      <td>76820</td>\n",
              "      <td>B</td>\n",
              "      <td>213241</td>\n",
              "      <td>MUNICIPIO DE PORTO VELHO</td>\n",
              "      <td>CENTRAL DE REDE DE FRIO PORTO VELHO</td>\n",
              "      <td>110020</td>\n",
              "      <td>PORTO VELHO</td>\n",
              "      <td>RO</td>\n",
              "      <td>204</td>\n",
              "      <td>Pessoas de 75 a 79 anos</td>\n",
              "      <td>2.0</td>\n",
              "      <td>Faixa EtÃ¡ria</td>\n",
              "      <td>210017</td>\n",
              "      <td>FUNDACAO BUTANTAN</td>\n",
              "      <td>Organization/61189445000156</td>\n",
              "      <td>2021-03-23</td>\n",
              "      <td>Â Â Â Â 1ÂªÂ Dose</td>\n",
              "      <td>86</td>\n",
              "      <td>Covid-19-Coronavac-Sinovac/Butantan</td>\n",
              "      <td>Novo PNI</td>\n",
              "      <td>2021-03-23T12:59:53.000Z</td>\n",
              "      <td>NaN</td>\n",
              "    </tr>\n",
              "    <tr>\n",
              "      <th>2</th>\n",
              "      <td>5af902c3-caff-4a1a-8c8e-efd78c71fb73-i0b0</td>\n",
              "      <td>8e37fba588e2e90a219427b9a5d9c58127a73eb8b4df90...</td>\n",
              "      <td>75</td>\n",
              "      <td>1945-04-10</td>\n",
              "      <td>M</td>\n",
              "      <td>1</td>\n",
              "      <td>BRANCA</td>\n",
              "      <td>510675</td>\n",
              "      <td>10</td>\n",
              "      <td>PONTES E LACERDA</td>\n",
              "      <td>BRASIL</td>\n",
              "      <td>MT</td>\n",
              "      <td>78250</td>\n",
              "      <td>B</td>\n",
              "      <td>2394456</td>\n",
              "      <td>PREFEITURA MUNICIPAL DE PONTES E LACERDA</td>\n",
              "      <td>CENTRO DE SAUDE DE PONTES E LACERDA</td>\n",
              "      <td>510675</td>\n",
              "      <td>PONTES E LACERDA</td>\n",
              "      <td>MT</td>\n",
              "      <td>301</td>\n",
              "      <td>Pessoas de 60 nos ou mais Institucionalizadas</td>\n",
              "      <td>3.0</td>\n",
              "      <td>Pessoas de 60 anos ou mais institucionalizadas</td>\n",
              "      <td>210086</td>\n",
              "      <td>FUNDACAO BUTANTAN</td>\n",
              "      <td>Organization/61189445000156</td>\n",
              "      <td>2021-03-30</td>\n",
              "      <td>Â Â Â Â 1ÂªÂ Dose</td>\n",
              "      <td>86</td>\n",
              "      <td>Covid-19-Coronavac-Sinovac/Butantan</td>\n",
              "      <td>Novo PNI</td>\n",
              "      <td>2021-04-03T13:07:42.000Z</td>\n",
              "      <td>NaN</td>\n",
              "    </tr>\n",
              "    <tr>\n",
              "      <th>3</th>\n",
              "      <td>7fa5874c-7bf6-47ba-ab4b-50a95d8ee472-i0b0</td>\n",
              "      <td>11220f7797eb222c83c82fbff09d2af82aebc6ddab6c6b...</td>\n",
              "      <td>90</td>\n",
              "      <td>1930-06-13</td>\n",
              "      <td>F</td>\n",
              "      <td>1</td>\n",
              "      <td>BRANCA</td>\n",
              "      <td>330100</td>\n",
              "      <td>10</td>\n",
              "      <td>CAMPOS DOS GOYTACAZES</td>\n",
              "      <td>BRASIL</td>\n",
              "      <td>RJ</td>\n",
              "      <td>28051</td>\n",
              "      <td>B</td>\n",
              "      <td>6298109</td>\n",
              "      <td>SECRETARIA MUNICIPAL DE SAUDE DE CAMPOS DOS GO...</td>\n",
              "      <td>SECRETARIA MUNICIPAL DE SAUDE DE CAMPOS DOS GO...</td>\n",
              "      <td>330100</td>\n",
              "      <td>CAMPOS DOS GOYTACAZES</td>\n",
              "      <td>RJ</td>\n",
              "      <td>205</td>\n",
              "      <td>Pessoas de 80 anos ou mais</td>\n",
              "      <td>2.0</td>\n",
              "      <td>Faixa EtÃ¡ria</td>\n",
              "      <td>210011A</td>\n",
              "      <td>FUNDACAO BUTANTAN</td>\n",
              "      <td>Organization/61189445000156</td>\n",
              "      <td>2021-02-18</td>\n",
              "      <td>Â Â Â Â 1ÂªÂ Dose</td>\n",
              "      <td>86</td>\n",
              "      <td>Covid-19-Coronavac-Sinovac/Butantan</td>\n",
              "      <td>Novo PNI</td>\n",
              "      <td>2021-03-17T19:47:19.000Z</td>\n",
              "      <td>NaN</td>\n",
              "    </tr>\n",
              "    <tr>\n",
              "      <th>4</th>\n",
              "      <td>5afa5eab-1fd1-4c36-91bf-8b098c5ee3ab-i0b0</td>\n",
              "      <td>af81199ba8994176baeaecbc4a2b7d3ad71d3432b765b2...</td>\n",
              "      <td>64</td>\n",
              "      <td>1957-03-25</td>\n",
              "      <td>F</td>\n",
              "      <td>3</td>\n",
              "      <td>PARDA</td>\n",
              "      <td>280030</td>\n",
              "      <td>10</td>\n",
              "      <td>ARACAJU</td>\n",
              "      <td>BRASIL</td>\n",
              "      <td>SE</td>\n",
              "      <td>49044</td>\n",
              "      <td>B</td>\n",
              "      <td>2550</td>\n",
              "      <td>SECRETARIA MUNICIPAL DE SAUDE DE ARACAJU</td>\n",
              "      <td>US ELIZABETE PITA TERRA DURA</td>\n",
              "      <td>280030</td>\n",
              "      <td>ARACAJU</td>\n",
              "      <td>SE</td>\n",
              "      <td>201</td>\n",
              "      <td>Pessoas de 60 a 64 anos</td>\n",
              "      <td>2.0</td>\n",
              "      <td>Faixa EtÃ¡ria</td>\n",
              "      <td>CTMAV505</td>\n",
              "      <td>FUNDACAO OSWALDO CRUZ</td>\n",
              "      <td>NaN</td>\n",
              "      <td>2021-04-07</td>\n",
              "      <td>Â Â Â Â 1ÂªÂ Dose</td>\n",
              "      <td>85</td>\n",
              "      <td>Vacina Covid-19 - Covishield</td>\n",
              "      <td>IDS SaÃºde</td>\n",
              "      <td>2021-04-07T11:13:09.000Z</td>\n",
              "      <td>NaN</td>\n",
              "    </tr>\n",
              "  </tbody>\n",
              "</table>\n",
              "</div>"
            ],
            "text/plain": [
              "                                 document_id  ... id_sistema_origem\n",
              "0  d69492e7-2c28-4892-9aac-0a378206c968-i0b0  ...               NaN\n",
              "1  00008936-722c-4329-a8f8-49f914c14231-i0b0  ...               NaN\n",
              "2  5af902c3-caff-4a1a-8c8e-efd78c71fb73-i0b0  ...               NaN\n",
              "3  7fa5874c-7bf6-47ba-ab4b-50a95d8ee472-i0b0  ...               NaN\n",
              "4  5afa5eab-1fd1-4c36-91bf-8b098c5ee3ab-i0b0  ...               NaN\n",
              "\n",
              "[5 rows x 34 columns]"
            ]
          },
          "metadata": {
            "tags": []
          },
          "execution_count": 2
        }
      ]
    },
    {
      "cell_type": "markdown",
      "metadata": {
        "id": "wW81RXFewvI9"
      },
      "source": [
        "Como a base original contém informações que não serão utilizadas nesta análise, extraí apenas as colunas que serão utilizadas. E realizei um trabalho de eliminar caracteres desnecessários (como aspas duplas) e simplificar informações como a dose aplicada de \"Â Â Â Â 1ÂªÂ Dose\" para 1 ou 2, de acordo com a dose aplicada.\n",
        "\n",
        "Resultando em 2.8GB. Este arquivo tem 57.442.714 linhas.\n",
        "\n",
        "Abaixo, o comando usado localmente para extrair as colunas e limpar os dados.\n",
        "```\n",
        "cut part-00000-6bab261e-57eb-41e1-9523-8487c4a7c57c-c000.csv -d \";\" -f3,5,7,12,20,26,28,29 | sed 's/\"//g' | sed -E 's/    ([12]).*/\\1/g' > vaccines_v2.csv\n",
        "```\n"
      ]
    },
    {
      "cell_type": "markdown",
      "metadata": {
        "id": "CEtZ2QUs4QVU"
      },
      "source": [
        "## Amostragem"
      ]
    },
    {
      "cell_type": "markdown",
      "metadata": {
        "id": "SfkA9YzC73TN"
      },
      "source": [
        "A base de dados ainda está muito grande para ser trabalhada livremente. Então, antes de começar as análises, extraí uma amostra com 20 mil linhas e já deixei preparado em um CSV."
      ]
    },
    {
      "cell_type": "code",
      "metadata": {
        "colab": {
          "base_uri": "https://localhost:8080/",
          "height": 204
        },
        "id": "-uAPdfBZ0a3Z",
        "outputId": "bf28c608-72d7-4520-b379-99155866553f"
      },
      "source": [
        "!cp \"/content/drive/MyDrive/alura/bootcamp-data-science/sample20k_v3.csv\" .\n",
        "dados = pd.read_csv(\"/content/sample20k_v3.csv\", encoding=\"ISO-8859-1\", sep=\",\")\n",
        "dados.head()"
      ],
      "execution_count": 3,
      "outputs": [
        {
          "output_type": "execute_result",
          "data": {
            "text/html": [
              "<div>\n",
              "<style scoped>\n",
              "    .dataframe tbody tr th:only-of-type {\n",
              "        vertical-align: middle;\n",
              "    }\n",
              "\n",
              "    .dataframe tbody tr th {\n",
              "        vertical-align: top;\n",
              "    }\n",
              "\n",
              "    .dataframe thead th {\n",
              "        text-align: right;\n",
              "    }\n",
              "</style>\n",
              "<table border=\"1\" class=\"dataframe\">\n",
              "  <thead>\n",
              "    <tr style=\"text-align: right;\">\n",
              "      <th></th>\n",
              "      <th>paciente_idade</th>\n",
              "      <th>paciente_enumsexobiologico</th>\n",
              "      <th>paciente_racacor_valor</th>\n",
              "      <th>paciente_endereco_uf</th>\n",
              "      <th>estabelecimento_uf</th>\n",
              "      <th>vacina_fabricante_nome</th>\n",
              "      <th>vacina_dataaplicacao</th>\n",
              "      <th>vacina_descricao_dose</th>\n",
              "    </tr>\n",
              "  </thead>\n",
              "  <tbody>\n",
              "    <tr>\n",
              "      <th>0</th>\n",
              "      <td>77.0</td>\n",
              "      <td>F</td>\n",
              "      <td>AMARELA</td>\n",
              "      <td>SC</td>\n",
              "      <td>SC</td>\n",
              "      <td>FUNDACAO BUTANTAN</td>\n",
              "      <td>2021-04-12</td>\n",
              "      <td>2</td>\n",
              "    </tr>\n",
              "    <tr>\n",
              "      <th>1</th>\n",
              "      <td>32.0</td>\n",
              "      <td>F</td>\n",
              "      <td>BRANCA</td>\n",
              "      <td>RN</td>\n",
              "      <td>RN</td>\n",
              "      <td>FUNDACAO BUTANTAN</td>\n",
              "      <td>2021-01-27</td>\n",
              "      <td>1</td>\n",
              "    </tr>\n",
              "    <tr>\n",
              "      <th>2</th>\n",
              "      <td>92.0</td>\n",
              "      <td>F</td>\n",
              "      <td>BRANCA</td>\n",
              "      <td>MG</td>\n",
              "      <td>MG</td>\n",
              "      <td>FUNDACAO BUTANTAN</td>\n",
              "      <td>2021-03-06</td>\n",
              "      <td>2</td>\n",
              "    </tr>\n",
              "    <tr>\n",
              "      <th>3</th>\n",
              "      <td>67.0</td>\n",
              "      <td>M</td>\n",
              "      <td>SEM INFORMACAO</td>\n",
              "      <td>BA</td>\n",
              "      <td>BA</td>\n",
              "      <td>FUNDACAO BUTANTAN</td>\n",
              "      <td>2021-03-28</td>\n",
              "      <td>1</td>\n",
              "    </tr>\n",
              "    <tr>\n",
              "      <th>4</th>\n",
              "      <td>64.0</td>\n",
              "      <td>M</td>\n",
              "      <td>AMARELA</td>\n",
              "      <td>TO</td>\n",
              "      <td>TO</td>\n",
              "      <td>FUNDACAO OSWALDO CRUZ</td>\n",
              "      <td>2021-04-30</td>\n",
              "      <td>1</td>\n",
              "    </tr>\n",
              "  </tbody>\n",
              "</table>\n",
              "</div>"
            ],
            "text/plain": [
              "   paciente_idade  ... vacina_descricao_dose\n",
              "0            77.0  ...                     2\n",
              "1            32.0  ...                     1\n",
              "2            92.0  ...                     2\n",
              "3            67.0  ...                     1\n",
              "4            64.0  ...                     1\n",
              "\n",
              "[5 rows x 8 columns]"
            ]
          },
          "metadata": {
            "tags": []
          },
          "execution_count": 3
        }
      ]
    },
    {
      "cell_type": "markdown",
      "metadata": {
        "id": "-50r2jSlb7ya"
      },
      "source": [
        "# Exploração inicial"
      ]
    },
    {
      "cell_type": "markdown",
      "metadata": {
        "id": "ZMCTm_gpVYTK"
      },
      "source": [
        "Exploração inicial para visualizar e entender como estão distribuídos os dados."
      ]
    },
    {
      "cell_type": "code",
      "metadata": {
        "colab": {
          "base_uri": "https://localhost:8080/",
          "height": 233
        },
        "id": "jzNC7wym9Q7X",
        "outputId": "4ef935cb-3754-4885-a3c2-e1402b6919b1"
      },
      "source": [
        "fig, axes = plt.subplots(nrows=1, ncols=2, figsize=(14,3))\n",
        "\n",
        "# Tem uma pessoa com 221 anos!\n",
        "ax = dados['paciente_idade'].plot(kind='hist', bins=[x for x in range(0,120,5)],\n",
        "                             edgecolor='black', ax=axes[0],\n",
        "                             title=\"Distribuição de vacinados por idade\")\n",
        "ax.set_ylabel(\"Quantidade\")\n",
        "dados['estabelecimento_uf'] \\\n",
        "  .value_counts().plot(kind='bar',  ax=axes[1], edgecolor='black',\n",
        "                       title=\"Distribuição de vacinados por estado\")\n",
        "\n",
        "plt.show()"
      ],
      "execution_count": 9,
      "outputs": [
        {
          "output_type": "display_data",
          "data": {
            "image/png": "[encoded data removed]",
            "text/plain": [
              "<Figure size 1008x216 with 2 Axes>"
            ]
          },
          "metadata": {
            "tags": [],
            "needs_background": "light"
          }
        }
      ]
    },
    {
      "cell_type": "code",
      "metadata": {
        "colab": {
          "base_uri": "https://localhost:8080/"
        },
        "id": "yZS_IfzV-Nrc",
        "outputId": "5578b574-35f6-4755-d5f8-9ac1e98561a3"
      },
      "source": [
        "dados['vacina_fabricante_nome'].value_counts().head()"
      ],
      "execution_count": 10,
      "outputs": [
        {
          "output_type": "execute_result",
          "data": {
            "text/plain": [
              "FUNDACAO BUTANTAN        8745\n",
              "FUNDACAO OSWALDO CRUZ    4227\n",
              "SINOVAC                  1872\n",
              "ASTRAZENECA/OXFORD       1214\n",
              "Sinovac                  1075\n",
              "Name: vacina_fabricante_nome, dtype: int64"
            ]
          },
          "metadata": {
            "tags": []
          },
          "execution_count": 10
        }
      ]
    },
    {
      "cell_type": "markdown",
      "metadata": {
        "id": "LNw6SY-Eb_fs"
      },
      "source": [
        "Não existe padrão de preenchimento de dados.\n",
        "\n",
        "Listei todos os valores, montei uma planilha do excel e fui mapeando para os nomes comerciais. Esse mapeamento está no arquivo 'vaccines_normalization.csv'. Essa lista contém os valores apenas para as 20 mil linhas extraídas, quando formos trabalhar no dataset inteiro, vai quebrar :D"
      ]
    },
    {
      "cell_type": "code",
      "metadata": {
        "colab": {
          "base_uri": "https://localhost:8080/"
        },
        "id": "vPk0J_LA-fPo",
        "outputId": "eb8d41e1-329d-432f-840b-a3876c9ccd33"
      },
      "source": [
        "!cp \"/content/drive/MyDrive/alura/bootcamp-data-science/vaccines_normalization.csv\" .\n",
        "label_vacinas = pd.read_csv(\"/content/vaccines_normalization.csv\",\n",
        "                            encoding=\"ISO-8859-1\", sep=\",\")\n",
        "label_vacinas = label_vacinas.set_index('label')\n",
        "label_vacinas = label_vacinas.to_dict()\n",
        "label_vacinas = label_vacinas['vaccine']\n",
        "vacinas_normalizada = []\n",
        "for vc in dados['vacina_fabricante_nome']:\n",
        "  if type(vc) != float: # NaN no dataframe\n",
        "    vacinas_normalizada.append(label_vacinas[vc])\n",
        "  else:\n",
        "    vacinas_normalizada.append('Unknown')\n",
        "dados['vacina_fabricante_nome_n'] = vacinas_normalizada\n",
        "dados['vacina_fabricante_nome_n'].value_counts()"
      ],
      "execution_count": 4,
      "outputs": [
        {
          "output_type": "execute_result",
          "data": {
            "text/plain": [
              "CoronaVac      12448\n",
              "AstraZeneca     6509\n",
              "MS               490\n",
              "Unknown          406\n",
              "Pfizer           146\n",
              "Sanofi             1\n",
              "Name: vacina_fabricante_nome_n, dtype: int64"
            ]
          },
          "metadata": {
            "tags": []
          },
          "execution_count": 4
        }
      ]
    },
    {
      "cell_type": "markdown",
      "metadata": {
        "id": "uq_C2jC_WzPg"
      },
      "source": [
        "Dado a não padronização dos nomes da vacina no dataset original, temos nomes de vacinas como MS (aka 'Ministério da Saúde') a qual não sabemos qual é. Um detalhe interessante, é que essa amostra pegou uma vacina ainda em testes, da Sanofi."
      ]
    },
    {
      "cell_type": "code",
      "metadata": {
        "colab": {
          "base_uri": "https://localhost:8080/",
          "height": 280
        },
        "id": "8OhXlZQmdT9D",
        "outputId": "bc9b80e4-fac6-4cdc-f011-31a975485c2e"
      },
      "source": [
        "fig, axes = plt.subplots(nrows=1, ncols=2, figsize=(10,3))\n",
        "ax = dados['vacina_fabricante_nome_n'] \\\n",
        "  .value_counts().plot(kind='bar', ax=axes[0],\n",
        "                       title=\"Doses aplicadas por fabricante\", \n",
        "                       edgecolor='black')\n",
        "ax.set_ylabel(\"Quantidade\")\n",
        "ax = dados['vacina_descricao_dose'] \\\n",
        "  .value_counts().plot(kind='bar', ax=axes[1],\n",
        "                       title=\"Quantidade primeiras e segundas doses aplicadas\",\n",
        "                       rot=0, edgecolor='black')\n",
        "\n",
        "ax.set_xticklabels([\"1ª Dose\", \"2ª Dose\"])\n",
        "plt.show()"
      ],
      "execution_count": 5,
      "outputs": [
        {
          "output_type": "display_data",
          "data": {
            "image/png": "[encoded data removed]",
            "text/plain": [
              "<Figure size 720x216 with 2 Axes>"
            ]
          },
          "metadata": {
            "tags": [],
            "needs_background": "light"
          }
        }
      ]
    },
    {
      "cell_type": "markdown",
      "metadata": {
        "id": "MFoHp3e7XfIW"
      },
      "source": [
        "Outro problea encontrado é a falta de preenchimento de alguns campos, como \"Raça/Cor\"."
      ]
    },
    {
      "cell_type": "code",
      "metadata": {
        "colab": {
          "base_uri": "https://localhost:8080/"
        },
        "id": "3G8ZzWUngEAl",
        "outputId": "6507fdb2-5486-4979-a6a5-c41edca93ddc"
      },
      "source": [
        "dados['paciente_racacor_valor'].value_counts()"
      ],
      "execution_count": 13,
      "outputs": [
        {
          "output_type": "execute_result",
          "data": {
            "text/plain": [
              "BRANCA            7579\n",
              "SEM INFORMACAO    5256\n",
              "PARDA             3641\n",
              "AMARELA           2530\n",
              "PRETA              841\n",
              "INDIGENA           153\n",
              "Name: paciente_racacor_valor, dtype: int64"
            ]
          },
          "metadata": {
            "tags": []
          },
          "execution_count": 13
        }
      ]
    },
    {
      "cell_type": "markdown",
      "metadata": {
        "id": "GpyPa9rlXoDU"
      },
      "source": [
        "O que leva às mulheres a terem 60% de vacinação, enquanto que os homents apenas 40%?"
      ]
    },
    {
      "cell_type": "code",
      "metadata": {
        "colab": {
          "base_uri": "https://localhost:8080/"
        },
        "id": "hV9gp5FLWn4r",
        "outputId": "63167cf4-d50d-4c2a-8322-b9086c33806d"
      },
      "source": [
        "dados['paciente_enumsexobiologico'].value_counts()"
      ],
      "execution_count": 14,
      "outputs": [
        {
          "output_type": "execute_result",
          "data": {
            "text/plain": [
              "F    11828\n",
              "M     8172\n",
              "Name: paciente_enumsexobiologico, dtype: int64"
            ]
          },
          "metadata": {
            "tags": []
          },
          "execution_count": 14
        }
      ]
    },
    {
      "cell_type": "markdown",
      "metadata": {
        "id": "kXqSb14QYDto"
      },
      "source": [
        "## Datas"
      ]
    },
    {
      "cell_type": "markdown",
      "metadata": {
        "id": "HG2ZX6KPYos-"
      },
      "source": [
        "As datas nos dão uma distribuição no tempo de quantas doses foram aplicadas, porém no formato atual, elas ficam um pouco complicadas de serem trabalhadas. \n",
        "\n",
        "Vamos criar uma nova coluna para distribuir por mês."
      ]
    },
    {
      "cell_type": "code",
      "metadata": {
        "colab": {
          "base_uri": "https://localhost:8080/",
          "height": 241
        },
        "id": "qaRje-KYhkpO",
        "outputId": "630306e6-baf2-457b-ec62-bd677d24dae2"
      },
      "source": [
        "dados['vacina_dataaplicacao_mes'] = [\"-\".join(dt.split('-')[:2])\n",
        "                                     for dt in dados['vacina_dataaplicacao']]\n",
        "dados.head()"
      ],
      "execution_count": 6,
      "outputs": [
        {
          "output_type": "execute_result",
          "data": {
            "text/html": [
              "<div>\n",
              "<style scoped>\n",
              "    .dataframe tbody tr th:only-of-type {\n",
              "        vertical-align: middle;\n",
              "    }\n",
              "\n",
              "    .dataframe tbody tr th {\n",
              "        vertical-align: top;\n",
              "    }\n",
              "\n",
              "    .dataframe thead th {\n",
              "        text-align: right;\n",
              "    }\n",
              "</style>\n",
              "<table border=\"1\" class=\"dataframe\">\n",
              "  <thead>\n",
              "    <tr style=\"text-align: right;\">\n",
              "      <th></th>\n",
              "      <th>paciente_idade</th>\n",
              "      <th>paciente_enumsexobiologico</th>\n",
              "      <th>paciente_racacor_valor</th>\n",
              "      <th>paciente_endereco_uf</th>\n",
              "      <th>estabelecimento_uf</th>\n",
              "      <th>vacina_fabricante_nome</th>\n",
              "      <th>vacina_dataaplicacao</th>\n",
              "      <th>vacina_descricao_dose</th>\n",
              "      <th>vacina_fabricante_nome_n</th>\n",
              "      <th>vacina_dataaplicacao_mes</th>\n",
              "    </tr>\n",
              "  </thead>\n",
              "  <tbody>\n",
              "    <tr>\n",
              "      <th>0</th>\n",
              "      <td>77.0</td>\n",
              "      <td>F</td>\n",
              "      <td>AMARELA</td>\n",
              "      <td>SC</td>\n",
              "      <td>SC</td>\n",
              "      <td>FUNDACAO BUTANTAN</td>\n",
              "      <td>2021-04-12</td>\n",
              "      <td>2</td>\n",
              "      <td>CoronaVac</td>\n",
              "      <td>2021-04</td>\n",
              "    </tr>\n",
              "    <tr>\n",
              "      <th>1</th>\n",
              "      <td>32.0</td>\n",
              "      <td>F</td>\n",
              "      <td>BRANCA</td>\n",
              "      <td>RN</td>\n",
              "      <td>RN</td>\n",
              "      <td>FUNDACAO BUTANTAN</td>\n",
              "      <td>2021-01-27</td>\n",
              "      <td>1</td>\n",
              "      <td>CoronaVac</td>\n",
              "      <td>2021-01</td>\n",
              "    </tr>\n",
              "    <tr>\n",
              "      <th>2</th>\n",
              "      <td>92.0</td>\n",
              "      <td>F</td>\n",
              "      <td>BRANCA</td>\n",
              "      <td>MG</td>\n",
              "      <td>MG</td>\n",
              "      <td>FUNDACAO BUTANTAN</td>\n",
              "      <td>2021-03-06</td>\n",
              "      <td>2</td>\n",
              "      <td>CoronaVac</td>\n",
              "      <td>2021-03</td>\n",
              "    </tr>\n",
              "    <tr>\n",
              "      <th>3</th>\n",
              "      <td>67.0</td>\n",
              "      <td>M</td>\n",
              "      <td>SEM INFORMACAO</td>\n",
              "      <td>BA</td>\n",
              "      <td>BA</td>\n",
              "      <td>FUNDACAO BUTANTAN</td>\n",
              "      <td>2021-03-28</td>\n",
              "      <td>1</td>\n",
              "      <td>CoronaVac</td>\n",
              "      <td>2021-03</td>\n",
              "    </tr>\n",
              "    <tr>\n",
              "      <th>4</th>\n",
              "      <td>64.0</td>\n",
              "      <td>M</td>\n",
              "      <td>AMARELA</td>\n",
              "      <td>TO</td>\n",
              "      <td>TO</td>\n",
              "      <td>FUNDACAO OSWALDO CRUZ</td>\n",
              "      <td>2021-04-30</td>\n",
              "      <td>1</td>\n",
              "      <td>AstraZeneca</td>\n",
              "      <td>2021-04</td>\n",
              "    </tr>\n",
              "  </tbody>\n",
              "</table>\n",
              "</div>"
            ],
            "text/plain": [
              "   paciente_idade  ... vacina_dataaplicacao_mes\n",
              "0            77.0  ...                  2021-04\n",
              "1            32.0  ...                  2021-01\n",
              "2            92.0  ...                  2021-03\n",
              "3            67.0  ...                  2021-03\n",
              "4            64.0  ...                  2021-04\n",
              "\n",
              "[5 rows x 10 columns]"
            ]
          },
          "metadata": {
            "tags": []
          },
          "execution_count": 6
        }
      ]
    },
    {
      "cell_type": "code",
      "metadata": {
        "colab": {
          "base_uri": "https://localhost:8080/",
          "height": 328
        },
        "id": "KXekPXVMiDE7",
        "outputId": "97517205-ffbd-4075-c45f-bdf3ea533bd7"
      },
      "source": [
        "ax = dados.groupby(['vacina_dataaplicacao_mes','vacina_descricao_dose']) \\\n",
        "  .size().unstack().plot(kind='bar', edgecolor='black')\n",
        "ax.set_title(\"Doses aplicadas por mês\")\n",
        "ax.legend([\"1ª Dose\", \"2ª Dose\"])\n",
        "plt.show()"
      ],
      "execution_count": 7,
      "outputs": [
        {
          "output_type": "display_data",
          "data": {
            "image/png": "[encoded data removed]",
            "text/plain": [
              "<Figure size 432x288 with 1 Axes>"
            ]
          },
          "metadata": {
            "tags": [],
            "needs_background": "light"
          }
        }
      ]
    },
    {
      "cell_type": "markdown",
      "metadata": {
        "id": "vqcTbBQxZDAc"
      },
      "source": [
        "Os dados apresentados acima nos dão um bom panorama de quando as vacinas começaram e como estão indo em relação a primeira e segunda dose.\n",
        "\n",
        "Vamos granuzalizar esses dados por semana."
      ]
    },
    {
      "cell_type": "code",
      "metadata": {
        "colab": {
          "base_uri": "https://localhost:8080/",
          "height": 241
        },
        "id": "Flek44zPkuU6",
        "outputId": "0763a2c7-ee90-448c-cd3f-fc011ab7ceb2"
      },
      "source": [
        "from datetime import datetime\n",
        "date_format = '%Y-%m-%d'\n",
        "dados['vacina_dataaplicacao_semana'] = \\\n",
        "  [datetime.strptime(dt, date_format).isocalendar()[1]\n",
        "   for dt in dados['vacina_dataaplicacao']]\n",
        "dados.head()"
      ],
      "execution_count": 8,
      "outputs": [
        {
          "output_type": "execute_result",
          "data": {
            "text/html": [
              "<div>\n",
              "<style scoped>\n",
              "    .dataframe tbody tr th:only-of-type {\n",
              "        vertical-align: middle;\n",
              "    }\n",
              "\n",
              "    .dataframe tbody tr th {\n",
              "        vertical-align: top;\n",
              "    }\n",
              "\n",
              "    .dataframe thead th {\n",
              "        text-align: right;\n",
              "    }\n",
              "</style>\n",
              "<table border=\"1\" class=\"dataframe\">\n",
              "  <thead>\n",
              "    <tr style=\"text-align: right;\">\n",
              "      <th></th>\n",
              "      <th>paciente_idade</th>\n",
              "      <th>paciente_enumsexobiologico</th>\n",
              "      <th>paciente_racacor_valor</th>\n",
              "      <th>paciente_endereco_uf</th>\n",
              "      <th>estabelecimento_uf</th>\n",
              "      <th>vacina_fabricante_nome</th>\n",
              "      <th>vacina_dataaplicacao</th>\n",
              "      <th>vacina_descricao_dose</th>\n",
              "      <th>vacina_fabricante_nome_n</th>\n",
              "      <th>vacina_dataaplicacao_mes</th>\n",
              "      <th>vacina_dataaplicacao_semana</th>\n",
              "    </tr>\n",
              "  </thead>\n",
              "  <tbody>\n",
              "    <tr>\n",
              "      <th>0</th>\n",
              "      <td>77.0</td>\n",
              "      <td>F</td>\n",
              "      <td>AMARELA</td>\n",
              "      <td>SC</td>\n",
              "      <td>SC</td>\n",
              "      <td>FUNDACAO BUTANTAN</td>\n",
              "      <td>2021-04-12</td>\n",
              "      <td>2</td>\n",
              "      <td>CoronaVac</td>\n",
              "      <td>2021-04</td>\n",
              "      <td>15</td>\n",
              "    </tr>\n",
              "    <tr>\n",
              "      <th>1</th>\n",
              "      <td>32.0</td>\n",
              "      <td>F</td>\n",
              "      <td>BRANCA</td>\n",
              "      <td>RN</td>\n",
              "      <td>RN</td>\n",
              "      <td>FUNDACAO BUTANTAN</td>\n",
              "      <td>2021-01-27</td>\n",
              "      <td>1</td>\n",
              "      <td>CoronaVac</td>\n",
              "      <td>2021-01</td>\n",
              "      <td>4</td>\n",
              "    </tr>\n",
              "    <tr>\n",
              "      <th>2</th>\n",
              "      <td>92.0</td>\n",
              "      <td>F</td>\n",
              "      <td>BRANCA</td>\n",
              "      <td>MG</td>\n",
              "      <td>MG</td>\n",
              "      <td>FUNDACAO BUTANTAN</td>\n",
              "      <td>2021-03-06</td>\n",
              "      <td>2</td>\n",
              "      <td>CoronaVac</td>\n",
              "      <td>2021-03</td>\n",
              "      <td>9</td>\n",
              "    </tr>\n",
              "    <tr>\n",
              "      <th>3</th>\n",
              "      <td>67.0</td>\n",
              "      <td>M</td>\n",
              "      <td>SEM INFORMACAO</td>\n",
              "      <td>BA</td>\n",
              "      <td>BA</td>\n",
              "      <td>FUNDACAO BUTANTAN</td>\n",
              "      <td>2021-03-28</td>\n",
              "      <td>1</td>\n",
              "      <td>CoronaVac</td>\n",
              "      <td>2021-03</td>\n",
              "      <td>12</td>\n",
              "    </tr>\n",
              "    <tr>\n",
              "      <th>4</th>\n",
              "      <td>64.0</td>\n",
              "      <td>M</td>\n",
              "      <td>AMARELA</td>\n",
              "      <td>TO</td>\n",
              "      <td>TO</td>\n",
              "      <td>FUNDACAO OSWALDO CRUZ</td>\n",
              "      <td>2021-04-30</td>\n",
              "      <td>1</td>\n",
              "      <td>AstraZeneca</td>\n",
              "      <td>2021-04</td>\n",
              "      <td>17</td>\n",
              "    </tr>\n",
              "  </tbody>\n",
              "</table>\n",
              "</div>"
            ],
            "text/plain": [
              "   paciente_idade  ... vacina_dataaplicacao_semana\n",
              "0            77.0  ...                          15\n",
              "1            32.0  ...                           4\n",
              "2            92.0  ...                           9\n",
              "3            67.0  ...                          12\n",
              "4            64.0  ...                          17\n",
              "\n",
              "[5 rows x 11 columns]"
            ]
          },
          "metadata": {
            "tags": []
          },
          "execution_count": 8
        }
      ]
    },
    {
      "cell_type": "code",
      "metadata": {
        "colab": {
          "base_uri": "https://localhost:8080/",
          "height": 392
        },
        "id": "aJXAVV82lvhZ",
        "outputId": "2afdf4f6-810f-4f3a-e93c-f6f7062e9182"
      },
      "source": [
        "ax = dados.groupby(['vacina_dataaplicacao_semana','vacina_descricao_dose']) \\\n",
        "  .size().unstack().plot(kind='bar', figsize=(20,6), edgecolor='black')\n",
        "ax.legend([\"1ª Dose\", \"2ª Dose\"])\n",
        "l = ax.get_legend()\n",
        "plt.show()"
      ],
      "execution_count": 9,
      "outputs": [
        {
          "output_type": "display_data",
          "data": {
            "image/png": "[encoded data removed]",
            "text/plain": [
              "<Figure size 1440x432 with 1 Axes>"
            ]
          },
          "metadata": {
            "tags": [],
            "needs_background": "light"
          }
        }
      ]
    },
    {
      "cell_type": "code",
      "metadata": {
        "id": "kqG7xDmN_DPh"
      },
      "source": [
        ""
      ],
      "execution_count": null,
      "outputs": []
    },
    {
      "cell_type": "markdown",
      "metadata": {
        "id": "-z5UPb06qgKE"
      },
      "source": [
        "Vacinados por idade com gênero sobrepostos"
      ]
    },
    {
      "cell_type": "code",
      "metadata": {
        "colab": {
          "base_uri": "https://localhost:8080/",
          "height": 281
        },
        "id": "NTmmh7_cofvl",
        "outputId": "c11b8770-84d2-404f-967d-2591c070cb5e"
      },
      "source": [
        "bins_idade = [x for x in range(0,120,5)]\n",
        "# bins_idade.append(120)\n",
        "ax = dados.groupby('paciente_enumsexobiologico')['paciente_idade'].plot(kind='hist', bins=bins_idade,\n",
        "                             edgecolor='black',# orientation='horizontal',\n",
        "                             title=\"Distribuição de vacinados por idade\")"
      ],
      "execution_count": 10,
      "outputs": [
        {
          "output_type": "display_data",
          "data": {
            "image/png": "[encoded data removed]",
            "text/plain": [
              "<Figure size 432x288 with 1 Axes>"
            ]
          },
          "metadata": {
            "tags": [],
            "needs_background": "light"
          }
        }
      ]
    },
    {
      "cell_type": "code",
      "metadata": {
        "colab": {
          "base_uri": "https://localhost:8080/",
          "height": 417
        },
        "id": "nOu7tY-XqKsV",
        "outputId": "bff16f27-c9aa-47ac-ae70-11c2c63ab500"
      },
      "source": [
        "import matplotlib.patches as mpatches\n",
        "\n",
        "fig, axes = plt.subplots(nrows=1, ncols=2, figsize=(10,6))\n",
        "fig.suptitle(\"Pirâmide etária\")\n",
        "plt.subplots_adjust(wspace=0, hspace=0)\n",
        "y_lim_sup = 110\n",
        "y_lim_inf = 0\n",
        "x_lim_sup = 1400\n",
        "axes[0].set_xlim(0,x_lim_sup)\n",
        "axes[1].set_xlim(0,x_lim_sup)\n",
        "axes[0].set_ylim(y_lim_inf,y_lim_sup)\n",
        "axes[1].set_ylim(y_lim_inf,y_lim_sup)\n",
        "axes[0].invert_xaxis()\n",
        "\n",
        "d_bins = {}\n",
        "\n",
        "for group in dados.groupby(['paciente_enumsexobiologico','vacina_descricao_dose']):\n",
        "  if group[0][0] is 'M':\n",
        "    idade_maculina = group[1]['paciente_idade']\n",
        "    ax = idade_maculina.plot(kind='hist', edgecolor='black', bins=bins_idade,\n",
        "                             orientation='horizontal', ax=axes[0], grid=True,\n",
        "                             title=\"Maculino\")\n",
        "    ax.set_xlabel(\"\")\n",
        "    ax.set_ylabel(\"Idade\")\n",
        "  if group[0][0] is 'F': # Genero\n",
        "    idade_feminina = group[1]['paciente_idade']\n",
        "    ax = idade_feminina.plot(kind='hist', bins=bins_idade, edgecolor='black',\n",
        "                             orientation='horizontal', ax=axes[1], grid=True,\n",
        "                             title=\"Feminino\")\n",
        "    ax.set_yticklabels([])\n",
        "    ax.set_xlabel(\"\")\n",
        "  d_bins[f'{group[0][0]}{str(group[0][1])}'] = [i.get_width() for i in ax.patches]\n",
        "\n",
        "st_shot = mpatches.Patch(facecolor='#1f76b4', edgecolor='k', label=\"1ª Dose\")\n",
        "nd_shot = mpatches.Patch(facecolor='#ff7e0e', edgecolor='k', label=\"2ª Dose\")\n",
        "plt.legend(handles=[st_shot, nd_shot])\n",
        "plt.show()"
      ],
      "execution_count": 11,
      "outputs": [
        {
          "output_type": "display_data",
          "data": {
            "image/png": "[encoded data removed]",
            "text/plain": [
              "<Figure size 720x432 with 2 Axes>"
            ]
          },
          "metadata": {
            "tags": [],
            "needs_background": "light"
          }
        }
      ]
    },
    {
      "cell_type": "markdown",
      "metadata": {
        "id": "h3G42tWnL25u"
      },
      "source": [
        "Os bins do gráfico anteiror foram reaproveitados no próximo gráfico, porém tiveram que serem trabalhados para se alinharem ao range dos novos dados."
      ]
    },
    {
      "cell_type": "code",
      "metadata": {
        "id": "vM_3_XpH98G2"
      },
      "source": [
        "d_bins['F2'] = d_bins['F2'][23:]\n",
        "d_bins['M2'] = d_bins['M2'][23:]\n",
        "for k in d_bins:\n",
        "  first_years = d_bins[k][:20]\n",
        "  first_years.append(sum(d_bins[k][20:]))\n",
        "  d_bins[k] = first_years.copy()"
      ],
      "execution_count": 13,
      "outputs": []
    },
    {
      "cell_type": "markdown",
      "metadata": {
        "id": "VehpP5YWLItt"
      },
      "source": [
        "Apesar dessa pirâmide etártia já contar algumas informações importantes, como a população feminina estar mais vacinada e a mais quantidade de vacinados em grupos de idade mais alta. Ainda apresenta alguns problemas, como a comparação com a população total.\n",
        "\n",
        "Dados coletados da pirâmide etária foram adicionados para dar mais um grau de profundidade a vacinação Brasileira.\n",
        "\n",
        "Fonte: https://www.populationpyramid.net/pt/brasil/2021/"
      ]
    },
    {
      "cell_type": "code",
      "metadata": {
        "id": "m80Dmdad2_6f"
      },
      "source": [
        "!cp \"/content/drive/MyDrive/alura/bootcamp-data-science/population_pyramid_brasil_2021.csv\" .\n",
        "pir_etaria = pd.read_csv(\"/content/population_pyramid_brasil_2021.csv\")\n",
        "# Arranjo tecnico para que o gráfico fique bonitão, tem 0 validade :D \n",
        "pir_etaria['M'] = pir_etaria['M']/1000\n",
        "pir_etaria['F'] = pir_etaria['F']/1000\n",
        "df_hist_vac = pd.DataFrame()\n",
        "df_hist_vac = df_hist_vac.from_dict(d_bins)"
      ],
      "execution_count": 14,
      "outputs": []
    },
    {
      "cell_type": "code",
      "metadata": {
        "colab": {
          "base_uri": "https://localhost:8080/",
          "height": 204
        },
        "id": "evWgB2cWCjDp",
        "outputId": "99d545fd-ec11-497c-fbb8-defb09557c3d"
      },
      "source": [
        "df_piramide = pd.concat([pir_etaria, df_hist_vac], axis=1)\n",
        "# df_piramide = df_piramide.set_index('Age')\n",
        "df_piramide.head()"
      ],
      "execution_count": 163,
      "outputs": [
        {
          "output_type": "execute_result",
          "data": {
            "text/html": [
              "<div>\n",
              "<style scoped>\n",
              "    .dataframe tbody tr th:only-of-type {\n",
              "        vertical-align: middle;\n",
              "    }\n",
              "\n",
              "    .dataframe tbody tr th {\n",
              "        vertical-align: top;\n",
              "    }\n",
              "\n",
              "    .dataframe thead th {\n",
              "        text-align: right;\n",
              "    }\n",
              "</style>\n",
              "<table border=\"1\" class=\"dataframe\">\n",
              "  <thead>\n",
              "    <tr style=\"text-align: right;\">\n",
              "      <th></th>\n",
              "      <th>Age</th>\n",
              "      <th>M</th>\n",
              "      <th>F</th>\n",
              "      <th>F1</th>\n",
              "      <th>F2</th>\n",
              "      <th>M1</th>\n",
              "      <th>M2</th>\n",
              "    </tr>\n",
              "  </thead>\n",
              "  <tbody>\n",
              "    <tr>\n",
              "      <th>0</th>\n",
              "      <td>0-4</td>\n",
              "      <td>7357.796</td>\n",
              "      <td>7027.050</td>\n",
              "      <td>0.0</td>\n",
              "      <td>0.0</td>\n",
              "      <td>0.0</td>\n",
              "      <td>0.0</td>\n",
              "    </tr>\n",
              "    <tr>\n",
              "      <th>1</th>\n",
              "      <td>5-9</td>\n",
              "      <td>7456.918</td>\n",
              "      <td>7126.488</td>\n",
              "      <td>0.0</td>\n",
              "      <td>0.0</td>\n",
              "      <td>0.0</td>\n",
              "      <td>0.0</td>\n",
              "    </tr>\n",
              "    <tr>\n",
              "      <th>2</th>\n",
              "      <td>10-14</td>\n",
              "      <td>7550.011</td>\n",
              "      <td>7244.662</td>\n",
              "      <td>0.0</td>\n",
              "      <td>0.0</td>\n",
              "      <td>0.0</td>\n",
              "      <td>1.0</td>\n",
              "    </tr>\n",
              "    <tr>\n",
              "      <th>3</th>\n",
              "      <td>15-19</td>\n",
              "      <td>8110.694</td>\n",
              "      <td>7827.868</td>\n",
              "      <td>31.0</td>\n",
              "      <td>19.0</td>\n",
              "      <td>25.0</td>\n",
              "      <td>6.0</td>\n",
              "    </tr>\n",
              "    <tr>\n",
              "      <th>4</th>\n",
              "      <td>20-24</td>\n",
              "      <td>8630.334</td>\n",
              "      <td>8410.568</td>\n",
              "      <td>168.0</td>\n",
              "      <td>99.0</td>\n",
              "      <td>100.0</td>\n",
              "      <td>40.0</td>\n",
              "    </tr>\n",
              "  </tbody>\n",
              "</table>\n",
              "</div>"
            ],
            "text/plain": [
              "     Age         M         F     F1    F2     M1    M2\n",
              "0    0-4  7357.796  7027.050    0.0   0.0    0.0   0.0\n",
              "1    5-9  7456.918  7126.488    0.0   0.0    0.0   0.0\n",
              "2  10-14  7550.011  7244.662    0.0   0.0    0.0   1.0\n",
              "3  15-19  8110.694  7827.868   31.0  19.0   25.0   6.0\n",
              "4  20-24  8630.334  8410.568  168.0  99.0  100.0  40.0"
            ]
          },
          "metadata": {
            "tags": []
          },
          "execution_count": 163
        }
      ]
    },
    {
      "cell_type": "code",
      "metadata": {
        "colab": {
          "base_uri": "https://localhost:8080/",
          "height": 417
        },
        "id": "zHsVlYM9Ezem",
        "outputId": "dd73512d-71c9-4241-930b-dc09b7cbbb8d"
      },
      "source": [
        "import seaborn as sns\n",
        "\n",
        "fig, axes = plt.subplots(nrows=1, ncols=2, figsize=(10,6))\n",
        "fig.suptitle(\"Pirâmide etária\")\n",
        "plt.subplots_adjust(wspace=0, hspace=0)\n",
        "axes[0].invert_xaxis()\n",
        "\n",
        "sns.barplot(x=\"M\",y=\"Age\", color=\"#1f76b4\", data = df_piramide, ax=axes[0], edgecolor='black')\n",
        "sns.barplot(x=\"M1\",y=\"Age\", color=\"#ff7e0e\", data = df_piramide, ax=axes[0], edgecolor='black')\n",
        "sns.barplot(x=\"M2\",y=\"Age\", color=\"g\", data = df_piramide, ax=axes[0], edgecolor='black')\n",
        "\n",
        "sns.barplot(x=\"F\",y=\"Age\", color=\"#1f76b4\", data = df_piramide, ax=axes[1], edgecolor='black')\n",
        "sns.barplot(x=\"F1\",y=\"Age\", color=\"#ff7e0e\", data = df_piramide, ax=axes[1], edgecolor='black')\n",
        "sns.barplot(x=\"F2\",y=\"Age\", color=\"g\", data = df_piramide, ax=axes[1], edgecolor='black')\n",
        "\n",
        "axes[0].invert_yaxis()\n",
        "axes[1].invert_yaxis()\n",
        "axes[1].set_yticklabels([])\n",
        "axes[1].set_ylabel(\"\")\n",
        "axes[0].set_xlabel(\"\")\n",
        "axes[1].set_xlabel(\"\")\n",
        "\n",
        "axes[1].tick_params(left=False)"
      ],
      "execution_count": 196,
      "outputs": [
        {
          "output_type": "display_data",
          "data": {
            "image/png": "[encoded data removed]",
            "text/plain": [
              "<Figure size 720x432 with 2 Axes>"
            ]
          },
          "metadata": {
            "tags": [],
            "needs_background": "light"
          }
        }
      ]
    },
    {
      "cell_type": "markdown",
      "metadata": {
        "id": "411t0LjVMI9k"
      },
      "source": [
        "# Dados completos - WIP"
      ]
    },
    {
      "cell_type": "code",
      "metadata": {
        "colab": {
          "base_uri": "https://localhost:8080/",
          "height": 238
        },
        "id": "dJXVdEwyMKpL",
        "outputId": "93ee4435-e4b7-4102-fe5b-6f2dfd8cca02"
      },
      "source": [
        "#!cp \"/content/drive/MyDrive/alura/bootcamp-data-science/vaccines_v2.csv\" .\n",
        "dados = pd.read_csv(\"/content/vaccines_v2.csv\", encoding=\"ISO-8859-1\", sep=\";\")\n",
        "dados.head()"
      ],
      "execution_count": 3,
      "outputs": [
        {
          "output_type": "stream",
          "text": [
            "/usr/local/lib/python3.7/dist-packages/IPython/core/interactiveshell.py:2718: DtypeWarning: Columns (7) have mixed types.Specify dtype option on import or set low_memory=False.\n",
            "  interactivity=interactivity, compiler=compiler, result=result)\n"
          ],
          "name": "stderr"
        },
        {
          "output_type": "execute_result",
          "data": {
            "text/html": [
              "<div>\n",
              "<style scoped>\n",
              "    .dataframe tbody tr th:only-of-type {\n",
              "        vertical-align: middle;\n",
              "    }\n",
              "\n",
              "    .dataframe tbody tr th {\n",
              "        vertical-align: top;\n",
              "    }\n",
              "\n",
              "    .dataframe thead th {\n",
              "        text-align: right;\n",
              "    }\n",
              "</style>\n",
              "<table border=\"1\" class=\"dataframe\">\n",
              "  <thead>\n",
              "    <tr style=\"text-align: right;\">\n",
              "      <th></th>\n",
              "      <th>paciente_idade</th>\n",
              "      <th>paciente_enumsexobiologico</th>\n",
              "      <th>paciente_racacor_valor</th>\n",
              "      <th>paciente_endereco_uf</th>\n",
              "      <th>estabelecimento_uf</th>\n",
              "      <th>vacina_fabricante_nome</th>\n",
              "      <th>vacina_dataaplicacao</th>\n",
              "      <th>vacina_descricao_dose</th>\n",
              "    </tr>\n",
              "  </thead>\n",
              "  <tbody>\n",
              "    <tr>\n",
              "      <th>0</th>\n",
              "      <td>77.0</td>\n",
              "      <td>M</td>\n",
              "      <td>BRANCA</td>\n",
              "      <td>SC</td>\n",
              "      <td>SC</td>\n",
              "      <td>SERUM INSTITUTE OF INDIA LTD</td>\n",
              "      <td>2021-03-20</td>\n",
              "      <td>1</td>\n",
              "    </tr>\n",
              "    <tr>\n",
              "      <th>1</th>\n",
              "      <td>77.0</td>\n",
              "      <td>M</td>\n",
              "      <td>PARDA</td>\n",
              "      <td>RO</td>\n",
              "      <td>RO</td>\n",
              "      <td>FUNDACAO BUTANTAN</td>\n",
              "      <td>2021-03-23</td>\n",
              "      <td>1</td>\n",
              "    </tr>\n",
              "    <tr>\n",
              "      <th>2</th>\n",
              "      <td>75.0</td>\n",
              "      <td>M</td>\n",
              "      <td>BRANCA</td>\n",
              "      <td>MT</td>\n",
              "      <td>MT</td>\n",
              "      <td>FUNDACAO BUTANTAN</td>\n",
              "      <td>2021-03-30</td>\n",
              "      <td>1</td>\n",
              "    </tr>\n",
              "    <tr>\n",
              "      <th>3</th>\n",
              "      <td>90.0</td>\n",
              "      <td>F</td>\n",
              "      <td>BRANCA</td>\n",
              "      <td>RJ</td>\n",
              "      <td>RJ</td>\n",
              "      <td>FUNDACAO BUTANTAN</td>\n",
              "      <td>2021-02-18</td>\n",
              "      <td>1</td>\n",
              "    </tr>\n",
              "    <tr>\n",
              "      <th>4</th>\n",
              "      <td>64.0</td>\n",
              "      <td>F</td>\n",
              "      <td>PARDA</td>\n",
              "      <td>SE</td>\n",
              "      <td>SE</td>\n",
              "      <td>FUNDACAO OSWALDO CRUZ</td>\n",
              "      <td>2021-04-07</td>\n",
              "      <td>1</td>\n",
              "    </tr>\n",
              "  </tbody>\n",
              "</table>\n",
              "</div>"
            ],
            "text/plain": [
              "   paciente_idade  ... vacina_descricao_dose\n",
              "0            77.0  ...                     1\n",
              "1            77.0  ...                     1\n",
              "2            75.0  ...                     1\n",
              "3            90.0  ...                     1\n",
              "4            64.0  ...                     1\n",
              "\n",
              "[5 rows x 8 columns]"
            ]
          },
          "metadata": {
            "tags": []
          },
          "execution_count": 3
        }
      ]
    },
    {
      "cell_type": "code",
      "metadata": {
        "id": "iRcBLbi1RSn_"
      },
      "source": [
        ""
      ],
      "execution_count": null,
      "outputs": []
    }
  ]
}