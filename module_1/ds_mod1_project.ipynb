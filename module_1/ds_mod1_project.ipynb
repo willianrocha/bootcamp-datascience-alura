{
  "nbformat": 4,
  "nbformat_minor": 0,
  "metadata": {
    "colab": {
      "name": "ds-mod1_project",
      "provenance": [],
      "collapsed_sections": [],
      "toc_visible": true,
      "authorship_tag": "ABX9TyOi9dTZmuE7E7e/cInU1qV5",
      "include_colab_link": true
    },
    "kernelspec": {
      "name": "python3",
      "display_name": "Python 3"
    },
    "language_info": {
      "name": "python"
    }
  },
  "cells": [
    {
      "cell_type": "markdown",
      "metadata": {
        "id": "view-in-github",
        "colab_type": "text"
      },
      "source": [
        "<a href=\"https://colab.research.google.com/github/willianrocha/bootcamp-datascience-alura/blob/main/module_1/ds_mod1_project.ipynb\" target=\"_parent\"><img src=\"https://colab.research.google.com/assets/colab-badge.svg\" alt=\"Open In Colab\"/></a>"
      ]
    },
    {
      "cell_type": "markdown",
      "metadata": {
        "id": "aAX2rOIJXDew"
      },
      "source": [
        "# Contexto da análise\n",
        "\n",
        "A COVID-19 já causou mais de 3,5 milhões de mortos no mundo. E quase 500 mil mortes oficiais somente no Brasil. No final do ano de 2020, as primeiras vacinas começaram a serem aplicadas no mundo. A Inglaterra, inciou sua vacinação em 8 de dezembro de 2020[1]. E hoje tem cerca de 37% da população completamente vacinada[2]. No Brasil, a vacinação começou em 17 de janeiro de 2021[3].\n",
        "\n",
        "Neste projeto será observado o impacto da vacinação de COVID-19 no número de internações para SRAG (Síndrome Respiratória Aguda Grave).\n",
        "\n",
        "[1] - https://www.cnnbrasil.com.br/internacional/2020/12/08/britanica-de-90-anos-e-primeira-a-receber-a-vacina-da-pfizer-fora-dos-testes\n",
        "\n",
        "[2] - https://coronavirus.data.gov.uk/details/vaccinations\n",
        "\n",
        "[3] - https://www.cnnbrasil.com.br/nacional/2021/01/17/primeira-pessoa-e-vacinada-contra-covid-19-no-brasil"
      ]
    },
    {
      "cell_type": "markdown",
      "metadata": {
        "id": "gx-wMetrRQwu"
      },
      "source": [
        "# Setup"
      ]
    },
    {
      "cell_type": "code",
      "metadata": {
        "colab": {
          "base_uri": "https://localhost:8080/"
        },
        "id": "rgi6etzSRVR6",
        "outputId": "83b36afd-8e4c-433d-bd26-46bbc6bd1768"
      },
      "source": [
        "import matplotlib.pyplot as plt\n",
        "import matplotlib.ticker as ticker\n",
        "import numpy as np\n",
        "import pandas as pd\n",
        "from google.colab import drive\n",
        "drive.mount('/content/drive')"
      ],
      "execution_count": 1,
      "outputs": [
        {
          "output_type": "stream",
          "text": [
            "Drive already mounted at /content/drive; to attempt to forcibly remount, call drive.mount(\"/content/drive\", force_remount=True).\n"
          ],
          "name": "stdout"
        }
      ]
    },
    {
      "cell_type": "code",
      "metadata": {
        "colab": {
          "base_uri": "https://localhost:8080/"
        },
        "id": "0TwsQOvRnS-j",
        "outputId": "4382e3ef-bf63-4c53-d301-52e78b42b1b5"
      },
      "source": [
        "%pip install isoweek\n",
        "from isoweek import Week"
      ],
      "execution_count": 2,
      "outputs": [
        {
          "output_type": "stream",
          "text": [
            "Requirement already satisfied: isoweek in /usr/local/lib/python3.7/dist-packages (1.3.3)\n"
          ],
          "name": "stdout"
        }
      ]
    },
    {
      "cell_type": "markdown",
      "metadata": {
        "id": "WbxFhE9ASUtI"
      },
      "source": [
        "## Coleta de dados"
      ]
    },
    {
      "cell_type": "markdown",
      "metadata": {
        "id": "hYKK5NDY4DxG"
      },
      "source": [
        "## Dados de Vacinação"
      ]
    },
    {
      "cell_type": "markdown",
      "metadata": {
        "id": "d8yrhU6CSY3Q"
      },
      "source": [
        "Será utilizado os dados de vacinação da COVID-19 disponibilizados pelo SUS, através do portal OpendataSUS[1].\n",
        "\n",
        "Os dados foram extraídos em 23/05/2021. Tem 28.5 GB de tamanho.\n",
        "\n",
        "Abaixo, apenas as 10 primeiras linhas do documento original.\n",
        "\n",
        "[1] -  https://opendatasus.saude.gov.br/dataset/covid-19-vacinacao/resource/ef3bd0b8-b605-474b-9ae5-c97390c197a8"
      ]
    },
    {
      "cell_type": "code",
      "metadata": {
        "colab": {
          "base_uri": "https://localhost:8080/",
          "height": 513
        },
        "id": "t4RkRtllSdcq",
        "outputId": "cae44b55-50a2-4cee-a634-2703e08d3075"
      },
      "source": [
        "!cp \"/content/drive/MyDrive/alura/bootcamp-data-science/dados_originais_head.csv\" .\n",
        "pd.read_csv(\"/content/dados_originais_head.csv\", encoding=\"ISO-8859-1\", sep=\";\").head()"
      ],
      "execution_count": 3,
      "outputs": [
        {
          "output_type": "execute_result",
          "data": {
            "text/html": [
              "<div>\n",
              "<style scoped>\n",
              "    .dataframe tbody tr th:only-of-type {\n",
              "        vertical-align: middle;\n",
              "    }\n",
              "\n",
              "    .dataframe tbody tr th {\n",
              "        vertical-align: top;\n",
              "    }\n",
              "\n",
              "    .dataframe thead th {\n",
              "        text-align: right;\n",
              "    }\n",
              "</style>\n",
              "<table border=\"1\" class=\"dataframe\">\n",
              "  <thead>\n",
              "    <tr style=\"text-align: right;\">\n",
              "      <th></th>\n",
              "      <th>document_id</th>\n",
              "      <th>paciente_id</th>\n",
              "      <th>paciente_idade</th>\n",
              "      <th>paciente_datanascimento</th>\n",
              "      <th>paciente_enumsexobiologico</th>\n",
              "      <th>paciente_racacor_codigo</th>\n",
              "      <th>paciente_racacor_valor</th>\n",
              "      <th>paciente_endereco_coibgemunicipio</th>\n",
              "      <th>paciente_endereco_copais</th>\n",
              "      <th>paciente_endereco_nmmunicipio</th>\n",
              "      <th>paciente_endereco_nmpais</th>\n",
              "      <th>paciente_endereco_uf</th>\n",
              "      <th>paciente_endereco_cep</th>\n",
              "      <th>paciente_nacionalidade_enumnacionalidade</th>\n",
              "      <th>estabelecimento_valor</th>\n",
              "      <th>estabelecimento_razaosocial</th>\n",
              "      <th>estalecimento_nofantasia</th>\n",
              "      <th>estabelecimento_municipio_codigo</th>\n",
              "      <th>estabelecimento_municipio_nome</th>\n",
              "      <th>estabelecimento_uf</th>\n",
              "      <th>vacina_grupoatendimento_codigo</th>\n",
              "      <th>vacina_grupoatendimento_nome</th>\n",
              "      <th>vacina_categoria_codigo</th>\n",
              "      <th>vacina_categoria_nome</th>\n",
              "      <th>vacina_lote</th>\n",
              "      <th>vacina_fabricante_nome</th>\n",
              "      <th>vacina_fabricante_referencia</th>\n",
              "      <th>vacina_dataaplicacao</th>\n",
              "      <th>vacina_descricao_dose</th>\n",
              "      <th>vacina_codigo</th>\n",
              "      <th>vacina_nome</th>\n",
              "      <th>sistema_origem</th>\n",
              "      <th>data_importacao_rnds</th>\n",
              "      <th>id_sistema_origem</th>\n",
              "    </tr>\n",
              "  </thead>\n",
              "  <tbody>\n",
              "    <tr>\n",
              "      <th>0</th>\n",
              "      <td>d69492e7-2c28-4892-9aac-0a378206c968-i0b0</td>\n",
              "      <td>7518e34074e7262958c5ca15dddf901de351c253565ee1...</td>\n",
              "      <td>77</td>\n",
              "      <td>1943-09-03</td>\n",
              "      <td>M</td>\n",
              "      <td>1</td>\n",
              "      <td>BRANCA</td>\n",
              "      <td>420480</td>\n",
              "      <td>10</td>\n",
              "      <td>CURITIBANOS</td>\n",
              "      <td>BRASIL</td>\n",
              "      <td>SC</td>\n",
              "      <td>89520</td>\n",
              "      <td>B</td>\n",
              "      <td>2302438</td>\n",
              "      <td>PREFEITURA MUNICIPAL DE CURITIBANOS</td>\n",
              "      <td>POSTO DE ATEND MATERNO INFANTIL</td>\n",
              "      <td>420480</td>\n",
              "      <td>CURITIBANOS</td>\n",
              "      <td>SC</td>\n",
              "      <td>0</td>\n",
              "      <td>NaN</td>\n",
              "      <td>NaN</td>\n",
              "      <td>NaN</td>\n",
              "      <td>210068</td>\n",
              "      <td>SERUM INSTITUTE OF INDIA LTD</td>\n",
              "      <td>NaN</td>\n",
              "      <td>2021-03-20</td>\n",
              "      <td>Â Â Â Â 1ÂªÂ Dose</td>\n",
              "      <td>86</td>\n",
              "      <td>Covid-19-Coronavac-Sinovac/Butantan</td>\n",
              "      <td>ESUS APS - NACIONAL (OFFLINE)</td>\n",
              "      <td>2021-03-24T12:31:25.000Z</td>\n",
              "      <td>NaN</td>\n",
              "    </tr>\n",
              "    <tr>\n",
              "      <th>1</th>\n",
              "      <td>00008936-722c-4329-a8f8-49f914c14231-i0b0</td>\n",
              "      <td>fa0290484b076c2b4df18119863be049cf6ebd9690184e...</td>\n",
              "      <td>77</td>\n",
              "      <td>1944-02-21</td>\n",
              "      <td>M</td>\n",
              "      <td>3</td>\n",
              "      <td>PARDA</td>\n",
              "      <td>110020</td>\n",
              "      <td>10</td>\n",
              "      <td>PORTO VELHO</td>\n",
              "      <td>BRASIL</td>\n",
              "      <td>RO</td>\n",
              "      <td>76820</td>\n",
              "      <td>B</td>\n",
              "      <td>213241</td>\n",
              "      <td>MUNICIPIO DE PORTO VELHO</td>\n",
              "      <td>CENTRAL DE REDE DE FRIO PORTO VELHO</td>\n",
              "      <td>110020</td>\n",
              "      <td>PORTO VELHO</td>\n",
              "      <td>RO</td>\n",
              "      <td>204</td>\n",
              "      <td>Pessoas de 75 a 79 anos</td>\n",
              "      <td>2.0</td>\n",
              "      <td>Faixa EtÃ¡ria</td>\n",
              "      <td>210017</td>\n",
              "      <td>FUNDACAO BUTANTAN</td>\n",
              "      <td>Organization/61189445000156</td>\n",
              "      <td>2021-03-23</td>\n",
              "      <td>Â Â Â Â 1ÂªÂ Dose</td>\n",
              "      <td>86</td>\n",
              "      <td>Covid-19-Coronavac-Sinovac/Butantan</td>\n",
              "      <td>Novo PNI</td>\n",
              "      <td>2021-03-23T12:59:53.000Z</td>\n",
              "      <td>NaN</td>\n",
              "    </tr>\n",
              "    <tr>\n",
              "      <th>2</th>\n",
              "      <td>5af902c3-caff-4a1a-8c8e-efd78c71fb73-i0b0</td>\n",
              "      <td>8e37fba588e2e90a219427b9a5d9c58127a73eb8b4df90...</td>\n",
              "      <td>75</td>\n",
              "      <td>1945-04-10</td>\n",
              "      <td>M</td>\n",
              "      <td>1</td>\n",
              "      <td>BRANCA</td>\n",
              "      <td>510675</td>\n",
              "      <td>10</td>\n",
              "      <td>PONTES E LACERDA</td>\n",
              "      <td>BRASIL</td>\n",
              "      <td>MT</td>\n",
              "      <td>78250</td>\n",
              "      <td>B</td>\n",
              "      <td>2394456</td>\n",
              "      <td>PREFEITURA MUNICIPAL DE PONTES E LACERDA</td>\n",
              "      <td>CENTRO DE SAUDE DE PONTES E LACERDA</td>\n",
              "      <td>510675</td>\n",
              "      <td>PONTES E LACERDA</td>\n",
              "      <td>MT</td>\n",
              "      <td>301</td>\n",
              "      <td>Pessoas de 60 nos ou mais Institucionalizadas</td>\n",
              "      <td>3.0</td>\n",
              "      <td>Pessoas de 60 anos ou mais institucionalizadas</td>\n",
              "      <td>210086</td>\n",
              "      <td>FUNDACAO BUTANTAN</td>\n",
              "      <td>Organization/61189445000156</td>\n",
              "      <td>2021-03-30</td>\n",
              "      <td>Â Â Â Â 1ÂªÂ Dose</td>\n",
              "      <td>86</td>\n",
              "      <td>Covid-19-Coronavac-Sinovac/Butantan</td>\n",
              "      <td>Novo PNI</td>\n",
              "      <td>2021-04-03T13:07:42.000Z</td>\n",
              "      <td>NaN</td>\n",
              "    </tr>\n",
              "    <tr>\n",
              "      <th>3</th>\n",
              "      <td>7fa5874c-7bf6-47ba-ab4b-50a95d8ee472-i0b0</td>\n",
              "      <td>11220f7797eb222c83c82fbff09d2af82aebc6ddab6c6b...</td>\n",
              "      <td>90</td>\n",
              "      <td>1930-06-13</td>\n",
              "      <td>F</td>\n",
              "      <td>1</td>\n",
              "      <td>BRANCA</td>\n",
              "      <td>330100</td>\n",
              "      <td>10</td>\n",
              "      <td>CAMPOS DOS GOYTACAZES</td>\n",
              "      <td>BRASIL</td>\n",
              "      <td>RJ</td>\n",
              "      <td>28051</td>\n",
              "      <td>B</td>\n",
              "      <td>6298109</td>\n",
              "      <td>SECRETARIA MUNICIPAL DE SAUDE DE CAMPOS DOS GO...</td>\n",
              "      <td>SECRETARIA MUNICIPAL DE SAUDE DE CAMPOS DOS GO...</td>\n",
              "      <td>330100</td>\n",
              "      <td>CAMPOS DOS GOYTACAZES</td>\n",
              "      <td>RJ</td>\n",
              "      <td>205</td>\n",
              "      <td>Pessoas de 80 anos ou mais</td>\n",
              "      <td>2.0</td>\n",
              "      <td>Faixa EtÃ¡ria</td>\n",
              "      <td>210011A</td>\n",
              "      <td>FUNDACAO BUTANTAN</td>\n",
              "      <td>Organization/61189445000156</td>\n",
              "      <td>2021-02-18</td>\n",
              "      <td>Â Â Â Â 1ÂªÂ Dose</td>\n",
              "      <td>86</td>\n",
              "      <td>Covid-19-Coronavac-Sinovac/Butantan</td>\n",
              "      <td>Novo PNI</td>\n",
              "      <td>2021-03-17T19:47:19.000Z</td>\n",
              "      <td>NaN</td>\n",
              "    </tr>\n",
              "    <tr>\n",
              "      <th>4</th>\n",
              "      <td>5afa5eab-1fd1-4c36-91bf-8b098c5ee3ab-i0b0</td>\n",
              "      <td>af81199ba8994176baeaecbc4a2b7d3ad71d3432b765b2...</td>\n",
              "      <td>64</td>\n",
              "      <td>1957-03-25</td>\n",
              "      <td>F</td>\n",
              "      <td>3</td>\n",
              "      <td>PARDA</td>\n",
              "      <td>280030</td>\n",
              "      <td>10</td>\n",
              "      <td>ARACAJU</td>\n",
              "      <td>BRASIL</td>\n",
              "      <td>SE</td>\n",
              "      <td>49044</td>\n",
              "      <td>B</td>\n",
              "      <td>2550</td>\n",
              "      <td>SECRETARIA MUNICIPAL DE SAUDE DE ARACAJU</td>\n",
              "      <td>US ELIZABETE PITA TERRA DURA</td>\n",
              "      <td>280030</td>\n",
              "      <td>ARACAJU</td>\n",
              "      <td>SE</td>\n",
              "      <td>201</td>\n",
              "      <td>Pessoas de 60 a 64 anos</td>\n",
              "      <td>2.0</td>\n",
              "      <td>Faixa EtÃ¡ria</td>\n",
              "      <td>CTMAV505</td>\n",
              "      <td>FUNDACAO OSWALDO CRUZ</td>\n",
              "      <td>NaN</td>\n",
              "      <td>2021-04-07</td>\n",
              "      <td>Â Â Â Â 1ÂªÂ Dose</td>\n",
              "      <td>85</td>\n",
              "      <td>Vacina Covid-19 - Covishield</td>\n",
              "      <td>IDS SaÃºde</td>\n",
              "      <td>2021-04-07T11:13:09.000Z</td>\n",
              "      <td>NaN</td>\n",
              "    </tr>\n",
              "  </tbody>\n",
              "</table>\n",
              "</div>"
            ],
            "text/plain": [
              "                                 document_id  ... id_sistema_origem\n",
              "0  d69492e7-2c28-4892-9aac-0a378206c968-i0b0  ...               NaN\n",
              "1  00008936-722c-4329-a8f8-49f914c14231-i0b0  ...               NaN\n",
              "2  5af902c3-caff-4a1a-8c8e-efd78c71fb73-i0b0  ...               NaN\n",
              "3  7fa5874c-7bf6-47ba-ab4b-50a95d8ee472-i0b0  ...               NaN\n",
              "4  5afa5eab-1fd1-4c36-91bf-8b098c5ee3ab-i0b0  ...               NaN\n",
              "\n",
              "[5 rows x 34 columns]"
            ]
          },
          "metadata": {
            "tags": []
          },
          "execution_count": 3
        }
      ]
    },
    {
      "cell_type": "markdown",
      "metadata": {
        "id": "wW81RXFewvI9"
      },
      "source": [
        "Como a base original contém informações que não serão utilizadas nesta análise, extraí apenas as colunas que serão utilizadas. E realizei um trabalho de eliminar caracteres desnecessários (como aspas duplas) e simplificar informações como a dose aplicada de \"Â Â Â Â 1ÂªÂ Dose\" para 1 ou 2, de acordo com a dose aplicada.\n",
        "\n",
        "Resultando em 2.8GB. Este arquivo tem 57.442.714 linhas.\n",
        "\n",
        "Abaixo, o comando usado localmente para extrair as colunas e limpar os dados.\n",
        "```\n",
        "cut part-00000-6bab261e-57eb-41e1-9523-8487c4a7c57c-c000.csv -d \";\" -f3,5,7,12,20,26,28,29 | sed 's/\"//g' | sed -E 's/    ([12]).*/\\1/g' > vaccines_v2.csv\n",
        "```\n"
      ]
    },
    {
      "cell_type": "markdown",
      "metadata": {
        "id": "CEtZ2QUs4QVU"
      },
      "source": [
        "### *Amostragem*"
      ]
    },
    {
      "cell_type": "markdown",
      "metadata": {
        "id": "SfkA9YzC73TN"
      },
      "source": [
        "A base de dados ainda está muito grande para ser trabalhada livremente. Então, foi extraído 0.1% dos dados da base original e armazenados em uma base de dados menor, a fim de facilitar a manipulação dos dados."
      ]
    },
    {
      "cell_type": "code",
      "metadata": {
        "colab": {
          "base_uri": "https://localhost:8080/",
          "height": 204
        },
        "id": "-uAPdfBZ0a3Z",
        "outputId": "6fc938cc-ab85-4cec-ffe5-34fff6f0ccab"
      },
      "source": [
        "!cp \"/content/drive/MyDrive/alura/bootcamp-data-science/sample_1percent.csv\" .\n",
        "dados = pd.read_csv(\"/content/sample_1percent.csv\", encoding=\"ISO-8859-1\", sep=\",\")\n",
        "\n",
        "dados.head()"
      ],
      "execution_count": 4,
      "outputs": [
        {
          "output_type": "execute_result",
          "data": {
            "text/html": [
              "<div>\n",
              "<style scoped>\n",
              "    .dataframe tbody tr th:only-of-type {\n",
              "        vertical-align: middle;\n",
              "    }\n",
              "\n",
              "    .dataframe tbody tr th {\n",
              "        vertical-align: top;\n",
              "    }\n",
              "\n",
              "    .dataframe thead th {\n",
              "        text-align: right;\n",
              "    }\n",
              "</style>\n",
              "<table border=\"1\" class=\"dataframe\">\n",
              "  <thead>\n",
              "    <tr style=\"text-align: right;\">\n",
              "      <th></th>\n",
              "      <th>paciente_idade</th>\n",
              "      <th>paciente_enumsexobiologico</th>\n",
              "      <th>paciente_racacor_valor</th>\n",
              "      <th>paciente_endereco_uf</th>\n",
              "      <th>estabelecimento_uf</th>\n",
              "      <th>vacina_fabricante_nome</th>\n",
              "      <th>vacina_dataaplicacao</th>\n",
              "      <th>vacina_descricao_dose</th>\n",
              "    </tr>\n",
              "  </thead>\n",
              "  <tbody>\n",
              "    <tr>\n",
              "      <th>0</th>\n",
              "      <td>73.0</td>\n",
              "      <td>F</td>\n",
              "      <td>AMARELA</td>\n",
              "      <td>PR</td>\n",
              "      <td>PR</td>\n",
              "      <td>FUNDACAO BUTANTAN</td>\n",
              "      <td>2021-04-06</td>\n",
              "      <td>1</td>\n",
              "    </tr>\n",
              "    <tr>\n",
              "      <th>1</th>\n",
              "      <td>65.0</td>\n",
              "      <td>F</td>\n",
              "      <td>SEM INFORMACAO</td>\n",
              "      <td>DF</td>\n",
              "      <td>DF</td>\n",
              "      <td>FUNDACAO OSWALDO CRUZ</td>\n",
              "      <td>2021-04-19</td>\n",
              "      <td>1</td>\n",
              "    </tr>\n",
              "    <tr>\n",
              "      <th>2</th>\n",
              "      <td>59.0</td>\n",
              "      <td>M</td>\n",
              "      <td>AMARELA</td>\n",
              "      <td>CE</td>\n",
              "      <td>CE</td>\n",
              "      <td>PFIZER/BIONTECH</td>\n",
              "      <td>2021-05-08</td>\n",
              "      <td>1</td>\n",
              "    </tr>\n",
              "    <tr>\n",
              "      <th>3</th>\n",
              "      <td>47.0</td>\n",
              "      <td>F</td>\n",
              "      <td>SEM INFORMACAO</td>\n",
              "      <td>RN</td>\n",
              "      <td>RN</td>\n",
              "      <td>FUNDACAO BUTANTAN</td>\n",
              "      <td>2021-03-25</td>\n",
              "      <td>1</td>\n",
              "    </tr>\n",
              "    <tr>\n",
              "      <th>4</th>\n",
              "      <td>64.0</td>\n",
              "      <td>M</td>\n",
              "      <td>AMARELA</td>\n",
              "      <td>RJ</td>\n",
              "      <td>RJ</td>\n",
              "      <td>FUNDACAO OSWALDO CRUZ</td>\n",
              "      <td>2021-04-19</td>\n",
              "      <td>1</td>\n",
              "    </tr>\n",
              "  </tbody>\n",
              "</table>\n",
              "</div>"
            ],
            "text/plain": [
              "   paciente_idade  ... vacina_descricao_dose\n",
              "0            73.0  ...                     1\n",
              "1            65.0  ...                     1\n",
              "2            59.0  ...                     1\n",
              "3            47.0  ...                     1\n",
              "4            64.0  ...                     1\n",
              "\n",
              "[5 rows x 8 columns]"
            ]
          },
          "metadata": {
            "tags": []
          },
          "execution_count": 4
        }
      ]
    },
    {
      "cell_type": "markdown",
      "metadata": {
        "id": "GfKrCzfZ4TTl"
      },
      "source": [
        "## Dados de Internação"
      ]
    },
    {
      "cell_type": "markdown",
      "metadata": {
        "id": "LUGE0pHz4Bw0"
      },
      "source": [
        "Os dados de internações de SRAG foram coletados do portal OpendataSUS[1].\n",
        "\n",
        "Os dados foram extraídos em 28/05/2021. Tem 453 MB de tamanho.\n",
        "\n",
        "Abaixo, apenas as 10 primeiras linhas do documento original.\n",
        "\n",
        "[1] - https://opendatasus.saude.gov.br/dataset/bd-srag-2021/resource/42bd5e0e-d61a-4359-942e-ebc83391a137"
      ]
    },
    {
      "cell_type": "code",
      "metadata": {
        "colab": {
          "base_uri": "https://localhost:8080/",
          "height": 559
        },
        "id": "2KsSmKxS3vPZ",
        "outputId": "7be9a7ff-3efb-4e3a-e02f-2ae9d99b4c6a"
      },
      "source": [
        "!cp \"/content/drive/MyDrive/alura/bootcamp-data-science/internacoes_head.csv\" .\n",
        "pd.read_csv(\"/content/internacoes_head.csv\", encoding=\"ISO-8859-1\", sep=\";\").head()"
      ],
      "execution_count": 5,
      "outputs": [
        {
          "output_type": "execute_result",
          "data": {
            "text/html": [
              "<div>\n",
              "<style scoped>\n",
              "    .dataframe tbody tr th:only-of-type {\n",
              "        vertical-align: middle;\n",
              "    }\n",
              "\n",
              "    .dataframe tbody tr th {\n",
              "        vertical-align: top;\n",
              "    }\n",
              "\n",
              "    .dataframe thead th {\n",
              "        text-align: right;\n",
              "    }\n",
              "</style>\n",
              "<table border=\"1\" class=\"dataframe\">\n",
              "  <thead>\n",
              "    <tr style=\"text-align: right;\">\n",
              "      <th></th>\n",
              "      <th>DT_NOTIFIC</th>\n",
              "      <th>SEM_NOT</th>\n",
              "      <th>DT_SIN_PRI</th>\n",
              "      <th>SEM_PRI</th>\n",
              "      <th>SG_UF_NOT</th>\n",
              "      <th>ID_REGIONA</th>\n",
              "      <th>CO_REGIONA</th>\n",
              "      <th>ID_MUNICIP</th>\n",
              "      <th>CO_MUN_NOT</th>\n",
              "      <th>ID_UNIDADE</th>\n",
              "      <th>CO_UNI_NOT</th>\n",
              "      <th>CS_SEXO</th>\n",
              "      <th>DT_NASC</th>\n",
              "      <th>NU_IDADE_N</th>\n",
              "      <th>TP_IDADE</th>\n",
              "      <th>COD_IDADE</th>\n",
              "      <th>CS_GESTANT</th>\n",
              "      <th>CS_RACA</th>\n",
              "      <th>CS_ETINIA</th>\n",
              "      <th>CS_ESCOL_N</th>\n",
              "      <th>ID_PAIS</th>\n",
              "      <th>CO_PAIS</th>\n",
              "      <th>SG_UF</th>\n",
              "      <th>ID_RG_RESI</th>\n",
              "      <th>CO_RG_RESI</th>\n",
              "      <th>ID_MN_RESI</th>\n",
              "      <th>CO_MUN_RES</th>\n",
              "      <th>CS_ZONA</th>\n",
              "      <th>SURTO_SG</th>\n",
              "      <th>NOSOCOMIAL</th>\n",
              "      <th>AVE_SUINO</th>\n",
              "      <th>FEBRE</th>\n",
              "      <th>TOSSE</th>\n",
              "      <th>GARGANTA</th>\n",
              "      <th>DISPNEIA</th>\n",
              "      <th>DESC_RESP</th>\n",
              "      <th>SATURACAO</th>\n",
              "      <th>DIARREIA</th>\n",
              "      <th>VOMITO</th>\n",
              "      <th>OUTRO_SIN</th>\n",
              "      <th>...</th>\n",
              "      <th>HISTO_VGM</th>\n",
              "      <th>PAIS_VGM</th>\n",
              "      <th>CO_PS_VGM</th>\n",
              "      <th>LO_PS_VGM</th>\n",
              "      <th>DT_VGM</th>\n",
              "      <th>DT_RT_VGM</th>\n",
              "      <th>PCR_SARS2</th>\n",
              "      <th>PAC_COCBO</th>\n",
              "      <th>PAC_DSCBO</th>\n",
              "      <th>OUT_ANIM</th>\n",
              "      <th>DOR_ABD</th>\n",
              "      <th>FADIGA</th>\n",
              "      <th>PERD_OLFT</th>\n",
              "      <th>PERD_PALA</th>\n",
              "      <th>TOMO_RES</th>\n",
              "      <th>TOMO_OUT</th>\n",
              "      <th>DT_TOMO</th>\n",
              "      <th>TP_TES_AN</th>\n",
              "      <th>DT_RES_AN</th>\n",
              "      <th>RES_AN</th>\n",
              "      <th>POS_AN_FLU</th>\n",
              "      <th>TP_FLU_AN</th>\n",
              "      <th>POS_AN_OUT</th>\n",
              "      <th>AN_SARS2</th>\n",
              "      <th>AN_VSR</th>\n",
              "      <th>AN_PARA1</th>\n",
              "      <th>AN_PARA2</th>\n",
              "      <th>AN_PARA3</th>\n",
              "      <th>AN_ADENO</th>\n",
              "      <th>AN_OUTRO</th>\n",
              "      <th>DS_AN_OUT</th>\n",
              "      <th>TP_AM_SOR</th>\n",
              "      <th>SOR_OUT</th>\n",
              "      <th>DT_CO_SOR</th>\n",
              "      <th>TP_SOR</th>\n",
              "      <th>OUT_SOR</th>\n",
              "      <th>DT_RES</th>\n",
              "      <th>RES_IGG</th>\n",
              "      <th>RES_IGM</th>\n",
              "      <th>RES_IGA</th>\n",
              "    </tr>\n",
              "  </thead>\n",
              "  <tbody>\n",
              "    <tr>\n",
              "      <th>0</th>\n",
              "      <td>05/01/2021</td>\n",
              "      <td>1</td>\n",
              "      <td>04/01/2021</td>\n",
              "      <td>1</td>\n",
              "      <td>BA</td>\n",
              "      <td>NUCLEO REGIONAL DE SAUDE LESTE</td>\n",
              "      <td>1380</td>\n",
              "      <td>SALVADOR</td>\n",
              "      <td>292740</td>\n",
              "      <td>HOSPITAL DO SUBURBIO</td>\n",
              "      <td>6595197</td>\n",
              "      <td>F</td>\n",
              "      <td>19/08/1974</td>\n",
              "      <td>46</td>\n",
              "      <td>3</td>\n",
              "      <td>3046</td>\n",
              "      <td>5</td>\n",
              "      <td>9</td>\n",
              "      <td>NaN</td>\n",
              "      <td>NaN</td>\n",
              "      <td>BRASIL</td>\n",
              "      <td>1</td>\n",
              "      <td>BA</td>\n",
              "      <td>NUCLEO REGIONAL DE SAUDE LESTE</td>\n",
              "      <td>1380</td>\n",
              "      <td>SALVADOR</td>\n",
              "      <td>292740</td>\n",
              "      <td>1.0</td>\n",
              "      <td>2.0</td>\n",
              "      <td>1.0</td>\n",
              "      <td>2.0</td>\n",
              "      <td>1</td>\n",
              "      <td>1.0</td>\n",
              "      <td>2.0</td>\n",
              "      <td>1.0</td>\n",
              "      <td>1.0</td>\n",
              "      <td>2.0</td>\n",
              "      <td>2</td>\n",
              "      <td>2.0</td>\n",
              "      <td>2.0</td>\n",
              "      <td>...</td>\n",
              "      <td>2</td>\n",
              "      <td>NaN</td>\n",
              "      <td>NaN</td>\n",
              "      <td>NaN</td>\n",
              "      <td>NaN</td>\n",
              "      <td>NaN</td>\n",
              "      <td>1.0</td>\n",
              "      <td>NaN</td>\n",
              "      <td>NaN</td>\n",
              "      <td>NaN</td>\n",
              "      <td>2.0</td>\n",
              "      <td>2.0</td>\n",
              "      <td>2.0</td>\n",
              "      <td>2.0</td>\n",
              "      <td>NaN</td>\n",
              "      <td>NaN</td>\n",
              "      <td>NaN</td>\n",
              "      <td>NaN</td>\n",
              "      <td>NaN</td>\n",
              "      <td>4</td>\n",
              "      <td>NaN</td>\n",
              "      <td>NaN</td>\n",
              "      <td>NaN</td>\n",
              "      <td>NaN</td>\n",
              "      <td>NaN</td>\n",
              "      <td>NaN</td>\n",
              "      <td>NaN</td>\n",
              "      <td>NaN</td>\n",
              "      <td>NaN</td>\n",
              "      <td>NaN</td>\n",
              "      <td>NaN</td>\n",
              "      <td>NaN</td>\n",
              "      <td>NaN</td>\n",
              "      <td>NaN</td>\n",
              "      <td>NaN</td>\n",
              "      <td>NaN</td>\n",
              "      <td>NaN</td>\n",
              "      <td>NaN</td>\n",
              "      <td>NaN</td>\n",
              "      <td>NaN</td>\n",
              "    </tr>\n",
              "    <tr>\n",
              "      <th>1</th>\n",
              "      <td>04/01/2021</td>\n",
              "      <td>1</td>\n",
              "      <td>04/01/2021</td>\n",
              "      <td>1</td>\n",
              "      <td>SP</td>\n",
              "      <td>GVE I CAPITAL</td>\n",
              "      <td>1331</td>\n",
              "      <td>SAO PAULO</td>\n",
              "      <td>355030</td>\n",
              "      <td>HOSPITAL KATIA DE SOUZA RODRIGUES TAIPAS SAO P...</td>\n",
              "      <td>2082225</td>\n",
              "      <td>M</td>\n",
              "      <td>26/10/2020</td>\n",
              "      <td>3</td>\n",
              "      <td>2</td>\n",
              "      <td>2003</td>\n",
              "      <td>6</td>\n",
              "      <td>1</td>\n",
              "      <td>NaN</td>\n",
              "      <td>NaN</td>\n",
              "      <td>BRASIL</td>\n",
              "      <td>1</td>\n",
              "      <td>SP</td>\n",
              "      <td>GVE I CAPITAL</td>\n",
              "      <td>1331</td>\n",
              "      <td>SAO PAULO</td>\n",
              "      <td>355030</td>\n",
              "      <td>1.0</td>\n",
              "      <td>2.0</td>\n",
              "      <td>2.0</td>\n",
              "      <td>2.0</td>\n",
              "      <td>1</td>\n",
              "      <td>1.0</td>\n",
              "      <td>2.0</td>\n",
              "      <td>2.0</td>\n",
              "      <td>1.0</td>\n",
              "      <td>2.0</td>\n",
              "      <td>2</td>\n",
              "      <td>2.0</td>\n",
              "      <td>2.0</td>\n",
              "      <td>...</td>\n",
              "      <td>0</td>\n",
              "      <td>NaN</td>\n",
              "      <td>NaN</td>\n",
              "      <td>NaN</td>\n",
              "      <td>NaN</td>\n",
              "      <td>NaN</td>\n",
              "      <td>NaN</td>\n",
              "      <td>NaN</td>\n",
              "      <td>NaN</td>\n",
              "      <td>NaN</td>\n",
              "      <td>2.0</td>\n",
              "      <td>2.0</td>\n",
              "      <td>2.0</td>\n",
              "      <td>2.0</td>\n",
              "      <td>NaN</td>\n",
              "      <td>NaN</td>\n",
              "      <td>NaN</td>\n",
              "      <td>NaN</td>\n",
              "      <td>NaN</td>\n",
              "      <td>5</td>\n",
              "      <td>NaN</td>\n",
              "      <td>NaN</td>\n",
              "      <td>NaN</td>\n",
              "      <td>NaN</td>\n",
              "      <td>NaN</td>\n",
              "      <td>NaN</td>\n",
              "      <td>NaN</td>\n",
              "      <td>NaN</td>\n",
              "      <td>NaN</td>\n",
              "      <td>NaN</td>\n",
              "      <td>NaN</td>\n",
              "      <td>NaN</td>\n",
              "      <td>NaN</td>\n",
              "      <td>NaN</td>\n",
              "      <td>NaN</td>\n",
              "      <td>NaN</td>\n",
              "      <td>NaN</td>\n",
              "      <td>NaN</td>\n",
              "      <td>NaN</td>\n",
              "      <td>NaN</td>\n",
              "    </tr>\n",
              "    <tr>\n",
              "      <th>2</th>\n",
              "      <td>04/01/2021</td>\n",
              "      <td>1</td>\n",
              "      <td>03/01/2021</td>\n",
              "      <td>1</td>\n",
              "      <td>SP</td>\n",
              "      <td>GVE XVII CAMPINAS</td>\n",
              "      <td>1342</td>\n",
              "      <td>CAMPINAS</td>\n",
              "      <td>350950</td>\n",
              "      <td>HOSPITAL E MATERNIDADE CELSO PIERRO</td>\n",
              "      <td>2082128</td>\n",
              "      <td>F</td>\n",
              "      <td>11/01/1936</td>\n",
              "      <td>84</td>\n",
              "      <td>3</td>\n",
              "      <td>3084</td>\n",
              "      <td>5</td>\n",
              "      <td>1</td>\n",
              "      <td>NaN</td>\n",
              "      <td>9.0</td>\n",
              "      <td>BRASIL</td>\n",
              "      <td>1</td>\n",
              "      <td>SP</td>\n",
              "      <td>GVE XVII CAMPINAS</td>\n",
              "      <td>1342</td>\n",
              "      <td>CAMPINAS</td>\n",
              "      <td>350950</td>\n",
              "      <td>1.0</td>\n",
              "      <td>2.0</td>\n",
              "      <td>2.0</td>\n",
              "      <td>2.0</td>\n",
              "      <td>1</td>\n",
              "      <td>1.0</td>\n",
              "      <td>2.0</td>\n",
              "      <td>2.0</td>\n",
              "      <td>1.0</td>\n",
              "      <td>1.0</td>\n",
              "      <td>2</td>\n",
              "      <td>2.0</td>\n",
              "      <td>1.0</td>\n",
              "      <td>...</td>\n",
              "      <td>2</td>\n",
              "      <td>NaN</td>\n",
              "      <td>NaN</td>\n",
              "      <td>NaN</td>\n",
              "      <td>NaN</td>\n",
              "      <td>NaN</td>\n",
              "      <td>NaN</td>\n",
              "      <td>NaN</td>\n",
              "      <td>NaN</td>\n",
              "      <td>NaN</td>\n",
              "      <td>2.0</td>\n",
              "      <td>2.0</td>\n",
              "      <td>2.0</td>\n",
              "      <td>2.0</td>\n",
              "      <td>6.0</td>\n",
              "      <td>NaN</td>\n",
              "      <td>NaN</td>\n",
              "      <td>NaN</td>\n",
              "      <td>NaN</td>\n",
              "      <td>5</td>\n",
              "      <td>NaN</td>\n",
              "      <td>NaN</td>\n",
              "      <td>NaN</td>\n",
              "      <td>NaN</td>\n",
              "      <td>NaN</td>\n",
              "      <td>NaN</td>\n",
              "      <td>NaN</td>\n",
              "      <td>NaN</td>\n",
              "      <td>NaN</td>\n",
              "      <td>NaN</td>\n",
              "      <td>NaN</td>\n",
              "      <td>NaN</td>\n",
              "      <td>NaN</td>\n",
              "      <td>NaN</td>\n",
              "      <td>NaN</td>\n",
              "      <td>NaN</td>\n",
              "      <td>NaN</td>\n",
              "      <td>NaN</td>\n",
              "      <td>NaN</td>\n",
              "      <td>NaN</td>\n",
              "    </tr>\n",
              "    <tr>\n",
              "      <th>3</th>\n",
              "      <td>04/01/2021</td>\n",
              "      <td>1</td>\n",
              "      <td>03/01/2021</td>\n",
              "      <td>1</td>\n",
              "      <td>SP</td>\n",
              "      <td>GVE XXVII SAO JOSE DOS CAMPOS</td>\n",
              "      <td>1351</td>\n",
              "      <td>SAO JOSE DOS CAMPOS</td>\n",
              "      <td>354990</td>\n",
              "      <td>DR RUBENS SAVASTANO HOSPITAL REGIONAL DE SAO J...</td>\n",
              "      <td>9491252</td>\n",
              "      <td>M</td>\n",
              "      <td>08/10/1955</td>\n",
              "      <td>65</td>\n",
              "      <td>3</td>\n",
              "      <td>3065</td>\n",
              "      <td>6</td>\n",
              "      <td>4</td>\n",
              "      <td>NaN</td>\n",
              "      <td>NaN</td>\n",
              "      <td>BRASIL</td>\n",
              "      <td>1</td>\n",
              "      <td>SP</td>\n",
              "      <td>GVE XXVII SAO JOSE DOS CAMPOS</td>\n",
              "      <td>1351</td>\n",
              "      <td>JACAREI</td>\n",
              "      <td>352440</td>\n",
              "      <td>NaN</td>\n",
              "      <td>NaN</td>\n",
              "      <td>NaN</td>\n",
              "      <td>NaN</td>\n",
              "      <td>2</td>\n",
              "      <td>2.0</td>\n",
              "      <td>2.0</td>\n",
              "      <td>1.0</td>\n",
              "      <td>1.0</td>\n",
              "      <td>1.0</td>\n",
              "      <td>2</td>\n",
              "      <td>2.0</td>\n",
              "      <td>NaN</td>\n",
              "      <td>...</td>\n",
              "      <td>0</td>\n",
              "      <td>NaN</td>\n",
              "      <td>NaN</td>\n",
              "      <td>NaN</td>\n",
              "      <td>NaN</td>\n",
              "      <td>NaN</td>\n",
              "      <td>NaN</td>\n",
              "      <td>NaN</td>\n",
              "      <td>NaN</td>\n",
              "      <td>NaN</td>\n",
              "      <td>2.0</td>\n",
              "      <td>2.0</td>\n",
              "      <td>2.0</td>\n",
              "      <td>2.0</td>\n",
              "      <td>NaN</td>\n",
              "      <td>NaN</td>\n",
              "      <td>NaN</td>\n",
              "      <td>NaN</td>\n",
              "      <td>NaN</td>\n",
              "      <td>5</td>\n",
              "      <td>NaN</td>\n",
              "      <td>NaN</td>\n",
              "      <td>NaN</td>\n",
              "      <td>NaN</td>\n",
              "      <td>NaN</td>\n",
              "      <td>NaN</td>\n",
              "      <td>NaN</td>\n",
              "      <td>NaN</td>\n",
              "      <td>NaN</td>\n",
              "      <td>NaN</td>\n",
              "      <td>NaN</td>\n",
              "      <td>NaN</td>\n",
              "      <td>NaN</td>\n",
              "      <td>NaN</td>\n",
              "      <td>NaN</td>\n",
              "      <td>NaN</td>\n",
              "      <td>NaN</td>\n",
              "      <td>NaN</td>\n",
              "      <td>NaN</td>\n",
              "      <td>NaN</td>\n",
              "    </tr>\n",
              "    <tr>\n",
              "      <th>4</th>\n",
              "      <td>08/01/2021</td>\n",
              "      <td>1</td>\n",
              "      <td>07/01/2021</td>\n",
              "      <td>1</td>\n",
              "      <td>PR</td>\n",
              "      <td>09RS FOZ DO IGUACU</td>\n",
              "      <td>1363</td>\n",
              "      <td>FOZ DO IGUACU</td>\n",
              "      <td>410830</td>\n",
              "      <td>HOSPITAL MUNICIPAL PADRE GERMANO LAUCK</td>\n",
              "      <td>5061989</td>\n",
              "      <td>M</td>\n",
              "      <td>26/01/2004</td>\n",
              "      <td>16</td>\n",
              "      <td>3</td>\n",
              "      <td>3016</td>\n",
              "      <td>6</td>\n",
              "      <td>4</td>\n",
              "      <td>NaN</td>\n",
              "      <td>9.0</td>\n",
              "      <td>BRASIL</td>\n",
              "      <td>1</td>\n",
              "      <td>PR</td>\n",
              "      <td>09RS FOZ DO IGUACU</td>\n",
              "      <td>1363</td>\n",
              "      <td>FOZ DO IGUACU</td>\n",
              "      <td>410830</td>\n",
              "      <td>1.0</td>\n",
              "      <td>2.0</td>\n",
              "      <td>2.0</td>\n",
              "      <td>2.0</td>\n",
              "      <td>1</td>\n",
              "      <td>1.0</td>\n",
              "      <td>1.0</td>\n",
              "      <td>1.0</td>\n",
              "      <td>1.0</td>\n",
              "      <td>1.0</td>\n",
              "      <td>2</td>\n",
              "      <td>2.0</td>\n",
              "      <td>1.0</td>\n",
              "      <td>...</td>\n",
              "      <td>2</td>\n",
              "      <td>NaN</td>\n",
              "      <td>NaN</td>\n",
              "      <td>NaN</td>\n",
              "      <td>NaN</td>\n",
              "      <td>NaN</td>\n",
              "      <td>NaN</td>\n",
              "      <td>NaN</td>\n",
              "      <td>NaN</td>\n",
              "      <td>NaN</td>\n",
              "      <td>2.0</td>\n",
              "      <td>2.0</td>\n",
              "      <td>2.0</td>\n",
              "      <td>2.0</td>\n",
              "      <td>NaN</td>\n",
              "      <td>NaN</td>\n",
              "      <td>NaN</td>\n",
              "      <td>NaN</td>\n",
              "      <td>NaN</td>\n",
              "      <td>4</td>\n",
              "      <td>NaN</td>\n",
              "      <td>NaN</td>\n",
              "      <td>NaN</td>\n",
              "      <td>NaN</td>\n",
              "      <td>NaN</td>\n",
              "      <td>NaN</td>\n",
              "      <td>NaN</td>\n",
              "      <td>NaN</td>\n",
              "      <td>NaN</td>\n",
              "      <td>NaN</td>\n",
              "      <td>NaN</td>\n",
              "      <td>NaN</td>\n",
              "      <td>NaN</td>\n",
              "      <td>NaN</td>\n",
              "      <td>NaN</td>\n",
              "      <td>NaN</td>\n",
              "      <td>NaN</td>\n",
              "      <td>NaN</td>\n",
              "      <td>NaN</td>\n",
              "      <td>NaN</td>\n",
              "    </tr>\n",
              "  </tbody>\n",
              "</table>\n",
              "<p>5 rows × 154 columns</p>\n",
              "</div>"
            ],
            "text/plain": [
              "   DT_NOTIFIC  SEM_NOT  DT_SIN_PRI  SEM_PRI  ... DT_RES RES_IGG  RES_IGM RES_IGA\n",
              "0  05/01/2021        1  04/01/2021        1  ...    NaN     NaN      NaN     NaN\n",
              "1  04/01/2021        1  04/01/2021        1  ...    NaN     NaN      NaN     NaN\n",
              "2  04/01/2021        1  03/01/2021        1  ...    NaN     NaN      NaN     NaN\n",
              "3  04/01/2021        1  03/01/2021        1  ...    NaN     NaN      NaN     NaN\n",
              "4  08/01/2021        1  07/01/2021        1  ...    NaN     NaN      NaN     NaN\n",
              "\n",
              "[5 rows x 154 columns]"
            ]
          },
          "metadata": {
            "tags": []
          },
          "execution_count": 5
        }
      ]
    },
    {
      "cell_type": "markdown",
      "metadata": {
        "id": "l6FUFypj5lg9"
      },
      "source": [
        "Apenas as colunas DT_NOTIFIC, CS_SEXO e  NU_IDADE_N serão utilizadas\n",
        "\n",
        "```\n",
        "cut INFLUD21-24-05-2021.csv -d \";\" -f 1,12,14 | sed 's/\"//g' > internacoes_24052021.csv\n",
        "```"
      ]
    },
    {
      "cell_type": "code",
      "metadata": {
        "colab": {
          "base_uri": "https://localhost:8080/",
          "height": 204
        },
        "id": "tJxicqYF5fxe",
        "outputId": "88f4ec44-1d07-4ef7-9cff-2c8b32aeee12"
      },
      "source": [
        "!cp \"/content/drive/MyDrive/alura/bootcamp-data-science/internacoes_24052021.csv\" .\n",
        "internacoes = pd.read_csv(\"/content/internacoes_24052021.csv\", encoding=\"ISO-8859-1\", sep=\";\")\n",
        "\n",
        "internacoes.head()"
      ],
      "execution_count": 6,
      "outputs": [
        {
          "output_type": "execute_result",
          "data": {
            "text/html": [
              "<div>\n",
              "<style scoped>\n",
              "    .dataframe tbody tr th:only-of-type {\n",
              "        vertical-align: middle;\n",
              "    }\n",
              "\n",
              "    .dataframe tbody tr th {\n",
              "        vertical-align: top;\n",
              "    }\n",
              "\n",
              "    .dataframe thead th {\n",
              "        text-align: right;\n",
              "    }\n",
              "</style>\n",
              "<table border=\"1\" class=\"dataframe\">\n",
              "  <thead>\n",
              "    <tr style=\"text-align: right;\">\n",
              "      <th></th>\n",
              "      <th>DT_NOTIFIC</th>\n",
              "      <th>CS_SEXO</th>\n",
              "      <th>NU_IDADE_N</th>\n",
              "    </tr>\n",
              "  </thead>\n",
              "  <tbody>\n",
              "    <tr>\n",
              "      <th>0</th>\n",
              "      <td>05/01/2021</td>\n",
              "      <td>F</td>\n",
              "      <td>46</td>\n",
              "    </tr>\n",
              "    <tr>\n",
              "      <th>1</th>\n",
              "      <td>04/01/2021</td>\n",
              "      <td>M</td>\n",
              "      <td>3</td>\n",
              "    </tr>\n",
              "    <tr>\n",
              "      <th>2</th>\n",
              "      <td>04/01/2021</td>\n",
              "      <td>F</td>\n",
              "      <td>84</td>\n",
              "    </tr>\n",
              "    <tr>\n",
              "      <th>3</th>\n",
              "      <td>04/01/2021</td>\n",
              "      <td>M</td>\n",
              "      <td>65</td>\n",
              "    </tr>\n",
              "    <tr>\n",
              "      <th>4</th>\n",
              "      <td>08/01/2021</td>\n",
              "      <td>M</td>\n",
              "      <td>16</td>\n",
              "    </tr>\n",
              "  </tbody>\n",
              "</table>\n",
              "</div>"
            ],
            "text/plain": [
              "   DT_NOTIFIC CS_SEXO  NU_IDADE_N\n",
              "0  05/01/2021       F          46\n",
              "1  04/01/2021       M           3\n",
              "2  04/01/2021       F          84\n",
              "3  04/01/2021       M          65\n",
              "4  08/01/2021       M          16"
            ]
          },
          "metadata": {
            "tags": []
          },
          "execution_count": 6
        }
      ]
    },
    {
      "cell_type": "markdown",
      "metadata": {
        "id": "-50r2jSlb7ya"
      },
      "source": [
        "# Exploração inicial"
      ]
    },
    {
      "cell_type": "markdown",
      "metadata": {
        "id": "ZMCTm_gpVYTK"
      },
      "source": [
        "Exploração inicial para visualizar e entender como estão distribuídos os dados."
      ]
    },
    {
      "cell_type": "code",
      "metadata": {
        "colab": {
          "base_uri": "https://localhost:8080/",
          "height": 247
        },
        "id": "jzNC7wym9Q7X",
        "outputId": "4c28cee7-41e2-448b-f8fa-2375172c2e53"
      },
      "source": [
        "fig, axes = plt.subplots(nrows=1, ncols=2, figsize=(14,3))\n",
        "\n",
        "# Tem uma pessoa com 221 anos!\n",
        "ax = dados['paciente_idade'].plot(kind='hist', bins=[x for x in range(0,100,5)],\n",
        "                             edgecolor='black', ax=axes[0],\n",
        "                             title=\"Distribuição de vacinados por idade\")\n",
        "ax.set_ylabel(\"Quantidade\")\n",
        "ax.set_xlabel(\"Idade dividida em conjuntos de 5 anos\")\n",
        "ax = dados['estabelecimento_uf'] \\\n",
        "  .value_counts().plot(kind='bar',  ax=axes[1], edgecolor='black',\n",
        "                       title=\"Distribuição de vacinados por estado\")\n",
        "ax.set_xlabel(\"Estados\")\n",
        "plt.show()"
      ],
      "execution_count": 7,
      "outputs": [
        {
          "output_type": "display_data",
          "data": {
            "image/png": "[encoded data removed]",
            "text/plain": [
              "<Figure size 1008x216 with 2 Axes>"
            ]
          },
          "metadata": {
            "tags": [],
            "needs_background": "light"
          }
        }
      ]
    },
    {
      "cell_type": "markdown",
      "metadata": {
        "id": "Uoi5PUQH1HMB"
      },
      "source": [
        "Com os gráficos acima, é possível ver a vacinação avançando na população prioritária, como idosos. No gráfico a direita, vemos os números absolutos por estado. São Paulo, como mais populoso, tem a maior quantidade de vacinados.\n",
        "\n",
        "Vale ressaltar que, como este data set é apenas 0.1% do original, então o valor real das quantidades é mil vezes maior."
      ]
    },
    {
      "cell_type": "code",
      "metadata": {
        "colab": {
          "base_uri": "https://localhost:8080/"
        },
        "id": "yZS_IfzV-Nrc",
        "outputId": "bd0b3b0c-63fd-484a-dd7c-9fd678181e8a"
      },
      "source": [
        "dados['vacina_fabricante_nome'].value_counts()"
      ],
      "execution_count": 8,
      "outputs": [
        {
          "output_type": "execute_result",
          "data": {
            "text/plain": [
              "FUNDACAO BUTANTAN        25457\n",
              "FUNDACAO OSWALDO CRUZ    11746\n",
              "SINOVAC                   5437\n",
              "ASTRAZENECA/OXFORD        3577\n",
              "Sinovac                   2986\n",
              "                         ...  \n",
              "BUTANTAM                     1\n",
              "FIOCRUZ/ASTRAZENECA          1\n",
              "Pfizer/BioNTech              1\n",
              "OXFORD/ ASTRAZENECA          1\n",
              "sinovac/butantan             1\n",
              "Name: vacina_fabricante_nome, Length: 62, dtype: int64"
            ]
          },
          "metadata": {
            "tags": []
          },
          "execution_count": 8
        }
      ]
    },
    {
      "cell_type": "markdown",
      "metadata": {
        "id": "LNw6SY-Eb_fs"
      },
      "source": [
        "Não existe padrão de preenchimento de dados para o nome das vacinas.\n",
        "\n",
        "Foram listados todos os nomes para uma planilha, então estes nomes foram mapeados para nomes \"comerciais\". Esse mapeamento está no arquivo 'vaccines_normalization.csv'. Essa lista contém os valores apenas para 0.1% das linhas extraídas."
      ]
    },
    {
      "cell_type": "code",
      "metadata": {
        "colab": {
          "base_uri": "https://localhost:8080/"
        },
        "id": "vPk0J_LA-fPo",
        "outputId": "6ea5f01e-15cd-4e8b-b3d3-86c9fe20c054"
      },
      "source": [
        "!cp \"/content/drive/MyDrive/alura/bootcamp-data-science/vaccines_normalization_v2.csv\" .\n",
        "label_vacinas = pd.read_csv(\"/content/vaccines_normalization_v2.csv\",\n",
        "                            encoding=\"ISO-8859-1\", sep=\",\")\n",
        "label_vacinas = label_vacinas.set_index('label')\n",
        "label_vacinas = label_vacinas.to_dict()\n",
        "label_vacinas = label_vacinas['vaccine']\n",
        "vacinas_normalizada = []\n",
        "for vc in dados['vacina_fabricante_nome']:\n",
        "  if type(vc) != float: # NaN no dataframe\n",
        "    vacinas_normalizada.append(label_vacinas[vc])\n",
        "  else:\n",
        "    vacinas_normalizada.append('Unknown')\n",
        "dados['vacina_fabricante_nome_n'] = vacinas_normalizada\n",
        "# Removendo outlier de \"Dose unica\"\n",
        "dados = dados.drop(52217)\n",
        "\n",
        "dados['vacina_fabricante_nome_n'].value_counts()"
      ],
      "execution_count": 9,
      "outputs": [
        {
          "output_type": "execute_result",
          "data": {
            "text/plain": [
              "CoronaVac      36004\n",
              "AstraZeneca    18405\n",
              "MS              1319\n",
              "Unknown         1258\n",
              "Pfizer           453\n",
              "Sanofi             2\n",
              "Name: vacina_fabricante_nome_n, dtype: int64"
            ]
          },
          "metadata": {
            "tags": []
          },
          "execution_count": 9
        }
      ]
    },
    {
      "cell_type": "markdown",
      "metadata": {
        "id": "uq_C2jC_WzPg"
      },
      "source": [
        "Dada a não padronização dos nomes da vacina no dataset original, temos nomes de vacinas como MS (aka 'Ministério da Saúde') a qual não sabemos qual é. Um detalhe interessante, é que essa amostra pegou uma vacina ainda em testes, da Sanofi."
      ]
    },
    {
      "cell_type": "code",
      "metadata": {
        "colab": {
          "base_uri": "https://localhost:8080/",
          "height": 280
        },
        "id": "8OhXlZQmdT9D",
        "outputId": "e40d0274-e97c-40fd-9940-ae95895d21d3"
      },
      "source": [
        "fig, axes = plt.subplots(nrows=1, ncols=2, figsize=(10,3))\n",
        "ax = dados['vacina_fabricante_nome_n'] \\\n",
        "  .value_counts().plot(kind='bar', ax=axes[0],\n",
        "                       title=\"Doses aplicadas por fabricante\", \n",
        "                       edgecolor='black')\n",
        "ax.set_ylabel(\"Quantidade\")\n",
        "ax = dados['vacina_descricao_dose'] \\\n",
        "  .value_counts().plot(kind='bar', ax=axes[1],\n",
        "                       title=\"Quantidade primeiras e segundas doses aplicadas\",\n",
        "                       rot=0, edgecolor='black')\n",
        "\n",
        "ax.set_xticklabels([\"1ª Dose\", \"2ª Dose\"])\n",
        "plt.show()"
      ],
      "execution_count": 10,
      "outputs": [
        {
          "output_type": "display_data",
          "data": {
            "image/png": "[encoded data removed]",
            "text/plain": [
              "<Figure size 720x216 with 2 Axes>"
            ]
          },
          "metadata": {
            "tags": [],
            "needs_background": "light"
          }
        }
      ]
    },
    {
      "cell_type": "markdown",
      "metadata": {
        "id": "Y-p0NhWi2cE7"
      },
      "source": [
        "Nos gráficos acima, podemos ver a distribuição de doses aplicadas, sendo mais de 50% da CoronaVac seguida pela AstraZeneca. A vacinação da Pfizer havia acabado de começar quando os dados foram extraídos.\n",
        "\n",
        "O gráfico a esquerda compara a quantidade de doses aplicadas entre 1ª e 2ª dose. Essa discrepância pode estar relacionada a vacina da AstraZenica, que possui um intervalo de 3 meses entre a primeira e segunda dose."
      ]
    },
    {
      "cell_type": "markdown",
      "metadata": {
        "id": "MFoHp3e7XfIW"
      },
      "source": [
        "Outro problea encontrado é a falta de preenchimento de alguns campos, como \"Raça/Cor\". Onde 25% dos dados tem \"Sem Informação\"."
      ]
    },
    {
      "cell_type": "code",
      "metadata": {
        "colab": {
          "base_uri": "https://localhost:8080/"
        },
        "id": "3G8ZzWUngEAl",
        "outputId": "822dbd93-8780-4a4c-a346-65c875c74901"
      },
      "source": [
        "dados['paciente_racacor_valor'].value_counts() / len(dados['paciente_racacor_valor']) * 100"
      ],
      "execution_count": 11,
      "outputs": [
        {
          "output_type": "execute_result",
          "data": {
            "text/plain": [
              "BRANCA            37.934576\n",
              "SEM INFORMACAO    25.993628\n",
              "PARDA             18.253512\n",
              "AMARELA           12.656465\n",
              "PRETA              4.472415\n",
              "INDIGENA           0.689403\n",
              "Name: paciente_racacor_valor, dtype: float64"
            ]
          },
          "metadata": {
            "tags": []
          },
          "execution_count": 11
        }
      ]
    },
    {
      "cell_type": "markdown",
      "metadata": {
        "id": "GpyPa9rlXoDU"
      },
      "source": [
        "O que leva às mulheres a terem ~60% de vacinação, enquanto que os homents apenas ~40%?"
      ]
    },
    {
      "cell_type": "code",
      "metadata": {
        "colab": {
          "base_uri": "https://localhost:8080/"
        },
        "id": "hV9gp5FLWn4r",
        "outputId": "e99ea528-3bc8-491f-e855-7603643af750"
      },
      "source": [
        "dados['paciente_enumsexobiologico'].value_counts() / len(dados['paciente_enumsexobiologico']) * 100"
      ],
      "execution_count": 12,
      "outputs": [
        {
          "output_type": "execute_result",
          "data": {
            "text/plain": [
              "F    59.212061\n",
              "M    40.787939\n",
              "Name: paciente_enumsexobiologico, dtype: float64"
            ]
          },
          "metadata": {
            "tags": []
          },
          "execution_count": 12
        }
      ]
    },
    {
      "cell_type": "markdown",
      "metadata": {
        "id": "IhQJb-KH5A4P"
      },
      "source": [
        "## Dados de Vacincação"
      ]
    },
    {
      "cell_type": "markdown",
      "metadata": {
        "id": "HG2ZX6KPYos-"
      },
      "source": [
        "As datas nos dão uma distribuição no tempo de quantas doses foram aplicadas, porém no formato atual, elas ficam um pouco complicadas de serem trabalhadas. \n",
        "\n",
        "Vamos criar uma nova coluna para analisar a distribuição por mês."
      ]
    },
    {
      "cell_type": "code",
      "metadata": {
        "colab": {
          "base_uri": "https://localhost:8080/",
          "height": 258
        },
        "id": "qaRje-KYhkpO",
        "outputId": "2dcc8572-2606-4fa2-f93b-c328f34c2da3"
      },
      "source": [
        "dados['vacina_dataaplicacao_mes'] = [\"-\".join(dt.split('-')[:2])\n",
        "                                     for dt in dados['vacina_dataaplicacao']]\n",
        "dados.head()"
      ],
      "execution_count": 13,
      "outputs": [
        {
          "output_type": "execute_result",
          "data": {
            "text/html": [
              "<div>\n",
              "<style scoped>\n",
              "    .dataframe tbody tr th:only-of-type {\n",
              "        vertical-align: middle;\n",
              "    }\n",
              "\n",
              "    .dataframe tbody tr th {\n",
              "        vertical-align: top;\n",
              "    }\n",
              "\n",
              "    .dataframe thead th {\n",
              "        text-align: right;\n",
              "    }\n",
              "</style>\n",
              "<table border=\"1\" class=\"dataframe\">\n",
              "  <thead>\n",
              "    <tr style=\"text-align: right;\">\n",
              "      <th></th>\n",
              "      <th>paciente_idade</th>\n",
              "      <th>paciente_enumsexobiologico</th>\n",
              "      <th>paciente_racacor_valor</th>\n",
              "      <th>paciente_endereco_uf</th>\n",
              "      <th>estabelecimento_uf</th>\n",
              "      <th>vacina_fabricante_nome</th>\n",
              "      <th>vacina_dataaplicacao</th>\n",
              "      <th>vacina_descricao_dose</th>\n",
              "      <th>vacina_fabricante_nome_n</th>\n",
              "      <th>vacina_dataaplicacao_mes</th>\n",
              "    </tr>\n",
              "  </thead>\n",
              "  <tbody>\n",
              "    <tr>\n",
              "      <th>0</th>\n",
              "      <td>73.0</td>\n",
              "      <td>F</td>\n",
              "      <td>AMARELA</td>\n",
              "      <td>PR</td>\n",
              "      <td>PR</td>\n",
              "      <td>FUNDACAO BUTANTAN</td>\n",
              "      <td>2021-04-06</td>\n",
              "      <td>1</td>\n",
              "      <td>CoronaVac</td>\n",
              "      <td>2021-04</td>\n",
              "    </tr>\n",
              "    <tr>\n",
              "      <th>1</th>\n",
              "      <td>65.0</td>\n",
              "      <td>F</td>\n",
              "      <td>SEM INFORMACAO</td>\n",
              "      <td>DF</td>\n",
              "      <td>DF</td>\n",
              "      <td>FUNDACAO OSWALDO CRUZ</td>\n",
              "      <td>2021-04-19</td>\n",
              "      <td>1</td>\n",
              "      <td>AstraZeneca</td>\n",
              "      <td>2021-04</td>\n",
              "    </tr>\n",
              "    <tr>\n",
              "      <th>2</th>\n",
              "      <td>59.0</td>\n",
              "      <td>M</td>\n",
              "      <td>AMARELA</td>\n",
              "      <td>CE</td>\n",
              "      <td>CE</td>\n",
              "      <td>PFIZER/BIONTECH</td>\n",
              "      <td>2021-05-08</td>\n",
              "      <td>1</td>\n",
              "      <td>Pfizer</td>\n",
              "      <td>2021-05</td>\n",
              "    </tr>\n",
              "    <tr>\n",
              "      <th>3</th>\n",
              "      <td>47.0</td>\n",
              "      <td>F</td>\n",
              "      <td>SEM INFORMACAO</td>\n",
              "      <td>RN</td>\n",
              "      <td>RN</td>\n",
              "      <td>FUNDACAO BUTANTAN</td>\n",
              "      <td>2021-03-25</td>\n",
              "      <td>1</td>\n",
              "      <td>CoronaVac</td>\n",
              "      <td>2021-03</td>\n",
              "    </tr>\n",
              "    <tr>\n",
              "      <th>4</th>\n",
              "      <td>64.0</td>\n",
              "      <td>M</td>\n",
              "      <td>AMARELA</td>\n",
              "      <td>RJ</td>\n",
              "      <td>RJ</td>\n",
              "      <td>FUNDACAO OSWALDO CRUZ</td>\n",
              "      <td>2021-04-19</td>\n",
              "      <td>1</td>\n",
              "      <td>AstraZeneca</td>\n",
              "      <td>2021-04</td>\n",
              "    </tr>\n",
              "  </tbody>\n",
              "</table>\n",
              "</div>"
            ],
            "text/plain": [
              "   paciente_idade  ... vacina_dataaplicacao_mes\n",
              "0            73.0  ...                  2021-04\n",
              "1            65.0  ...                  2021-04\n",
              "2            59.0  ...                  2021-05\n",
              "3            47.0  ...                  2021-03\n",
              "4            64.0  ...                  2021-04\n",
              "\n",
              "[5 rows x 10 columns]"
            ]
          },
          "metadata": {
            "tags": []
          },
          "execution_count": 13
        }
      ]
    },
    {
      "cell_type": "code",
      "metadata": {
        "colab": {
          "base_uri": "https://localhost:8080/",
          "height": 436
        },
        "id": "KXekPXVMiDE7",
        "outputId": "ecd3221b-96e6-4ed3-de88-97ac18d45ffa"
      },
      "source": [
        "# Há uma vacina aplicada em 03/2020, provavelmente erro de preenchimento\n",
        "# por isso o [1:]\n",
        "ax = dados.groupby(['vacina_dataaplicacao_mes','vacina_descricao_dose']) \\\n",
        "  .size().unstack()[1:].plot(kind='bar', edgecolor='black', figsize=(10,6))\n",
        "# ax = dados.groupby(['vacina_dataaplicacao_mes','vacina_fabricante_nome_n', 'vacina_descricao_dose']) \\\n",
        "#   .size().unstack('vacina_fabricante_nome_n')[1:].plot(kind='bar', edgecolor='black', figsize=(10,6), stacked=True)\n",
        "ax.set_title(\"Doses aplicadas por mês\")\n",
        "ax.set_ylabel(\"Quantidade\")\n",
        "ax.set_xlabel(\"Aplicação de vacinas por mês\")\n",
        "ax.legend([\"1ª Dose\", \"2ª Dose\"])\n",
        "plt.show()"
      ],
      "execution_count": 14,
      "outputs": [
        {
          "output_type": "display_data",
          "data": {
            "image/png": "[encoded data removed]",
            "text/plain": [
              "<Figure size 720x432 with 1 Axes>"
            ]
          },
          "metadata": {
            "tags": [],
            "needs_background": "light"
          }
        }
      ]
    },
    {
      "cell_type": "markdown",
      "metadata": {
        "id": "vqcTbBQxZDAc"
      },
      "source": [
        "Temos o inicio da vacinação no Brasil com doses da CoronaVac para os profissionais da saúde, seguido dos idosos. Isso explica o pico de vacinação no mês de Março e o crescimento exponencial da segunda dose em Abril.\n",
        "\n",
        "Os dados apresentados acima nos dão um bom panorama de quando as vacinas começaram e como estão indo em relação a primeira e segunda dose.\n",
        "\n",
        "Vamos granuzalizar esses dados por semana."
      ]
    },
    {
      "cell_type": "code",
      "metadata": {
        "colab": {
          "base_uri": "https://localhost:8080/",
          "height": 258
        },
        "id": "Flek44zPkuU6",
        "outputId": "7bb0f8c3-2a68-4026-bd48-8cb1b5ac216a"
      },
      "source": [
        "from datetime import datetime\n",
        "date_format = '%Y-%m-%d'\n",
        "dados['vacina_dataaplicacao_semana'] = \\\n",
        "  [datetime.strptime(dt, date_format).isocalendar()[1]\n",
        "   for dt in dados['vacina_dataaplicacao']]\n",
        "dados.head()"
      ],
      "execution_count": 15,
      "outputs": [
        {
          "output_type": "execute_result",
          "data": {
            "text/html": [
              "<div>\n",
              "<style scoped>\n",
              "    .dataframe tbody tr th:only-of-type {\n",
              "        vertical-align: middle;\n",
              "    }\n",
              "\n",
              "    .dataframe tbody tr th {\n",
              "        vertical-align: top;\n",
              "    }\n",
              "\n",
              "    .dataframe thead th {\n",
              "        text-align: right;\n",
              "    }\n",
              "</style>\n",
              "<table border=\"1\" class=\"dataframe\">\n",
              "  <thead>\n",
              "    <tr style=\"text-align: right;\">\n",
              "      <th></th>\n",
              "      <th>paciente_idade</th>\n",
              "      <th>paciente_enumsexobiologico</th>\n",
              "      <th>paciente_racacor_valor</th>\n",
              "      <th>paciente_endereco_uf</th>\n",
              "      <th>estabelecimento_uf</th>\n",
              "      <th>vacina_fabricante_nome</th>\n",
              "      <th>vacina_dataaplicacao</th>\n",
              "      <th>vacina_descricao_dose</th>\n",
              "      <th>vacina_fabricante_nome_n</th>\n",
              "      <th>vacina_dataaplicacao_mes</th>\n",
              "      <th>vacina_dataaplicacao_semana</th>\n",
              "    </tr>\n",
              "  </thead>\n",
              "  <tbody>\n",
              "    <tr>\n",
              "      <th>0</th>\n",
              "      <td>73.0</td>\n",
              "      <td>F</td>\n",
              "      <td>AMARELA</td>\n",
              "      <td>PR</td>\n",
              "      <td>PR</td>\n",
              "      <td>FUNDACAO BUTANTAN</td>\n",
              "      <td>2021-04-06</td>\n",
              "      <td>1</td>\n",
              "      <td>CoronaVac</td>\n",
              "      <td>2021-04</td>\n",
              "      <td>14</td>\n",
              "    </tr>\n",
              "    <tr>\n",
              "      <th>1</th>\n",
              "      <td>65.0</td>\n",
              "      <td>F</td>\n",
              "      <td>SEM INFORMACAO</td>\n",
              "      <td>DF</td>\n",
              "      <td>DF</td>\n",
              "      <td>FUNDACAO OSWALDO CRUZ</td>\n",
              "      <td>2021-04-19</td>\n",
              "      <td>1</td>\n",
              "      <td>AstraZeneca</td>\n",
              "      <td>2021-04</td>\n",
              "      <td>16</td>\n",
              "    </tr>\n",
              "    <tr>\n",
              "      <th>2</th>\n",
              "      <td>59.0</td>\n",
              "      <td>M</td>\n",
              "      <td>AMARELA</td>\n",
              "      <td>CE</td>\n",
              "      <td>CE</td>\n",
              "      <td>PFIZER/BIONTECH</td>\n",
              "      <td>2021-05-08</td>\n",
              "      <td>1</td>\n",
              "      <td>Pfizer</td>\n",
              "      <td>2021-05</td>\n",
              "      <td>18</td>\n",
              "    </tr>\n",
              "    <tr>\n",
              "      <th>3</th>\n",
              "      <td>47.0</td>\n",
              "      <td>F</td>\n",
              "      <td>SEM INFORMACAO</td>\n",
              "      <td>RN</td>\n",
              "      <td>RN</td>\n",
              "      <td>FUNDACAO BUTANTAN</td>\n",
              "      <td>2021-03-25</td>\n",
              "      <td>1</td>\n",
              "      <td>CoronaVac</td>\n",
              "      <td>2021-03</td>\n",
              "      <td>12</td>\n",
              "    </tr>\n",
              "    <tr>\n",
              "      <th>4</th>\n",
              "      <td>64.0</td>\n",
              "      <td>M</td>\n",
              "      <td>AMARELA</td>\n",
              "      <td>RJ</td>\n",
              "      <td>RJ</td>\n",
              "      <td>FUNDACAO OSWALDO CRUZ</td>\n",
              "      <td>2021-04-19</td>\n",
              "      <td>1</td>\n",
              "      <td>AstraZeneca</td>\n",
              "      <td>2021-04</td>\n",
              "      <td>16</td>\n",
              "    </tr>\n",
              "  </tbody>\n",
              "</table>\n",
              "</div>"
            ],
            "text/plain": [
              "   paciente_idade  ... vacina_dataaplicacao_semana\n",
              "0            73.0  ...                          14\n",
              "1            65.0  ...                          16\n",
              "2            59.0  ...                          18\n",
              "3            47.0  ...                          12\n",
              "4            64.0  ...                          16\n",
              "\n",
              "[5 rows x 11 columns]"
            ]
          },
          "metadata": {
            "tags": []
          },
          "execution_count": 15
        }
      ]
    },
    {
      "cell_type": "code",
      "metadata": {
        "colab": {
          "base_uri": "https://localhost:8080/",
          "height": 411
        },
        "id": "aJXAVV82lvhZ",
        "outputId": "55ade7a9-7f6b-4456-eabe-c83c02e3a89a"
      },
      "source": [
        "ax = dados.groupby(['vacina_dataaplicacao_semana','vacina_descricao_dose']) \\\n",
        "  .size().unstack().plot(kind='bar', figsize=(20,6), edgecolor='black')\n",
        "semana_ano = [Week(2021, isoweek).monday().strftime(\"%d/%b\") for isoweek in range(3,21)]\n",
        "ax.set_xticklabels(semana_ano, rotation=45)\n",
        "ax.legend([\"1ª Dose\", \"2ª Dose\"])\n",
        "ax.set_xlabel(\"Aplicação de vacinas por semana\")\n",
        "ax.set_ylabel(\"Quantidade\")\n",
        "l = ax.get_legend()\n",
        "plt.show()"
      ],
      "execution_count": 16,
      "outputs": [
        {
          "output_type": "display_data",
          "data": {
            "image/png": "[encoded data removed]",
            "text/plain": [
              "<Figure size 1440x432 with 1 Axes>"
            ]
          },
          "metadata": {
            "tags": [],
            "needs_background": "light"
          }
        }
      ]
    },
    {
      "cell_type": "markdown",
      "metadata": {
        "id": "zWb-ul6f8tok"
      },
      "source": [
        "Gráfico acima apresenta um resultado similar ao anteiror, exceto que com maior granularidade. Em Abril, podemos ver que há semanas onde a quantidade segundas doses são maiores que as primeiras. Isso de dá pelo pico de vacinação em 22 de Março."
      ]
    },
    {
      "cell_type": "markdown",
      "metadata": {
        "id": "-z5UPb06qgKE"
      },
      "source": [
        "Vacinados por idade com gênero sobrepostos"
      ]
    },
    {
      "cell_type": "code",
      "metadata": {
        "colab": {
          "base_uri": "https://localhost:8080/",
          "height": 295
        },
        "id": "NTmmh7_cofvl",
        "outputId": "64a6219b-c563-40e6-ef05-7898eff31b93"
      },
      "source": [
        "import matplotlib.patches as mpatches\n",
        "bins_idade = [x for x in range(0,120,5)]\n",
        "bins_idade.append(120)\n",
        "ax = dados.groupby('paciente_enumsexobiologico')['paciente_idade'].plot(kind='hist', bins=bins_idade,\n",
        "                             edgecolor='black',# orientation='horizontal',\n",
        "                             title=\"Distribuição de vacinados por idade\")\n",
        "st_shot = mpatches.Patch(facecolor='#1f76b4', edgecolor='k', label=\"Feminino\")\n",
        "nd_shot = mpatches.Patch(facecolor='#ff7e0e', edgecolor='k', label=\"Masculino\")\n",
        "plt.ylabel(\"Quantidade\")\n",
        "plt.xlabel(\"Idade dividida em conjuntos de 5 anos\")\n",
        "plt.legend(handles=[st_shot, nd_shot])\n",
        "plt.show()"
      ],
      "execution_count": 17,
      "outputs": [
        {
          "output_type": "display_data",
          "data": {
            "image/png": "[encoded data removed]",
            "text/plain": [
              "<Figure size 432x288 with 1 Axes>"
            ]
          },
          "metadata": {
            "tags": [],
            "needs_background": "light"
          }
        }
      ]
    },
    {
      "cell_type": "markdown",
      "metadata": {
        "id": "cwSsK2tQ9QbP"
      },
      "source": [
        "Como já haviamos observado, a população femnina é mais vacinada que a masculina."
      ]
    },
    {
      "cell_type": "markdown",
      "metadata": {
        "id": "hG_ideIe5aLm"
      },
      "source": [
        "## Dados de Internação"
      ]
    },
    {
      "cell_type": "markdown",
      "metadata": {
        "id": "wk2y4Hue6Qpk"
      },
      "source": [
        "Vamos inciar a exploração dos dados de internações.\n",
        "\n"
      ]
    },
    {
      "cell_type": "code",
      "metadata": {
        "colab": {
          "base_uri": "https://localhost:8080/",
          "height": 204
        },
        "id": "Fb3kxrRq6D2s",
        "outputId": "b78108ad-316b-4965-cf12-e3bed6cf1c86"
      },
      "source": [
        "from datetime import datetime\n",
        "date_format = '%d/%m/%Y'\n",
        "internacoes['notificacao_semana'] = \\\n",
        "  [datetime.strptime(dt, date_format).isocalendar()[1]\n",
        "   for dt in internacoes['DT_NOTIFIC']]\n",
        "internacoes.head()"
      ],
      "execution_count": 18,
      "outputs": [
        {
          "output_type": "execute_result",
          "data": {
            "text/html": [
              "<div>\n",
              "<style scoped>\n",
              "    .dataframe tbody tr th:only-of-type {\n",
              "        vertical-align: middle;\n",
              "    }\n",
              "\n",
              "    .dataframe tbody tr th {\n",
              "        vertical-align: top;\n",
              "    }\n",
              "\n",
              "    .dataframe thead th {\n",
              "        text-align: right;\n",
              "    }\n",
              "</style>\n",
              "<table border=\"1\" class=\"dataframe\">\n",
              "  <thead>\n",
              "    <tr style=\"text-align: right;\">\n",
              "      <th></th>\n",
              "      <th>DT_NOTIFIC</th>\n",
              "      <th>CS_SEXO</th>\n",
              "      <th>NU_IDADE_N</th>\n",
              "      <th>notificacao_semana</th>\n",
              "    </tr>\n",
              "  </thead>\n",
              "  <tbody>\n",
              "    <tr>\n",
              "      <th>0</th>\n",
              "      <td>05/01/2021</td>\n",
              "      <td>F</td>\n",
              "      <td>46</td>\n",
              "      <td>1</td>\n",
              "    </tr>\n",
              "    <tr>\n",
              "      <th>1</th>\n",
              "      <td>04/01/2021</td>\n",
              "      <td>M</td>\n",
              "      <td>3</td>\n",
              "      <td>1</td>\n",
              "    </tr>\n",
              "    <tr>\n",
              "      <th>2</th>\n",
              "      <td>04/01/2021</td>\n",
              "      <td>F</td>\n",
              "      <td>84</td>\n",
              "      <td>1</td>\n",
              "    </tr>\n",
              "    <tr>\n",
              "      <th>3</th>\n",
              "      <td>04/01/2021</td>\n",
              "      <td>M</td>\n",
              "      <td>65</td>\n",
              "      <td>1</td>\n",
              "    </tr>\n",
              "    <tr>\n",
              "      <th>4</th>\n",
              "      <td>08/01/2021</td>\n",
              "      <td>M</td>\n",
              "      <td>16</td>\n",
              "      <td>1</td>\n",
              "    </tr>\n",
              "  </tbody>\n",
              "</table>\n",
              "</div>"
            ],
            "text/plain": [
              "   DT_NOTIFIC CS_SEXO  NU_IDADE_N  notificacao_semana\n",
              "0  05/01/2021       F          46                   1\n",
              "1  04/01/2021       M           3                   1\n",
              "2  04/01/2021       F          84                   1\n",
              "3  04/01/2021       M          65                   1\n",
              "4  08/01/2021       M          16                   1"
            ]
          },
          "metadata": {
            "tags": []
          },
          "execution_count": 18
        }
      ]
    },
    {
      "cell_type": "code",
      "metadata": {
        "colab": {
          "base_uri": "https://localhost:8080/"
        },
        "id": "z3hK7oNx6cl1",
        "outputId": "736b3bd5-d573-4353-bd7b-89aeb624d78d"
      },
      "source": [
        "internacoes.groupby('notificacao_semana').size()"
      ],
      "execution_count": 19,
      "outputs": [
        {
          "output_type": "execute_result",
          "data": {
            "text/plain": [
              "notificacao_semana\n",
              "1     10216\n",
              "2     26030\n",
              "3     30277\n",
              "4     29723\n",
              "5     30696\n",
              "6     32150\n",
              "7     35761\n",
              "8     44240\n",
              "9     52289\n",
              "10    61393\n",
              "11    68757\n",
              "12    68499\n",
              "13    60171\n",
              "14    57957\n",
              "15    52758\n",
              "16    46287\n",
              "17    45091\n",
              "18    42601\n",
              "19    40803\n",
              "20    32487\n",
              "21        8\n",
              "53      173\n",
              "dtype: int64"
            ]
          },
          "metadata": {
            "tags": []
          },
          "execution_count": 19
        }
      ]
    },
    {
      "cell_type": "markdown",
      "metadata": {
        "id": "RZCoyTMNGOrT"
      },
      "source": [
        "A semana 53 são os primeiros dias do ano de 2021, então, estou associando esse valores para a semana 1"
      ]
    },
    {
      "cell_type": "code",
      "metadata": {
        "colab": {
          "base_uri": "https://localhost:8080/",
          "height": 419
        },
        "id": "asnWJ-e-DMM0",
        "outputId": "5dbb387a-c233-429e-a337-fa85aca2ffb2"
      },
      "source": [
        "internacoes.query(\"notificacao_semana > 20\")"
      ],
      "execution_count": 20,
      "outputs": [
        {
          "output_type": "execute_result",
          "data": {
            "text/html": [
              "<div>\n",
              "<style scoped>\n",
              "    .dataframe tbody tr th:only-of-type {\n",
              "        vertical-align: middle;\n",
              "    }\n",
              "\n",
              "    .dataframe tbody tr th {\n",
              "        vertical-align: top;\n",
              "    }\n",
              "\n",
              "    .dataframe thead th {\n",
              "        text-align: right;\n",
              "    }\n",
              "</style>\n",
              "<table border=\"1\" class=\"dataframe\">\n",
              "  <thead>\n",
              "    <tr style=\"text-align: right;\">\n",
              "      <th></th>\n",
              "      <th>DT_NOTIFIC</th>\n",
              "      <th>CS_SEXO</th>\n",
              "      <th>NU_IDADE_N</th>\n",
              "      <th>notificacao_semana</th>\n",
              "    </tr>\n",
              "  </thead>\n",
              "  <tbody>\n",
              "    <tr>\n",
              "      <th>41</th>\n",
              "      <td>03/01/2021</td>\n",
              "      <td>F</td>\n",
              "      <td>54</td>\n",
              "      <td>53</td>\n",
              "    </tr>\n",
              "    <tr>\n",
              "      <th>46</th>\n",
              "      <td>03/01/2021</td>\n",
              "      <td>M</td>\n",
              "      <td>26</td>\n",
              "      <td>53</td>\n",
              "    </tr>\n",
              "    <tr>\n",
              "      <th>6608</th>\n",
              "      <td>03/01/2021</td>\n",
              "      <td>M</td>\n",
              "      <td>81</td>\n",
              "      <td>53</td>\n",
              "    </tr>\n",
              "    <tr>\n",
              "      <th>7136</th>\n",
              "      <td>03/01/2021</td>\n",
              "      <td>M</td>\n",
              "      <td>73</td>\n",
              "      <td>53</td>\n",
              "    </tr>\n",
              "    <tr>\n",
              "      <th>20919</th>\n",
              "      <td>03/01/2021</td>\n",
              "      <td>M</td>\n",
              "      <td>55</td>\n",
              "      <td>53</td>\n",
              "    </tr>\n",
              "    <tr>\n",
              "      <th>...</th>\n",
              "      <td>...</td>\n",
              "      <td>...</td>\n",
              "      <td>...</td>\n",
              "      <td>...</td>\n",
              "    </tr>\n",
              "    <tr>\n",
              "      <th>833123</th>\n",
              "      <td>03/01/2021</td>\n",
              "      <td>F</td>\n",
              "      <td>55</td>\n",
              "      <td>53</td>\n",
              "    </tr>\n",
              "    <tr>\n",
              "      <th>836331</th>\n",
              "      <td>03/01/2021</td>\n",
              "      <td>M</td>\n",
              "      <td>52</td>\n",
              "      <td>53</td>\n",
              "    </tr>\n",
              "    <tr>\n",
              "      <th>840200</th>\n",
              "      <td>03/01/2021</td>\n",
              "      <td>M</td>\n",
              "      <td>50</td>\n",
              "      <td>53</td>\n",
              "    </tr>\n",
              "    <tr>\n",
              "      <th>850186</th>\n",
              "      <td>03/01/2021</td>\n",
              "      <td>F</td>\n",
              "      <td>69</td>\n",
              "      <td>53</td>\n",
              "    </tr>\n",
              "    <tr>\n",
              "      <th>863001</th>\n",
              "      <td>03/01/2021</td>\n",
              "      <td>M</td>\n",
              "      <td>57</td>\n",
              "      <td>53</td>\n",
              "    </tr>\n",
              "  </tbody>\n",
              "</table>\n",
              "<p>181 rows × 4 columns</p>\n",
              "</div>"
            ],
            "text/plain": [
              "        DT_NOTIFIC CS_SEXO  NU_IDADE_N  notificacao_semana\n",
              "41      03/01/2021       F          54                  53\n",
              "46      03/01/2021       M          26                  53\n",
              "6608    03/01/2021       M          81                  53\n",
              "7136    03/01/2021       M          73                  53\n",
              "20919   03/01/2021       M          55                  53\n",
              "...            ...     ...         ...                 ...\n",
              "833123  03/01/2021       F          55                  53\n",
              "836331  03/01/2021       M          52                  53\n",
              "840200  03/01/2021       M          50                  53\n",
              "850186  03/01/2021       F          69                  53\n",
              "863001  03/01/2021       M          57                  53\n",
              "\n",
              "[181 rows x 4 columns]"
            ]
          },
          "metadata": {
            "tags": []
          },
          "execution_count": 20
        }
      ]
    },
    {
      "cell_type": "code",
      "metadata": {
        "id": "BkXmXavkGNPU"
      },
      "source": [
        "internacoes.loc[internacoes['notificacao_semana'] > 20, 'notificacao_semana'] = 1"
      ],
      "execution_count": 21,
      "outputs": []
    },
    {
      "cell_type": "markdown",
      "metadata": {
        "id": "MjZvj5w10dFl"
      },
      "source": [
        "# Vanicação por idade"
      ]
    },
    {
      "cell_type": "markdown",
      "metadata": {
        "id": "r1NkppS_0qlI"
      },
      "source": [
        "O Gráfico abaixo mostra a quantidade de pessoas vacinadas por gênero e dose. Vale ressaltar que isso são apenas 0.1% das amostras, a quantidade de vacinados 'real' é 1000 vezes maior."
      ]
    },
    {
      "cell_type": "code",
      "metadata": {
        "colab": {
          "base_uri": "https://localhost:8080/",
          "height": 417
        },
        "id": "nOu7tY-XqKsV",
        "outputId": "6e420eb6-c3be-4058-da34-d737e4584fbf"
      },
      "source": [
        "import matplotlib.patches as mpatches\n",
        "\n",
        "fig, axes = plt.subplots(nrows=1, ncols=2, figsize=(10,6))\n",
        "fig.suptitle(\"Pirâmide etária\")\n",
        "plt.subplots_adjust(wspace=0, hspace=0)\n",
        "y_lim_sup = 110\n",
        "y_lim_inf = 0\n",
        "x_lim_sup = 4000\n",
        "axes[0].set_xlim(0,x_lim_sup)\n",
        "axes[1].set_xlim(0,x_lim_sup)\n",
        "axes[0].set_ylim(y_lim_inf,y_lim_sup)\n",
        "axes[1].set_ylim(y_lim_inf,y_lim_sup)\n",
        "axes[0].invert_xaxis()\n",
        "\n",
        "for group in dados.groupby(['paciente_enumsexobiologico','vacina_descricao_dose']):\n",
        "  if group[0][0] is 'M':\n",
        "    idade_maculina = group[1]['paciente_idade']\n",
        "    ax = idade_maculina.plot(kind='hist', edgecolor='black', bins=bins_idade,\n",
        "                             orientation='horizontal', ax=axes[0], grid=True,\n",
        "                             title=\"Maculino\")\n",
        "    ax.set_xlabel(\"\")\n",
        "    ax.set_ylabel(\"Idade\")\n",
        "  if group[0][0] is 'F': # Genero\n",
        "    idade_feminina = group[1]['paciente_idade']\n",
        "    ax = idade_feminina.plot(kind='hist', bins=bins_idade, edgecolor='black',\n",
        "                             orientation='horizontal', ax=axes[1], grid=True,\n",
        "                             title=\"Feminino\")\n",
        "    ax.set_yticklabels([])\n",
        "    ax.set_xlabel(\"\")\n",
        "\n",
        "st_shot = mpatches.Patch(facecolor='#1f76b4', edgecolor='k', label=\"1ª Dose\")\n",
        "nd_shot = mpatches.Patch(facecolor='#ff7e0e', edgecolor='k', label=\"2ª Dose\")\n",
        "plt.legend(handles=[st_shot, nd_shot])\n",
        "plt.show()"
      ],
      "execution_count": 22,
      "outputs": [
        {
          "output_type": "display_data",
          "data": {
            "image/png": "[encoded data removed]",
            "text/plain": [
              "<Figure size 720x432 with 2 Axes>"
            ]
          },
          "metadata": {
            "tags": [],
            "needs_background": "light"
          }
        }
      ]
    },
    {
      "cell_type": "markdown",
      "metadata": {
        "id": "W9cd8o799zmz"
      },
      "source": [
        "O gráfico acima demonstra a pirâmide etária dos vacinados por gênero e doses.\n",
        "Neste gráfico, também fica explicito o maior volume de vacinação no sexo feminino."
      ]
    },
    {
      "cell_type": "markdown",
      "metadata": {
        "id": "6ascSi4L1bjl"
      },
      "source": [
        "## Pirâmide etária"
      ]
    },
    {
      "cell_type": "markdown",
      "metadata": {
        "id": "VehpP5YWLItt"
      },
      "source": [
        "Apesar dessa pirâmide etária acima já contar algumas informações importantes, como a população feminina estar mais vacinada, e a maor quantidade de vacinados em grupos de idade mais alta. Ainda apresenta alguns problemas, como a comparação com a população total.\n",
        "\n",
        "Dados coletados da pirâmide etária foram adicionados para dar mais um grau de profundidade a análise da vacinação Brasileira.\n",
        "\n",
        "Fonte: https://www.populationpyramid.net/pt/brasil/2021/"
      ]
    },
    {
      "cell_type": "code",
      "metadata": {
        "id": "2HOv2rTfY1du"
      },
      "source": [
        "bins_idade = [x for x in range(0,120,5)]\n",
        "d_bins_f = {}\n",
        "# Agrupando dados nos bins para o histrograma\n",
        "for group in dados.groupby(['paciente_enumsexobiologico','vacina_descricao_dose']):\n",
        "  d_bins_f[f'{group[0][0]}{str(group[0][1])}'] = np.histogram(group[1]['paciente_idade'], bins=bins_idade)[0].tolist()\n",
        "\n",
        "# Vacinados com idade acima de 100 anos estão sendo agrupados no grupo 99+\n",
        "for k in d_bins_f:\n",
        "  first_years = d_bins_f[k][:20]\n",
        "  first_years.append(sum(d_bins_f[k][20:]))\n",
        "  d_bins_f[k] = first_years.copy()\n",
        "df_hist_vac_f = pd.DataFrame()\n",
        "df_hist_vac_f = df_hist_vac_f.from_dict(d_bins_f)"
      ],
      "execution_count": 23,
      "outputs": []
    },
    {
      "cell_type": "code",
      "metadata": {
        "colab": {
          "base_uri": "https://localhost:8080/",
          "height": 204
        },
        "id": "m80Dmdad2_6f",
        "outputId": "f911e5d1-cc9c-41bf-f9eb-40dc07134e2c"
      },
      "source": [
        "!cp \"/content/drive/MyDrive/alura/bootcamp-data-science/population_pyramid_brasil_2021.csv\" .\n",
        "pir_etaria = pd.read_csv(\"/content/population_pyramid_brasil_2021.csv\")\n",
        "df_hist_vac = pd.DataFrame()\n",
        "df_hist_vac = df_hist_vac.from_dict(d_bins_f)\n",
        "df_piramide = pd.concat([pir_etaria, df_hist_vac], axis=1)\n",
        "# Como extraimos 0.1%, vamos multiplicar por mil as vacinas já aplicadas\n",
        "# Porem! Vamos dividir por milhão para simplificar os eixos do gráfico!\n",
        "df_piramide['M1']  = df_piramide['M1']/1000.0\n",
        "df_piramide['F1']  = df_piramide['F1']/1000.0\n",
        "df_piramide['M2']  = df_piramide['M2']/1000.0\n",
        "df_piramide['F2']  = df_piramide['F2']/1000.0\n",
        "df_piramide['F']  = df_piramide['F']/10**6\n",
        "df_piramide['M']  = df_piramide['M']/10**6\n",
        "df_piramide.head()"
      ],
      "execution_count": 24,
      "outputs": [
        {
          "output_type": "execute_result",
          "data": {
            "text/html": [
              "<div>\n",
              "<style scoped>\n",
              "    .dataframe tbody tr th:only-of-type {\n",
              "        vertical-align: middle;\n",
              "    }\n",
              "\n",
              "    .dataframe tbody tr th {\n",
              "        vertical-align: top;\n",
              "    }\n",
              "\n",
              "    .dataframe thead th {\n",
              "        text-align: right;\n",
              "    }\n",
              "</style>\n",
              "<table border=\"1\" class=\"dataframe\">\n",
              "  <thead>\n",
              "    <tr style=\"text-align: right;\">\n",
              "      <th></th>\n",
              "      <th>Age</th>\n",
              "      <th>M</th>\n",
              "      <th>F</th>\n",
              "      <th>F1</th>\n",
              "      <th>F2</th>\n",
              "      <th>M1</th>\n",
              "      <th>M2</th>\n",
              "    </tr>\n",
              "  </thead>\n",
              "  <tbody>\n",
              "    <tr>\n",
              "      <th>0</th>\n",
              "      <td>0-4</td>\n",
              "      <td>7.357796</td>\n",
              "      <td>7.027050</td>\n",
              "      <td>0.000</td>\n",
              "      <td>0.000</td>\n",
              "      <td>0.001</td>\n",
              "      <td>0.000</td>\n",
              "    </tr>\n",
              "    <tr>\n",
              "      <th>1</th>\n",
              "      <td>5-9</td>\n",
              "      <td>7.456918</td>\n",
              "      <td>7.126488</td>\n",
              "      <td>0.000</td>\n",
              "      <td>0.000</td>\n",
              "      <td>0.000</td>\n",
              "      <td>0.000</td>\n",
              "    </tr>\n",
              "    <tr>\n",
              "      <th>2</th>\n",
              "      <td>10-14</td>\n",
              "      <td>7.550011</td>\n",
              "      <td>7.244662</td>\n",
              "      <td>0.000</td>\n",
              "      <td>0.000</td>\n",
              "      <td>0.000</td>\n",
              "      <td>0.000</td>\n",
              "    </tr>\n",
              "    <tr>\n",
              "      <th>3</th>\n",
              "      <td>15-19</td>\n",
              "      <td>8.110694</td>\n",
              "      <td>7.827868</td>\n",
              "      <td>0.109</td>\n",
              "      <td>0.045</td>\n",
              "      <td>0.064</td>\n",
              "      <td>0.013</td>\n",
              "    </tr>\n",
              "    <tr>\n",
              "      <th>4</th>\n",
              "      <td>20-24</td>\n",
              "      <td>8.630334</td>\n",
              "      <td>8.410568</td>\n",
              "      <td>0.557</td>\n",
              "      <td>0.285</td>\n",
              "      <td>0.294</td>\n",
              "      <td>0.144</td>\n",
              "    </tr>\n",
              "  </tbody>\n",
              "</table>\n",
              "</div>"
            ],
            "text/plain": [
              "     Age         M         F     F1     F2     M1     M2\n",
              "0    0-4  7.357796  7.027050  0.000  0.000  0.001  0.000\n",
              "1    5-9  7.456918  7.126488  0.000  0.000  0.000  0.000\n",
              "2  10-14  7.550011  7.244662  0.000  0.000  0.000  0.000\n",
              "3  15-19  8.110694  7.827868  0.109  0.045  0.064  0.013\n",
              "4  20-24  8.630334  8.410568  0.557  0.285  0.294  0.144"
            ]
          },
          "metadata": {
            "tags": []
          },
          "execution_count": 24
        }
      ]
    },
    {
      "cell_type": "code",
      "metadata": {
        "colab": {
          "base_uri": "https://localhost:8080/",
          "height": 460
        },
        "id": "zHsVlYM9Ezem",
        "outputId": "cbe26cb9-c90b-4634-8bd3-ce8112202f5f"
      },
      "source": [
        "import seaborn as sns\n",
        "sns.set_theme()\n",
        "\n",
        "fig, axes = plt.subplots(nrows=1, ncols=2, figsize=(10,6))\n",
        "fig.suptitle(\"Pirâmide etária\")\n",
        "fig.text(0.5, 0.04, 'População em milhão', ha='center', va='center')\n",
        "plt.subplots_adjust(wspace=0, hspace=0)\n",
        "axes[0].invert_xaxis()\n",
        "\n",
        "sns.barplot(x=\"M\",y=\"Age\", color=\"#1f76b4\", data = df_piramide, ax=axes[0], edgecolor='black')\n",
        "sns.barplot(x=\"M1\",y=\"Age\", color=\"#ff7e0e\", data = df_piramide, ax=axes[0], edgecolor='black')\n",
        "sns.barplot(x=\"M2\",y=\"Age\", color=\"g\", data = df_piramide, ax=axes[0], edgecolor='black')\n",
        "\n",
        "sns.barplot(x=\"F\",y=\"Age\", color=\"#1f76b4\", data = df_piramide, ax=axes[1], edgecolor='black')\n",
        "sns.barplot(x=\"F1\",y=\"Age\", color=\"#ff7e0e\", data = df_piramide, ax=axes[1], edgecolor='black')\n",
        "sns.barplot(x=\"F2\",y=\"Age\", color=\"g\", data = df_piramide, ax=axes[1], edgecolor='black')\n",
        "\n",
        "axes[0].invert_yaxis()\n",
        "axes[1].invert_yaxis()\n",
        "axes[1].set_yticklabels([])\n",
        "axes[0].set_ylabel(\"Idade\")\n",
        "axes[1].set_ylabel(\"\")\n",
        "axes[0].set_xlabel(\"\")\n",
        "axes[1].set_xlabel(\"\")\n",
        "axes[0].xaxis.set_major_formatter(ticker.StrMethodFormatter(\"{x:,.0f} mi\"))\n",
        "axes[1].xaxis.set_major_formatter(ticker.StrMethodFormatter(\"{x:,.0f} mi\"))\n",
        "axes[1].tick_params(left=False)\n",
        "\n",
        "pop = mpatches.Patch(facecolor='#1f76b4', edgecolor='k', label=\"População total\")\n",
        "st_shot = mpatches.Patch(facecolor='#ff7e0e', edgecolor='k', label=\"1ª Dose\")\n",
        "nd_shot = mpatches.Patch(facecolor='#5f9e6e', edgecolor='k', label=\"2ª Dose\")\n",
        "plt.legend(handles=[pop, st_shot, nd_shot])"
      ],
      "execution_count": 25,
      "outputs": [
        {
          "output_type": "execute_result",
          "data": {
            "text/plain": [
              "<matplotlib.legend.Legend at 0x7f6d962019d0>"
            ]
          },
          "metadata": {
            "tags": []
          },
          "execution_count": 25
        },
        {
          "output_type": "display_data",
          "data": {
            "image/png": "[encoded data removed]",
            "text/plain": [
              "<Figure size 720x432 with 2 Axes>"
            ]
          },
          "metadata": {
            "tags": []
          }
        }
      ]
    },
    {
      "cell_type": "markdown",
      "metadata": {
        "id": "3NejJkfE-pNj"
      },
      "source": [
        "Com o gráfico acima, vemos a distribuição de vacinados na população total. É possível notar que a população acima de 70 anos tem uma boa cobertura. E que de 60 a 70 temos um avanço muito grande.\n",
        "\n",
        "Outro detalhe, é a distribuição de vacinas nos grupos mais jovens. Seja por serem profissionais da saúde ou pessoas com comorbidades."
      ]
    },
    {
      "cell_type": "code",
      "metadata": {
        "colab": {
          "base_uri": "https://localhost:8080/",
          "height": 235
        },
        "id": "P_cN8OTUDkiO",
        "outputId": "22e7f49e-93ef-4c55-dacd-3e7a64f2a1c7"
      },
      "source": [
        "bins_idade = [x for x in range(0,120,20)]\n",
        "hist_por_semana_por_idade_vac = {}\n",
        "hist_por_semana_por_idade_vac['Age'] = [f'{bins_idade[bin]}-{bins_idade[bin+1]-1}' for bin in range(len(bins_idade)-1)]\n",
        "\n",
        "for group in dados.query(\"vacina_descricao_dose == '1'\").groupby(['vacina_dataaplicacao_semana']):\n",
        "  hist_por_semana_por_idade_vac[group[0]] = np.histogram(group[1]['paciente_idade'], bins=bins_idade)[0].tolist()\n",
        "df_hist_semana_por_idade_vac = pd.DataFrame()\n",
        "df_hist_semana_por_idade_vac = df_hist_semana_por_idade_vac.from_dict(hist_por_semana_por_idade_vac)\n",
        "df_hist_semana_por_idade_vac = df_hist_semana_por_idade_vac.set_index('Age')\n",
        "df_hist_semana_por_idade_vac = df_hist_semana_por_idade_vac*1000\n",
        "df_hist_semana_por_idade_vac.head()"
      ],
      "execution_count": 26,
      "outputs": [
        {
          "output_type": "execute_result",
          "data": {
            "text/html": [
              "<div>\n",
              "<style scoped>\n",
              "    .dataframe tbody tr th:only-of-type {\n",
              "        vertical-align: middle;\n",
              "    }\n",
              "\n",
              "    .dataframe tbody tr th {\n",
              "        vertical-align: top;\n",
              "    }\n",
              "\n",
              "    .dataframe thead th {\n",
              "        text-align: right;\n",
              "    }\n",
              "</style>\n",
              "<table border=\"1\" class=\"dataframe\">\n",
              "  <thead>\n",
              "    <tr style=\"text-align: right;\">\n",
              "      <th></th>\n",
              "      <th>3</th>\n",
              "      <th>4</th>\n",
              "      <th>5</th>\n",
              "      <th>6</th>\n",
              "      <th>7</th>\n",
              "      <th>8</th>\n",
              "      <th>9</th>\n",
              "      <th>10</th>\n",
              "      <th>11</th>\n",
              "      <th>12</th>\n",
              "      <th>13</th>\n",
              "      <th>14</th>\n",
              "      <th>15</th>\n",
              "      <th>16</th>\n",
              "      <th>17</th>\n",
              "      <th>18</th>\n",
              "      <th>19</th>\n",
              "      <th>20</th>\n",
              "    </tr>\n",
              "    <tr>\n",
              "      <th>Age</th>\n",
              "      <th></th>\n",
              "      <th></th>\n",
              "      <th></th>\n",
              "      <th></th>\n",
              "      <th></th>\n",
              "      <th></th>\n",
              "      <th></th>\n",
              "      <th></th>\n",
              "      <th></th>\n",
              "      <th></th>\n",
              "      <th></th>\n",
              "      <th></th>\n",
              "      <th></th>\n",
              "      <th></th>\n",
              "      <th></th>\n",
              "      <th></th>\n",
              "      <th></th>\n",
              "      <th></th>\n",
              "    </tr>\n",
              "  </thead>\n",
              "  <tbody>\n",
              "    <tr>\n",
              "      <th>0-19</th>\n",
              "      <td>16000</td>\n",
              "      <td>7000</td>\n",
              "      <td>7000</td>\n",
              "      <td>13000</td>\n",
              "      <td>7000</td>\n",
              "      <td>7000</td>\n",
              "      <td>5000</td>\n",
              "      <td>2000</td>\n",
              "      <td>3000</td>\n",
              "      <td>5000</td>\n",
              "      <td>9000</td>\n",
              "      <td>13000</td>\n",
              "      <td>4000</td>\n",
              "      <td>5000</td>\n",
              "      <td>8000</td>\n",
              "      <td>23000</td>\n",
              "      <td>22000</td>\n",
              "      <td>18000</td>\n",
              "    </tr>\n",
              "    <tr>\n",
              "      <th>20-39</th>\n",
              "      <td>594000</td>\n",
              "      <td>674000</td>\n",
              "      <td>527000</td>\n",
              "      <td>302000</td>\n",
              "      <td>111000</td>\n",
              "      <td>76000</td>\n",
              "      <td>103000</td>\n",
              "      <td>96000</td>\n",
              "      <td>95000</td>\n",
              "      <td>168000</td>\n",
              "      <td>172000</td>\n",
              "      <td>220000</td>\n",
              "      <td>152000</td>\n",
              "      <td>123000</td>\n",
              "      <td>136000</td>\n",
              "      <td>341000</td>\n",
              "      <td>427000</td>\n",
              "      <td>412000</td>\n",
              "    </tr>\n",
              "    <tr>\n",
              "      <th>40-59</th>\n",
              "      <td>445000</td>\n",
              "      <td>565000</td>\n",
              "      <td>431000</td>\n",
              "      <td>244000</td>\n",
              "      <td>104000</td>\n",
              "      <td>59000</td>\n",
              "      <td>115000</td>\n",
              "      <td>58000</td>\n",
              "      <td>71000</td>\n",
              "      <td>131000</td>\n",
              "      <td>154000</td>\n",
              "      <td>349000</td>\n",
              "      <td>299000</td>\n",
              "      <td>240000</td>\n",
              "      <td>340000</td>\n",
              "      <td>858000</td>\n",
              "      <td>1833000</td>\n",
              "      <td>1420000</td>\n",
              "    </tr>\n",
              "    <tr>\n",
              "      <th>60-79</th>\n",
              "      <td>115000</td>\n",
              "      <td>155000</td>\n",
              "      <td>143000</td>\n",
              "      <td>175000</td>\n",
              "      <td>70000</td>\n",
              "      <td>77000</td>\n",
              "      <td>711000</td>\n",
              "      <td>855000</td>\n",
              "      <td>1975000</td>\n",
              "      <td>4236000</td>\n",
              "      <td>3578000</td>\n",
              "      <td>2316000</td>\n",
              "      <td>1802000</td>\n",
              "      <td>2312000</td>\n",
              "      <td>1405000</td>\n",
              "      <td>1633000</td>\n",
              "      <td>440000</td>\n",
              "      <td>113000</td>\n",
              "    </tr>\n",
              "    <tr>\n",
              "      <th>80-99</th>\n",
              "      <td>45000</td>\n",
              "      <td>101000</td>\n",
              "      <td>314000</td>\n",
              "      <td>801000</td>\n",
              "      <td>446000</td>\n",
              "      <td>488000</td>\n",
              "      <td>1049000</td>\n",
              "      <td>483000</td>\n",
              "      <td>222000</td>\n",
              "      <td>104000</td>\n",
              "      <td>41000</td>\n",
              "      <td>31000</td>\n",
              "      <td>17000</td>\n",
              "      <td>22000</td>\n",
              "      <td>7000</td>\n",
              "      <td>4000</td>\n",
              "      <td>7000</td>\n",
              "      <td>5000</td>\n",
              "    </tr>\n",
              "  </tbody>\n",
              "</table>\n",
              "</div>"
            ],
            "text/plain": [
              "           3       4       5       6   ...       17       18       19       20\n",
              "Age                                    ...                                    \n",
              "0-19    16000    7000    7000   13000  ...     8000    23000    22000    18000\n",
              "20-39  594000  674000  527000  302000  ...   136000   341000   427000   412000\n",
              "40-59  445000  565000  431000  244000  ...   340000   858000  1833000  1420000\n",
              "60-79  115000  155000  143000  175000  ...  1405000  1633000   440000   113000\n",
              "80-99   45000  101000  314000  801000  ...     7000     4000     7000     5000\n",
              "\n",
              "[5 rows x 18 columns]"
            ]
          },
          "metadata": {
            "tags": []
          },
          "execution_count": 26
        }
      ]
    },
    {
      "cell_type": "markdown",
      "metadata": {
        "id": "a3tiH1jj3ZEm"
      },
      "source": [
        "## Vacinação por semana"
      ]
    },
    {
      "cell_type": "code",
      "metadata": {
        "colab": {
          "base_uri": "https://localhost:8080/",
          "height": 435
        },
        "id": "A36QDFFEBU-7",
        "outputId": "63925e8b-fd95-4e10-9ab4-6cc734e737e1"
      },
      "source": [
        "df_hist_semana_por_idade_vac_p = df_hist_semana_por_idade_vac / 10**6\n",
        "ax = df_hist_semana_por_idade_vac_p.T.plot(figsize=(10,6), grid=True)\n",
        "ax.set_xlim(1,20)\n",
        "semana_ano = [Week(2021, isoweek).monday().strftime(\"%d/%b\") for isoweek in range(1,21)]\n",
        "ax.set_xticklabels(semana_ano, rotation=45)\n",
        "plt.xticks(np.arange(1, 21, 1.0))\n",
        "ax.set_xlabel(\"Semana epidemiológica\")\n",
        "ax.set_ylabel(\"Número de vacinados\")\n",
        "ax.set_title(\"Vacinação por idade em 2021\")\n",
        "ax.yaxis.set_major_formatter(ticker.StrMethodFormatter(\"{x:,.0f} mi\"))\n",
        "plt.show()"
      ],
      "execution_count": 27,
      "outputs": [
        {
          "output_type": "display_data",
          "data": {
            "image/png": "[encoded data removed]",
            "text/plain": [
              "<Figure size 720x432 with 1 Axes>"
            ]
          },
          "metadata": {
            "tags": []
          }
        }
      ]
    },
    {
      "cell_type": "markdown",
      "metadata": {
        "id": "sD8f5zcovCxn"
      },
      "source": [
        "No gráfico acima, temos a quantidade de vacinados por grupos de 20 anos semana a semana. É notável no início da vacinação a mistura dos grupos de idades, isso ocorre porque inicio-se pelos profissionais da saúde. Após este grupo, o grupo dos idosos 80+ começou. E na semana de 8 de março inicio o grupo 60+."
      ]
    },
    {
      "cell_type": "markdown",
      "metadata": {
        "id": "-XtuM1GC3wOS"
      },
      "source": [
        "# Internação por Idade\n",
        "\n"
      ]
    },
    {
      "cell_type": "code",
      "metadata": {
        "colab": {
          "base_uri": "https://localhost:8080/",
          "height": 235
        },
        "id": "fYDpjSwg6_cu",
        "outputId": "ec04664c-2f60-42af-a05c-9a334523a3f6"
      },
      "source": [
        "bins_idade = [x for x in range(0,120,20)]\n",
        "\n",
        "hist_por_semana_por_idade = {}\n",
        "hist_por_semana_por_idade['Age'] = [f'{bins_idade[bin]}-{bins_idade[bin+1]-1}' for bin in range(len(bins_idade)-1)]\n",
        "\n",
        "for group in internacoes.groupby(['notificacao_semana']):\n",
        "  hist_por_semana_por_idade[group[0]] = np.histogram(group[1]['NU_IDADE_N'], bins=bins_idade)[0].tolist()\n",
        "df_hist_semana_por_idade = pd.DataFrame()\n",
        "df_hist_semana_por_idade = df_hist_semana_por_idade.from_dict(hist_por_semana_por_idade)\n",
        "df_hist_semana_por_idade = df_hist_semana_por_idade.set_index('Age')\n",
        "df_hist_semana_por_idade.head()"
      ],
      "execution_count": 28,
      "outputs": [
        {
          "output_type": "execute_result",
          "data": {
            "text/html": [
              "<div>\n",
              "<style scoped>\n",
              "    .dataframe tbody tr th:only-of-type {\n",
              "        vertical-align: middle;\n",
              "    }\n",
              "\n",
              "    .dataframe tbody tr th {\n",
              "        vertical-align: top;\n",
              "    }\n",
              "\n",
              "    .dataframe thead th {\n",
              "        text-align: right;\n",
              "    }\n",
              "</style>\n",
              "<table border=\"1\" class=\"dataframe\">\n",
              "  <thead>\n",
              "    <tr style=\"text-align: right;\">\n",
              "      <th></th>\n",
              "      <th>1</th>\n",
              "      <th>2</th>\n",
              "      <th>3</th>\n",
              "      <th>4</th>\n",
              "      <th>5</th>\n",
              "      <th>6</th>\n",
              "      <th>7</th>\n",
              "      <th>8</th>\n",
              "      <th>9</th>\n",
              "      <th>10</th>\n",
              "      <th>11</th>\n",
              "      <th>12</th>\n",
              "      <th>13</th>\n",
              "      <th>14</th>\n",
              "      <th>15</th>\n",
              "      <th>16</th>\n",
              "      <th>17</th>\n",
              "      <th>18</th>\n",
              "      <th>19</th>\n",
              "      <th>20</th>\n",
              "    </tr>\n",
              "    <tr>\n",
              "      <th>Age</th>\n",
              "      <th></th>\n",
              "      <th></th>\n",
              "      <th></th>\n",
              "      <th></th>\n",
              "      <th></th>\n",
              "      <th></th>\n",
              "      <th></th>\n",
              "      <th></th>\n",
              "      <th></th>\n",
              "      <th></th>\n",
              "      <th></th>\n",
              "      <th></th>\n",
              "      <th></th>\n",
              "      <th></th>\n",
              "      <th></th>\n",
              "      <th></th>\n",
              "      <th></th>\n",
              "      <th></th>\n",
              "      <th></th>\n",
              "      <th></th>\n",
              "    </tr>\n",
              "  </thead>\n",
              "  <tbody>\n",
              "    <tr>\n",
              "      <th>0-19</th>\n",
              "      <td>1280</td>\n",
              "      <td>2163</td>\n",
              "      <td>2168</td>\n",
              "      <td>2153</td>\n",
              "      <td>2219</td>\n",
              "      <td>2338</td>\n",
              "      <td>2622</td>\n",
              "      <td>2992</td>\n",
              "      <td>2997</td>\n",
              "      <td>3280</td>\n",
              "      <td>3418</td>\n",
              "      <td>3183</td>\n",
              "      <td>2748</td>\n",
              "      <td>2882</td>\n",
              "      <td>2860</td>\n",
              "      <td>2568</td>\n",
              "      <td>2669</td>\n",
              "      <td>2605</td>\n",
              "      <td>2863</td>\n",
              "      <td>2054</td>\n",
              "    </tr>\n",
              "    <tr>\n",
              "      <th>20-39</th>\n",
              "      <td>1119</td>\n",
              "      <td>2892</td>\n",
              "      <td>3258</td>\n",
              "      <td>3245</td>\n",
              "      <td>3610</td>\n",
              "      <td>4073</td>\n",
              "      <td>4752</td>\n",
              "      <td>5980</td>\n",
              "      <td>7078</td>\n",
              "      <td>8197</td>\n",
              "      <td>8981</td>\n",
              "      <td>9005</td>\n",
              "      <td>7799</td>\n",
              "      <td>7745</td>\n",
              "      <td>7085</td>\n",
              "      <td>6461</td>\n",
              "      <td>6637</td>\n",
              "      <td>6659</td>\n",
              "      <td>6632</td>\n",
              "      <td>5550</td>\n",
              "    </tr>\n",
              "    <tr>\n",
              "      <th>40-59</th>\n",
              "      <td>2222</td>\n",
              "      <td>6886</td>\n",
              "      <td>8373</td>\n",
              "      <td>8367</td>\n",
              "      <td>8894</td>\n",
              "      <td>9597</td>\n",
              "      <td>10878</td>\n",
              "      <td>14042</td>\n",
              "      <td>17403</td>\n",
              "      <td>20789</td>\n",
              "      <td>23615</td>\n",
              "      <td>23633</td>\n",
              "      <td>20992</td>\n",
              "      <td>20048</td>\n",
              "      <td>18379</td>\n",
              "      <td>16726</td>\n",
              "      <td>16810</td>\n",
              "      <td>16675</td>\n",
              "      <td>16712</td>\n",
              "      <td>13964</td>\n",
              "    </tr>\n",
              "    <tr>\n",
              "      <th>60-79</th>\n",
              "      <td>3698</td>\n",
              "      <td>9858</td>\n",
              "      <td>11685</td>\n",
              "      <td>11340</td>\n",
              "      <td>11155</td>\n",
              "      <td>11571</td>\n",
              "      <td>12805</td>\n",
              "      <td>15772</td>\n",
              "      <td>18695</td>\n",
              "      <td>22583</td>\n",
              "      <td>25578</td>\n",
              "      <td>26053</td>\n",
              "      <td>23326</td>\n",
              "      <td>22258</td>\n",
              "      <td>20052</td>\n",
              "      <td>16807</td>\n",
              "      <td>15200</td>\n",
              "      <td>13179</td>\n",
              "      <td>11378</td>\n",
              "      <td>8346</td>\n",
              "    </tr>\n",
              "    <tr>\n",
              "      <th>80-99</th>\n",
              "      <td>2061</td>\n",
              "      <td>4199</td>\n",
              "      <td>4751</td>\n",
              "      <td>4574</td>\n",
              "      <td>4778</td>\n",
              "      <td>4545</td>\n",
              "      <td>4670</td>\n",
              "      <td>5405</td>\n",
              "      <td>6068</td>\n",
              "      <td>6507</td>\n",
              "      <td>7125</td>\n",
              "      <td>6589</td>\n",
              "      <td>5262</td>\n",
              "      <td>4986</td>\n",
              "      <td>4345</td>\n",
              "      <td>3703</td>\n",
              "      <td>3752</td>\n",
              "      <td>3459</td>\n",
              "      <td>3184</td>\n",
              "      <td>2547</td>\n",
              "    </tr>\n",
              "  </tbody>\n",
              "</table>\n",
              "</div>"
            ],
            "text/plain": [
              "         1     2      3      4      5   ...     16     17     18     19     20\n",
              "Age                                     ...                                   \n",
              "0-19   1280  2163   2168   2153   2219  ...   2568   2669   2605   2863   2054\n",
              "20-39  1119  2892   3258   3245   3610  ...   6461   6637   6659   6632   5550\n",
              "40-59  2222  6886   8373   8367   8894  ...  16726  16810  16675  16712  13964\n",
              "60-79  3698  9858  11685  11340  11155  ...  16807  15200  13179  11378   8346\n",
              "80-99  2061  4199   4751   4574   4778  ...   3703   3752   3459   3184   2547\n",
              "\n",
              "[5 rows x 20 columns]"
            ]
          },
          "metadata": {
            "tags": []
          },
          "execution_count": 28
        }
      ]
    },
    {
      "cell_type": "code",
      "metadata": {
        "colab": {
          "base_uri": "https://localhost:8080/",
          "height": 435
        },
        "id": "AWVJgAN79dtP",
        "outputId": "a99be56c-1a9f-4a72-c3a0-8d3d206abfd0"
      },
      "source": [
        "ax = df_hist_semana_por_idade.T.plot(figsize=(10,6), grid=True)\n",
        "ax.set_xlim(1,20)\n",
        "semana_ano = [Week(2021, isoweek).monday().strftime(\"%d/%b\") for isoweek in range(1,21)]\n",
        "ax.set_xticklabels(semana_ano, rotation=45)\n",
        "plt.xticks(np.arange(1, 21, 1.0))\n",
        "ax.set_xlabel(\"Semana epidemiológica\")\n",
        "ax.set_ylabel(\"Número de internações\")\n",
        "ax.set_title(\"Internações por idade em 2021\")\n",
        "plt.show()"
      ],
      "execution_count": 29,
      "outputs": [
        {
          "output_type": "display_data",
          "data": {
            "image/png": "[encoded data removed]",
            "text/plain": [
              "<Figure size 720x432 with 1 Axes>"
            ]
          },
          "metadata": {
            "tags": []
          }
        }
      ]
    },
    {
      "cell_type": "markdown",
      "metadata": {
        "id": "AA0pgMtp_gtc"
      },
      "source": [
        "Podemos observar no gráfico acima a curva de internações da segunda onda do COVID-19 no Brasil por idade. Os dados foram agrupados em conjuntos de 20 anos para simplificar a leitura.\n",
        "\n",
        "Um ponto interessante é que em Março houve o pico de internações, seguido de uma queda dada as medidas de isolamento social pelo País. Mas, após o arrefecimento das contiaminações e internações, as medidas de isolamento foram sendo abrandadas e isso pode ser observado apartir da semana 19 de Abril.\n",
        "\n",
        "Apartir de 19 de Abril, as internações entram em um platô para todas as idades, exceto maiores de 60 anos! Isso se dá pelo estado atual de cobertura da vacinação para esse grupo."
      ]
    },
    {
      "cell_type": "markdown",
      "metadata": {
        "id": "yf97UbbKBD7D"
      },
      "source": [
        "# Vacinação x Internação"
      ]
    },
    {
      "cell_type": "code",
      "metadata": {
        "id": "ti6Ug0q4Ehv1"
      },
      "source": [
        "grupo_60_mais_vac = df_hist_semana_por_idade_vac.T['60-79'] + df_hist_semana_por_idade_vac.T['80-99']\n",
        "grupo_60_mais_vac_acum = [0,0]\n",
        "acum = 0\n",
        "for semana in grupo_60_mais_vac:\n",
        "  acum += semana\n",
        "  grupo_60_mais_vac_acum.append(acum)\n",
        "grupo_60_mais_hosp = df_hist_semana_por_idade.T['60-79'] + df_hist_semana_por_idade.T['80-99']\n",
        "grupo_60_mais_hosp = grupo_60_mais_hosp.tolist()\n",
        "dict_60_mais = {'Hospitalizados' : grupo_60_mais_hosp,\n",
        "                'Vacinados' : grupo_60_mais_vac_acum}\n",
        "df_60_mais = pd.DataFrame()\n",
        "df_60_mais = df_60_mais.from_dict(dict_60_mais)\n",
        "df_60_mais = df_60_mais.set_index(df_hist_semana_por_idade.T.index)\n",
        "df_60_mais['Vacinados'] = df_60_mais['Vacinados']/10**6\n",
        "pop_total_60_mais = pir_etaria[12:][['M', 'F']].sum().sum()/10**6"
      ],
      "execution_count": 30,
      "outputs": []
    },
    {
      "cell_type": "code",
      "metadata": {
        "colab": {
          "base_uri": "https://localhost:8080/",
          "height": 406
        },
        "id": "-DI0Q1kscHQL",
        "outputId": "2964e3e8-781a-4d5f-fb7e-1acd76749437"
      },
      "source": [
        "fig, axes = plt.subplots(nrows=1, ncols=1, figsize=(10,6))\n",
        "plt.xticks(np.arange(1, 21, 1.0))\n",
        "sns.set_theme()\n",
        "\n",
        "ax1 = sns.lineplot(x=df_60_mais['Vacinados'].index, y=df_60_mais['Vacinados'], data=df_60_mais['Vacinados'], ax=axes)\n",
        "ax1.yaxis.set_major_formatter(ticker.StrMethodFormatter(\"{x:,.0f} mi\"))\n",
        "ax1.set_ylim(0,35)  # TODO Add line of 100% vacinated\n",
        "ax1.text(1.5, 31.5, \"População total acima de 60 anos\")\n",
        "ax1.axhline(pop_total_60_mais, ls='--', color='#1f76b4')\n",
        "ax1.text(11.2, 1.5, \"Inicio da vacinação em massa 60+\")\n",
        "ax1.axvline(11, ls='--', color='#ff7e0e')\n",
        "ax1.set_xticklabels(semana_ano, rotation=45)\n",
        "ax2 = ax1.twinx()\n",
        "sns.lineplot(x=df_60_mais['Hospitalizados'].index, y=df_60_mais['Hospitalizados'], data=df_60_mais['Hospitalizados'], ax=ax2, color='r')\n",
        "ax2.set_ylim(0,35000)\n",
        "ax2.set_xlim(1,20)\n",
        "\n",
        "pop = mpatches.Patch(facecolor='#1f76b4', edgecolor='k', label=\"Pop Vacinada 60+\")\n",
        "hosp = mpatches.Patch(facecolor='r', edgecolor='k', label=\"Hospitalizados\")\n",
        "# target_60_mais = mpatches.Patch(facecolor='#1f76b4', edgecolor='k', label=\"\",ls='--')\n",
        "plt.legend(handles=[pop, hosp])\n",
        "plt.show()"
      ],
      "execution_count": 31,
      "outputs": [
        {
          "output_type": "display_data",
          "data": {
            "image/png": "[encoded data removed]",
            "text/plain": [
              "<Figure size 720x432 with 2 Axes>"
            ]
          },
          "metadata": {
            "tags": []
          }
        }
      ]
    },
    {
      "cell_type": "markdown",
      "metadata": {
        "id": "asXcg3z3xidM"
      },
      "source": [
        "Observando os dados de vacinação e hospitalizações, podemos ver uma relação entre o momento em que as vacinações no grupo 60+ se inciam em massa e o número de internação dessa população caindo."
      ]
    },
    {
      "cell_type": "markdown",
      "metadata": {
        "id": "iVdcrjMF4V9N"
      },
      "source": [
        "# Conclusão\n",
        "\n",
        "A vacinação é um instrumento poderosíssimo contra a COVID-19. Isto, aliado a medidas de prevencão como distanciamento, máscara e higienização, podemos evitar ainda mais mortes.\n",
        "\n",
        "Se puder, fique em casa."
      ]
    }
  ]
}